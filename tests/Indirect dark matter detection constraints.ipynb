{
 "cells": [
  {
   "cell_type": "markdown",
   "metadata": {},
   "source": [
    "#  Indirect dark matter detection detection constatints in the SDFDM"
   ]
  },
  {
   "cell_type": "markdown",
   "metadata": {},
   "source": [
    "We expect here degenerate masses so we must be carefull about the DM particles that is registered by micrOMEGAS:\n",
    "\n",
    "We need to edit prtcls1.mld to have the righ order with Nv0 appearing first"
   ]
  },
  {
   "cell_type": "code",
   "execution_count": 1,
   "metadata": {
    "collapsed": false
   },
   "outputs": [
    {
     "name": "stdout",
     "output_type": "stream",
     "text": [
      "Populating the interactive namespace from numpy and matplotlib\n"
     ]
    }
   ],
   "source": [
    "%pylab inline"
   ]
  },
  {
   "cell_type": "code",
   "execution_count": 2,
   "metadata": {
    "collapsed": false
   },
   "outputs": [],
   "source": [
    "import pandas as pd\n",
    "import numpy as np\n",
    "import os, sys, inspect\n",
    "import commands\n",
    "from hep import *\n",
    "import pdg_series"
   ]
  },
  {
   "cell_type": "markdown",
   "metadata": {},
   "source": [
    "## Feynrules implementation\n",
    "[Preliminary Analysis](../../../../../2016/micromegas_feynrules/correr_micrOMEGAs-markov.ipynb)\n",
    "\n",
    "See also full results with user galcen in fisica? or gfif?"
   ]
  },
  {
   "cell_type": "markdown",
   "metadata": {},
   "source": [
    "\n",
    "## Benchmark point"
   ]
  },
  {
   "cell_type": "markdown",
   "metadata": {},
   "source": [
    "We choose a benchmark point with the following features\n",
    "* Large $\\langle\\sigma v\\rangle$\n",
    "* Right relic density"
   ]
  },
  {
   "cell_type": "code",
   "execution_count": 3,
   "metadata": {
    "collapsed": true
   },
   "outputs": [],
   "source": [
    "#1. CHOOSE A BENCHMARK POINT  \n",
    "#if 1==1:\n",
    "#    MDF = 110.;MN = 101.;tanb = 10.0;lam = 0.15;v=246.2196; \n",
    "def run_feynrules_SDFDM(MDF = 110.,MN = 101.,lu = 0.1,ld = 0.1,v=246.2196,path='../micromegas/SDFDM/main'):\n",
    "    o={}\n",
    "    #2. File to run micrOMEGAS installed in galcen\n",
    "    \n",
    "    #lu=lam*np.sin(np.arctan(tanb))\n",
    "    #ld=lam*np.cos(np.arctan(tanb))\n",
    "    \n",
    "    M=np.matrix([[ MN,                -ld*v/np.sqrt(2.),  lu*v/np.sqrt(2.)],\n",
    "             [ -ld*v/np.sqrt(2.),  0.,                MDF ],\n",
    "             [ lu*v/np.sqrt(2.),  MDF,               0. ]])\n",
    "\n",
    "    (Mchi,N)=np.linalg.eig(M)\n",
    "    \n",
    "    pd.Series({'MDF':MDF,'MN':MN,'ld':ld,'lu':lu,\\\n",
    "               'N11':N[0,0],'N12':N[0,1],'N13':N[0,2],\\\n",
    "               'N21':N[1,0],'N22':N[1,1],'N23':N[1,2],\\\n",
    "               'N31':N[2,0],'N32':N[2,1],'N33':N[2,2]}).to_csv('mo.dat',sep='\\t')\n",
    "\n",
    "    #3. Run micromegas\n",
    "    mo=commands.getoutput('%s mo.dat' %path)\n",
    "\n",
    "    #4. Extrac some of the output (Dependence of the micrOMEGAs vertion)\n",
    "    o['Full']=mo\n",
    "    o['Mchi']=Mchi\n",
    "    o['N']=N\n",
    "    o['Omega']=eval(mo.split('Omega=')[1].split('\\n')[0])\n",
    "    o['proton_SI']=eval(mo.split('proton  SI')[1].split('[')[0])\n",
    "    o['proton_SD']=eval(mo.split('proton  SI')[1].split('SD')[1].split('[')[0])\n",
    "    #o['neutron_SI']=eval(mo.split('proton  SI')[1].split('[')[0])\n",
    "    #o['neutron_SD']=eval(mo.split('proton  SI')[1].split('SD')[1].split('[')[0])\n",
    "    o['sigmav']=eval(mo.split('annihilation cross section')[1].split('cm^3/s\\n')[0])\n",
    "    return o"
   ]
  },
  {
   "cell_type": "code",
   "execution_count": 40,
   "metadata": {
    "collapsed": false
   },
   "outputs": [],
   "source": [
    "%%bash\n",
    "cd ../micromegas/SDFDM\n",
    "make main=main.c > /dev/null"
   ]
  },
  {
   "cell_type": "markdown",
   "metadata": {},
   "source": [
    "\n",
    "## Check one point"
   ]
  },
  {
   "cell_type": "code",
   "execution_count": 4,
   "metadata": {
    "collapsed": false
   },
   "outputs": [],
   "source": [
    "a=hep(MODEL='SimplifiedDMSDFDM')"
   ]
  },
  {
   "cell_type": "markdown",
   "metadata": {},
   "source": [
    "`a-object` is an object with many attributes and methods. Use the tab to explore them. Some of them are\n",
    "* a.Series: [pandas](http://pandas.pydata.org/) Series object with the \"relevant\" variables \n",
    "* a.LHA: Input LesHouces file as [pyslha](https://pypi.python.org/pypi/pyslha/) object\n",
    "* a.runSPheno() -> a.LHA_out: return LHA output files as [pyslha](https://pypi.python.org/pypi/pyslha/) object\n",
    "* a.runmicromegas() -> a.runSPheno() -> Updated the `a-object`  with micrOMEGAS \"relevant\" output"
   ]
  },
  {
   "cell_type": "code",
   "execution_count": 79,
   "metadata": {
    "collapsed": false
   },
   "outputs": [
    {
     "name": "stdout",
     "output_type": "stream",
     "text": [
      "Omega h^2, SI proton, neutron, MChi = 0.101 2.082e-10 2.135e-10 36.84391\n",
      "Omega h^2, SI proton, sigmav,Br_inv  = 0.104 2.993e-10 7.1e-29 0.153803127\n",
      "1.0 0.845128787\n"
     ]
    }
   ],
   "source": [
    "v=a.vev\n",
    "#lambda_1=0.13\n",
    "mdf=-200; MN=40; tanb=100.;lam=0.35\n",
    "lu=lam*np.sin(np.arctan(tanb))\n",
    "ld=lam*np.cos(np.arctan(tanb))\n",
    "devnull=commands.getoutput('rm -f SPheno.spc.%s' %a.MODEL)\n",
    "a.LHA.blocks['SPHENOINPUT'].entries[55]='0               # Calculate one loop masses'\n",
    "a.LHA.blocks['MINPAR'][2]='%0.8E       #MDF' %mdf\n",
    "a.LHA.blocks['MINPAR'][3]='%0.8E       # MnINPUT' %MN\n",
    "a.LHA.blocks['MINPAR'][4]='%0.8E       # lamuINPUT' %lu\n",
    "a.LHA.blocks['MINPAR'][5]='%0.8E       # lamdINPUT' %ld\n",
    "moc=a.runmicromegas(Direct_Detection=True)\n",
    "print 'Omega h^2, SI proton, neutron, MChi =',a.Series.Omega_h2,a.Series.proton_SI,a.Series.neutron_SI,\\\n",
    "    a.LHA_out.blocks['MASS'][a.pdg.pdg_name.Chi_1]\n",
    "#manual pdgs:\n",
    "a.pdg['Frep']=-210000601\n",
    "mof=run_feynrules_SDFDM(MDF = -a.Series.MDF,MN = a.Series.MnINPUT,\\\n",
    "                        lu = a.Series.lamuINPUT,ld = a.Series.lamdINPUT ,v=a.vev)\n",
    "#implement sigma_v\n",
    "mo=a.micromegas_output(mof['Full'])\n",
    "a.branchings(a.LHA_out.decays,min_pdg=25)\n",
    "print 'Omega h^2, SI proton, sigmav,Br_inv  =',mo.Omega_h2,mo.proton.SI,mo.sigmav,a.Br_names['h0 ->  Chi_1 Chi_1']\n",
    "print a.Br_names['Fre ->  Chi_1 W-'],a.Br_names['Chi_2 ->  Chi_1 Z0']"
   ]
  },
  {
   "cell_type": "markdown",
   "metadata": {},
   "source": [
    "List of constraints for DM=37 GeV and MD=200 GeV\n",
    "* $\\sigma(\\chi_{2,3}^0,\\chi^\\pm)\\operatorname{Br}$"
   ]
  },
  {
   "cell_type": "code",
   "execution_count": 53,
   "metadata": {
    "collapsed": false
   },
   "outputs": [
    {
     "name": "stdout",
     "output_type": "stream",
     "text": [
      "0.334 2.027e-10 8.08e-29\n"
     ]
    }
   ],
   "source": [
    "\n",
    "#mo=run_feynrules_SDFDM(MDF = eval(a.LHA.blocks['MINPAR'][2]),MN = eval(a.LHA.blocks['MINPAR'][3]),\\\n",
    "#                        lu = eval(a.LHA.blocks['MINPAR'][4]),ld = eval(a.LHA.blocks['MINPAR'][5]),v=a.vev)\n",
    "\n"
   ]
  },
  {
   "cell_type": "code",
   "execution_count": 51,
   "metadata": {
    "collapsed": false
   },
   "outputs": [
    {
     "data": {
      "text/plain": [
       "[4, 6, 13, 15, 1, 3, 5, 23, 24, 25, 1014, 1016, 210000601, 2, 11, 1012]"
      ]
     },
     "execution_count": 51,
     "metadata": {},
     "output_type": "execute_result"
    }
   ],
   "source": []
  },
  {
   "cell_type": "code",
   "execution_count": 73,
   "metadata": {
    "collapsed": false
   },
   "outputs": [
    {
     "data": {
      "text/plain": [
       "Fre ->  Chi_1 W-             1.000000e+00\n",
       "Chi_3 ->  Frep D UBAR        1.414900e-06\n",
       "Chi_3 ->  Fre TAU+ NUT       4.404919e-07\n",
       "Chi_3 ->  Fre SBAR C         1.365783e-06\n",
       "Chi_3 ->  Frep S CBAR        1.365783e-06\n",
       "Chi_3 ->  Frep MU- ANUM      4.715199e-07\n",
       "Chi_3 ->  Fre E+ NUE         4.716334e-07\n",
       "Chi_3 ->  Fre DBAR U         1.414900e-06\n",
       "Chi_3 ->  Chi_2 TAU+ TAU-    2.306475e-11\n",
       "Chi_3 ->  Chi_2 UBAR U       7.506597e-10\n",
       "Chi_3 ->  Chi_2 SBAR S       9.593106e-10\n",
       "Chi_3 ->  Chi_2 DBAR D       9.634054e-10\n",
       "Chi_3 ->  Chi_2 ANUT NUT     4.302990e-10\n",
       "Chi_3 ->  Chi_1 Z0           5.539797e-01\n",
       "Chi_3 ->  Fre MU+ NUM        4.715199e-07\n",
       "Chi_3 ->  Frep TAU- ANUT     4.404919e-07\n",
       "Chi_3 ->  Chi_2 CBAR C       3.349277e-10\n",
       "Chi_3 ->  Chi_1 h0           4.460119e-01\n",
       "Chi_3 ->  Chi_2 ANUM NUM     4.302990e-10\n",
       "Chi_3 ->  Chi_2 MU+ MU-      2.168401e-10\n",
       "Chi_3 ->  Frep E- ANUE       4.716334e-07\n",
       "Chi_3 ->  Chi_2 ANUE NUE     4.302990e-10\n",
       "Chi_3 ->  Chi_2 E+ E-        2.175491e-10\n",
       "Chi_2 ->  Chi_1 Z0           8.340722e-01\n",
       "Chi_2 ->  Chi_1 h0           1.659261e-01\n",
       "Chi_2 ->  Frep D UBAR        2.965126e-07\n",
       "Chi_2 ->  Fre E+ NUE         9.883759e-08\n",
       "Chi_2 ->  Fre TAU+ NUT       8.648280e-08\n",
       "Chi_2 ->  Frep S CBAR        2.766778e-07\n",
       "Chi_2 ->  Frep MU- ANUM      9.878957e-08\n",
       "Chi_2 ->  Fre MU+ NUM        9.878957e-08\n",
       "Chi_2 ->  Fre SBAR C         2.766778e-07\n",
       "Chi_2 ->  Fre DBAR U         2.965126e-07\n",
       "Chi_2 ->  Frep E- ANUE       9.883759e-08\n",
       "Chi_2 ->  Frep TAU- ANUT     8.648280e-08\n",
       "h0 ->  SBAR S                1.609090e-04\n",
       "h0 ->  DBAR D                4.473534e-07\n",
       "h0 ->  W- W+                 1.726064e-01\n",
       "h0 ->  GLUE GLUE             6.689525e-02\n",
       "h0 ->  PHOT PHOT             1.820262e-03\n",
       "h0 ->  Chi_1 Chi_1           2.380456e-01\n",
       "h0 ->  Z0 Z0                 1.892190e-02\n",
       "h0 ->  E+ E-                 3.880973e-09\n",
       "h0 ->  CBAR C                2.033045e-02\n",
       "h0 ->  UBAR U                8.558956e-08\n",
       "h0 ->  BBAR B                4.310010e-01\n",
       "h0 ->  MU+ MU-               1.733709e-04\n",
       "h0 ->  TAU+ TAU-             5.004422e-02\n",
       "dtype: float64"
      ]
     },
     "execution_count": 73,
     "metadata": {},
     "output_type": "execute_result"
    }
   ],
   "source": [
    "a.Br_names"
   ]
  },
  {
   "cell_type": "code",
   "execution_count": 12,
   "metadata": {
    "collapsed": false
   },
   "outputs": [
    {
     "data": {
      "text/plain": [
       "0.99984755599999997"
      ]
     },
     "execution_count": 12,
     "metadata": {},
     "output_type": "execute_result"
    }
   ],
   "source": [
    "a.Br_names['Fre ->  Chi_1 W-']"
   ]
  },
  {
   "cell_type": "markdown",
   "metadata": {},
   "source": [
    "## Scan"
   ]
  },
  {
   "cell_type": "code",
   "execution_count": 14,
   "metadata": {
    "collapsed": false
   },
   "outputs": [
    {
     "name": "stdout",
     "output_type": "stream",
     "text": [
      "\n",
      "Dark matter candidate is '~chi2' with spin=1/2 mass=1.62E+01\n",
      "\n",
      "=== MASSES OF HIGGS AND ODD PARTICLES: ===\n",
      "Higgs masses and widths\n",
      "      H   125.00 8.79E-03\n",
      "\n",
      "Masses of odd sector Particles:\n",
      "~chi : Mchi2 =    16.2 || ~X1n : MDF   =   500.0 || ~chi : Mchi1 =   744.8 \n",
      "~chi : Mchi3 =   752.6 || ~sk  : Msk   =  3000.0 || \n",
      "\n",
      "==== Calculation of relic density =====\n",
      "Xf=2.24e+01 Omega=1.12e-01\n",
      "# Channels which contribute to 1/(omega) more than 1%.\n",
      "# Relative contributions in % are displayed\n",
      "   23% ~chi2 ~chi2 ->b b~ \n",
      "   14% ~chi2 ~chi2 ->s s~ \n",
      "   14% ~chi2 ~chi2 ->d d~ \n",
      "   11% ~chi2 ~chi2 ->c c~ \n",
      "   11% ~chi2 ~chi2 ->u u~ \n",
      "    6% ~chi2 ~chi2 ->ve ve~ \n",
      "    6% ~chi2 ~chi2 ->vm vm~ \n",
      "    6% ~chi2 ~chi2 ->vt vt~ \n",
      "    4% ~chi2 ~chi2 ->ta- ta+ \n",
      "    3% ~chi2 ~chi2 ->mu- mu+ \n",
      "    3% ~chi2 ~chi2 ->e- e+ \n",
      "omega_h^2 = 1.12E-01\n",
      "\n",
      "==== Indirect detection =======\n",
      "    Channel          vcs[cm^3/s]\n",
      "==================================\n",
      " annihilation cross section 2.77E-27 cm^3/s\n",
      " contribution of processes\n",
      "  ~chi2,~chi2 -> b b~   8.88E-01\n",
      "  ~chi2,~chi2 -> c c~   6.75E-02\n",
      "  ~chi2,~chi2 -> ta- t  4.39E-02\n",
      "  ~chi2,~chi2 -> s s~   4.38E-04\n",
      "  ~chi2,~chi2 -> mu- m  1.58E-04\n",
      "Photon flux  for angle of sight f=0.10[rad]\n",
      "and spherical region described by cone with angle 0.10[rad]\n",
      "Photon flux = 1.89E-12[cm^2 s GeV]^{-1} for E=8.1[GeV]\n",
      "Positron flux  =  9.78E-10[cm^2 sr s GeV]^{-1} for E=8.1[GeV] \n",
      "Antiproton flux  =  2.25E-09[cm^2 sr s GeV]^{-1} for E=8.1[GeV] \n",
      "\n",
      "==== Calculation of CDM-nucleons amplitudes  =====\n",
      "CDM[antiCDM]-nucleon micrOMEGAs amplitudes for ~chi2 \n",
      "proton:  SI  -1.024E-09 [-1.024E-09]  SD  -3.092E-06 [-3.092E-06]\n",
      "neutron: SI  -1.035E-09 [-1.035E-09]  SD  2.704E-06 [2.704E-06]\n",
      "CDM[antiCDM]-nucleon cross sections[pb]:\n",
      " proton  SI 4.100E-10 [4.100E-10] SD 1.121E-02 [1.121E-02]\n",
      " neutron SI 4.182E-10 [4.182E-10] SD 8.568E-03 [8.568E-03]\n",
      "\n",
      "===============Neutrino Telescope=======  for  Sun\n",
      " E>1.0E+00 GeV neutrino flux       3.78E+14 [1/Year/km^2] \n",
      " E>1.0E+00 GeV anti-neutrino flux  3.50E+14 [1/Year/km^2]\n",
      " E>1.0E+00 GeV Upward muon flux    5.29E+03 [1/Year/km^2]\n",
      " E>1.0E+00 GeV Contained muon flux 8.40E+05 [1/Year/km^3]\n",
      "\n",
      "H :   total width=8.794238E-03 \n",
      " and Branchings:\n",
      "1.170929E-02 H -> Z,Z\n",
      "9.954016E-02 H -> W+,W-\n",
      "2.435931E-09 H -> e-,e+\n",
      "1.041460E-04 H -> mu-,mu+\n",
      "2.942193E-02 H -> ta-,ta+\n",
      "1.819805E-07 H -> u,u~\n",
      "4.511105E-02 H -> c,c~\n",
      "7.108952E-07 H -> d,d~\n",
      "2.854865E-04 H -> s,s~\n",
      "6.129794E-01 H -> b,b~\n",
      "2.008476E-01 H -> ~chi2,~chi2\n",
      "\n",
      "W+ :   total width=2.002524E+00 \n",
      " and Branchings:\n",
      "1.111345E-01 W+ -> ve,e+\n",
      "1.111342E-01 W+ -> vm,mu+\n",
      "1.110519E-01 W+ -> vt,ta+\n",
      "3.164088E-01 W+ -> u,d~\n",
      "1.698820E-02 W+ -> c,d~\n",
      "1.699461E-02 W+ -> u,s~\n",
      "3.162879E-01 W+ -> c,s~\n"
     ]
    }
   ],
   "source": [
    "print mof['Full']"
   ]
  },
  {
   "cell_type": "code",
   "execution_count": 11,
   "metadata": {
    "collapsed": false
   },
   "outputs": [],
   "source": [
    "if 1==1:\n",
    "#def pdgf():\n",
    "    import pandas as pd\n",
    "    import pdg as pdgtmp\n",
    "    #pdg=pd.Series()\n",
    "    pdg_id=pdgtmp.pdgid_names\n",
    "    pdg_name=pd.Series( dict((v,k) for k,v in pdgtmp.pdgid_names.iteritems()) )\n",
    "    def pdg_add(id)"
   ]
  },
  {
   "cell_type": "code",
   "execution_count": 15,
   "metadata": {
    "collapsed": false
   },
   "outputs": [
    {
     "data": {
      "text/plain": [
       "36"
      ]
     },
     "execution_count": 15,
     "metadata": {},
     "output_type": "execute_result"
    }
   ],
   "source": [
    "#Design:\n",
    "pdg_name.A0 -> 34\n",
    "pdg_id[36] -> 'A0'\n",
    "pdg_add(8)='T' -> update:  pdg.name.T ; pdg.id[36]"
   ]
  },
  {
   "cell_type": "code",
   "execution_count": 2,
   "metadata": {
    "collapsed": false
   },
   "outputs": [
    {
     "ename": "NameError",
     "evalue": "name 'pdg' is not defined",
     "output_type": "error",
     "traceback": [
      "\u001b[1;31m---------------------------------------------------------------------------\u001b[0m",
      "\u001b[1;31mNameError\u001b[0m                                 Traceback (most recent call last)",
      "\u001b[1;32m<ipython-input-2-520f256a94ab>\u001b[0m in \u001b[0;36m<module>\u001b[1;34m()\u001b[0m\n\u001b[0;32m    140\u001b[0m \u001b[1;33m\u001b[0m\u001b[0m\n\u001b[0;32m    141\u001b[0m \u001b[1;33m\u001b[0m\u001b[0m\n\u001b[1;32m--> 142\u001b[1;33m \u001b[0mpdg\u001b[0m\u001b[1;33m.\u001b[0m\u001b[0mpdgid_names\u001b[0m\u001b[1;33m[\u001b[0m\u001b[1;36m210000601\u001b[0m\u001b[1;33m]\u001b[0m\u001b[1;33m=\u001b[0m\u001b[1;34m'Fre'\u001b[0m\u001b[1;33m\u001b[0m\u001b[0m\n\u001b[0m",
      "\u001b[1;31mNameError\u001b[0m: name 'pdg' is not defined"
     ]
    }
   ],
   "source": [
    "self.pdg\n",
    "\n",
    "\n",
    "\n",
    "\n",
    "\n",
    "\n",
    "\n",
    "\n",
    "\n",
    "\n",
    "\n",
    "\n",
    "\n",
    "\n",
    "\n",
    "\n",
    "\n",
    "\n",
    "\n",
    "\n",
    "\n",
    "\n",
    "\n",
    "\n",
    "\n",
    "\n",
    "\n",
    "\n",
    "\n",
    "\n",
    "\n",
    "\n",
    "\n",
    "\n",
    "\n",
    "\n",
    "\n",
    "\n",
    "\n",
    "\n",
    "\n",
    "\n",
    "\n",
    "\n",
    "\n",
    "\n",
    "\n",
    "\n",
    "\n",
    "\n",
    "\n",
    "\n",
    "\n",
    "\n",
    "\n",
    "\n",
    "class hep(model):\n",
    "class hep(model):\n",
    "\n",
    "\n",
    "\n",
    "\n",
    "\n",
    "\n",
    "\n",
    "\n",
    "\n",
    "\n",
    "\n",
    "\n",
    "\n",
    "\n",
    "\n",
    "\n",
    "\n",
    "\n",
    "\n",
    "\n",
    "\n",
    "\n",
    "\n",
    "\n",
    "\n",
    "\n",
    "\n",
    "\n",
    "\n",
    "\n",
    "\n",
    "\n",
    "\n",
    "\n",
    "\n",
    "\n",
    "\n",
    "\n",
    "\n",
    "\n",
    "\n",
    "\n",
    "\n",
    "\n",
    "\n",
    "\n",
    "\n",
    "\n",
    "\n",
    "\n",
    "\n",
    "\n",
    "\n",
    "\n",
    "\n",
    "\n",
    "\n",
    "\n",
    "\n",
    "\n",
    "\n",
    "\n",
    "\n",
    "\n",
    "\n",
    "\n",
    "\n",
    "\n",
    "\n",
    "\n",
    "\n",
    "\n",
    "\n",
    "\n",
    "\n",
    "\n",
    "\n",
    "\n",
    "\n",
    "\n",
    "\n",
    "\n",
    "pdg.pdgid_names[210000601]='Fre'"
   ]
  },
  {
   "cell_type": "code",
   "execution_count": 31,
   "metadata": {
    "collapsed": false
   },
   "outputs": [
    {
     "data": {
      "text/plain": [
       "{-9900042: 'Higgs_minus_minus_R',\n",
       " -9900041: 'Higgs_minus_minus_L',\n",
       " -2000015: 's_tau_plus_2',\n",
       " -2000013: 's_mu_plus_R',\n",
       " -2000011: 's_e_plus_R',\n",
       " -2000006: 's_tbar_2',\n",
       " -2000005: 's_bbar_2',\n",
       " -2000004: 's_cbar_R',\n",
       " -2000003: 's_sbar_R',\n",
       " -2000002: 's_ubar_R',\n",
       " -2000001: 's_dbar_R',\n",
       " -1000037: 's_chi_minus_2',\n",
       " -1000024: 's_chi_minus_1',\n",
       " -1000016: 's_anti_nu_tau_L',\n",
       " -1000015: 's_tau_plus_1',\n",
       " -1000014: 's_anti_nu_mu_L',\n",
       " -1000013: 's_mu_plus_L',\n",
       " -1000012: 's_anti_nu_e_L',\n",
       " -1000011: 's_e_plus_L',\n",
       " -1000006: 's_tbar_1',\n",
       " -1000005: 's_bbar_1',\n",
       " -1000004: 's_cbar_L',\n",
       " -1000003: 's_sbar_L',\n",
       " -1000002: 's_ubar_L',\n",
       " -1000001: 's_dbar_L',\n",
       " -40213: 'rho_3S_minus',\n",
       " -30213: 'rho_2S_minus',\n",
       " -20543: 'B_prime_c1_minus',\n",
       " -20533: 'anti_B_prime_s10',\n",
       " -20523: 'B_prime_1_minus',\n",
       " -20513: 'anti_B_prime_10',\n",
       " -20433: 'D_prime_s1_minus',\n",
       " -20423: 'anti_D_prime_10',\n",
       " -20413: 'D_prime_1_minus',\n",
       " -20323: 'K_prime_1_minus',\n",
       " -20313: 'anti_K_prime_10',\n",
       " -20213: 'a_1_minus',\n",
       " -20211: 'pi_2S_minus',\n",
       " -10543: 'B_c1_minus',\n",
       " -10541: 'B_c0_star_minus',\n",
       " -10533: 'anti_B_s10',\n",
       " -10531: 'anti_B_s0_star0',\n",
       " -10523: 'B_1_minus',\n",
       " -10521: 'B_0_star_minus',\n",
       " -10513: 'anti_B_10',\n",
       " -10511: 'anti_B_0_star0',\n",
       " -10433: 'D_s1_minus',\n",
       " -10431: 'D_s0_star_minus',\n",
       " -10423: 'anti_D_10',\n",
       " -10421: 'anti_D_0_star0',\n",
       " -10413: 'D_1_minus',\n",
       " -10411: 'D_0_star_minus',\n",
       " -10323: 'K_1_minus',\n",
       " -10321: 'K_0_star_minus',\n",
       " -10313: 'anti_K_10',\n",
       " -10311: 'anti_K_0_star0',\n",
       " -10213: 'b_1_minus',\n",
       " -10211: 'a_0_minus',\n",
       " -5503: 'anti_bb_1',\n",
       " -5501: 'anti_bb_0',\n",
       " -5403: 'anti_bc_1',\n",
       " -5401: 'anti_bc_0',\n",
       " -5334: 'anti_Omega_b_star_plus',\n",
       " -5332: 'anti_Omega_b_plus',\n",
       " -5324: 'anti_Xi_b_star0',\n",
       " -5322: 'anti_Xi_prime_b0',\n",
       " -5314: 'anti_Xi_b_star_plus',\n",
       " -5312: 'anti_Xi_prime_b_plus',\n",
       " -5303: 'anti_bs_1',\n",
       " -5301: 'anti_bs_0',\n",
       " -5232: '#bar{#Xi}_b^{0}',\n",
       " -5224: 'anti_Sigma_b_star_minus',\n",
       " -5222: 'anti_Sigma_b_minus',\n",
       " -5214: 'anti_Sigma_b_star0',\n",
       " -5212: '#bar{#Sigma}_{b}^{0}',\n",
       " -5203: 'anti_bu_1',\n",
       " -5201: 'anti_bu_0',\n",
       " -5132: 'anti_Xi_b_plus',\n",
       " -5122: '#bar{#Lambda}_{b}^0',\n",
       " -5114: 'anti_Sigma_b_star_plus',\n",
       " -5112: \"#Sigma_{b}^{+}'\",\n",
       " -5103: 'anti_bd_1',\n",
       " -5101: 'anti_bd_0',\n",
       " -4444: '#Omega_{ccc}^{--}',\n",
       " -4434: '#Omega_{cc}^{*-}',\n",
       " -4432: '#Omega_{cc}^{-}',\n",
       " -4424: '#Xi_{cc}^{*--}',\n",
       " -4422: '#Xi_{cc}^{--}',\n",
       " -4414: '#Xi_{cc}^{*-}',\n",
       " -4412: '#Xi_{cc}^{-}',\n",
       " -4403: 'anti_cc_1',\n",
       " -4401: 'anti_cc_0',\n",
       " -4334: '#bar{#Omega}_{c}^{*0}',\n",
       " -4332: '#bar{#Omega}_{c}^{0}',\n",
       " -4324: '#Xi_{c}^{*-}',\n",
       " -4322: '#Xi_{c}^{-}',\n",
       " -4314: '#bar{#Xi}_{c}^{*0}',\n",
       " -4312: \"#bar{#Xi}'_{c}^{0}\",\n",
       " -4303: 'anti_cs_1',\n",
       " -4301: 'anti_cs_0',\n",
       " -4232: \"#Xi'_{c}^{-}\",\n",
       " -4224: '#Sigma_{c}^{*--}',\n",
       " -4222: '#Sigma_{c}^{--}',\n",
       " -4214: '#Sigma_{c}^{*-}',\n",
       " -4212: '#Sigma_{c}^{-}',\n",
       " -4203: 'anti_cu_1',\n",
       " -4201: 'anti_cu_0',\n",
       " -4132: '#bar{#Xi}_{c}^{0}',\n",
       " -4122: '#Lambda_{c}^{-}',\n",
       " -4114: '#bar{#Sigma}_{c}^{*0}',\n",
       " -4112: 'anti_Sigma_c0',\n",
       " -4103: 'anti_cd_1',\n",
       " -4101: 'anti_cd_0',\n",
       " -3334: 'anti_Omega_plus',\n",
       " -3324: 'anti_Xi_star0',\n",
       " -3322: '#bar{Xi}^{0}',\n",
       " -3314: 'anti_Xi_star_plus',\n",
       " -3312: '#Xi^{+}',\n",
       " -3303: 'anti_ss_1',\n",
       " -3301: 'anti_ss_0',\n",
       " -3224: 'anti_Sigma_star_minus',\n",
       " -3222: '#bar{#Sigma}^{-}',\n",
       " -3214: 'anti_Sigma_star0',\n",
       " -3212: 'anti_Sigma0',\n",
       " -3203: 'anti_su_1',\n",
       " -3201: 'anti_su_0',\n",
       " -3122: '#bar{#Lambda}^{0}',\n",
       " -3114: 'anti_Sigma_star_plus',\n",
       " -3112: '#bar{#Sigma}^{+}',\n",
       " -3103: 'anti_sd_1',\n",
       " -3101: 'anti_sd_0',\n",
       " -2224: 'anti_Delta_minus_minus',\n",
       " -2214: 'anti_Delta_minus',\n",
       " -2212: 'p^{-}',\n",
       " -2210: 'anti_p_diffr_minus',\n",
       " -2203: 'anti_uu_1',\n",
       " -2201: 'anti_uu_0',\n",
       " -2114: 'anti_Delta0',\n",
       " -2112: '#bar{n}',\n",
       " -2110: 'anti_n_diffr',\n",
       " -2103: 'anti_ud_1',\n",
       " -2101: 'UD0BAR',\n",
       " -1114: '#Delta^{+}',\n",
       " -1103: 'anti_dd_1',\n",
       " -1101: 'anti_dd_0',\n",
       " -545: 'B_c2_star_minus',\n",
       " -543: 'B_{c}^{*-}',\n",
       " -541: 'B_{c}^{-}',\n",
       " -535: 'anti_B_s2_star0',\n",
       " -533: 'anti_B_s_star0',\n",
       " -531: '#bar{B}_{s}^{0}',\n",
       " -525: 'B_2_star_minus',\n",
       " -523: 'B_star_minus',\n",
       " -521: 'B^{-}',\n",
       " -515: 'anti_B_2_star0',\n",
       " -513: 'anti_B_star0',\n",
       " -511: '#bar{B}^{0}',\n",
       " -435: 'D_s2_star_minus',\n",
       " -433: 'D_s_star_minus',\n",
       " -431: 'D_{s}^{-}',\n",
       " -425: 'anti_D_2_star0',\n",
       " -423: 'anti_D_star0',\n",
       " -421: '#bar{D}^{0}',\n",
       " -415: 'D_2_star_minus',\n",
       " -413: 'D_star_minus',\n",
       " -411: 'D^{-}',\n",
       " -325: 'K_{2}^{*-}',\n",
       " -323: 'K_star_minus',\n",
       " -321: 'K^{-}',\n",
       " -315: 'anti_K_2_star0',\n",
       " -313: '#bar{K}^{*}',\n",
       " -311: '#bar{K}^0',\n",
       " -215: 'a_{2}^{-}',\n",
       " -213: '#rho^{-}',\n",
       " -211: '#pi^{-}',\n",
       " -210: 'pi_diffr_minus',\n",
       " -90: 'anti_diquark',\n",
       " -89: 'Wvirt_minus',\n",
       " -86: 'anti_t_minushadron',\n",
       " -85: 'anti_b_minushadron',\n",
       " -84: 'anti_c_minushadron',\n",
       " -82: 'anti_rndmflav',\n",
       " -40: 'anti_R0',\n",
       " -37: 'Higgs_minus',\n",
       " -34: 'W_prime_minus',\n",
       " -24: 'W^{-}',\n",
       " -18: 'anti_nu_L',\n",
       " -17: 'L_plus',\n",
       " -16: '#bar{nu}_{#tau}',\n",
       " -15: '#tau^{+}',\n",
       " -14: '#bar{#nu}_{#mu}',\n",
       " -13: '#mu^{+}',\n",
       " -12: '#bar{#nu}_{e}',\n",
       " -11: 'e^{+}',\n",
       " -8: 'anti_h',\n",
       " -7: 'LPRIMEBAR',\n",
       " -6: '#bar{t}',\n",
       " -5: '#bar{b}',\n",
       " -4: '#bar{c}',\n",
       " -3: '#bar{s}',\n",
       " -2: '#bar{u}',\n",
       " -1: '#bar{d}',\n",
       " 0: 'deuteron',\n",
       " 1: 'd',\n",
       " 2: 'u',\n",
       " 3: 's',\n",
       " 4: 'c',\n",
       " 5: 'b',\n",
       " 6: 't',\n",
       " 7: 'LPRIME',\n",
       " 8: 'h',\n",
       " 11: 'e^{-}',\n",
       " 12: '#nu_{e}',\n",
       " 13: '#mu^{-}',\n",
       " 14: '#nu_{#mu}',\n",
       " 15: '#tau^{-}',\n",
       " 16: '#nu_{#tau}',\n",
       " 17: 'L_minus',\n",
       " 18: 'nu_L',\n",
       " 21: 'g',\n",
       " 22: '#gamma',\n",
       " 23: 'Z',\n",
       " 24: 'W^{+}',\n",
       " 25: 'h^{0}',\n",
       " 28: 'reggeon',\n",
       " 29: 'pomeron',\n",
       " 32: 'Z_prime0',\n",
       " 33: 'Z_prime_prime0',\n",
       " 34: 'W_prime_plus',\n",
       " 35: 'Higgs_prime0',\n",
       " 36: 'A0',\n",
       " 37: 'Higgs_plus',\n",
       " 40: 'R0',\n",
       " 81: 'specflav',\n",
       " 82: 'rndmflav',\n",
       " 83: 'phasespa',\n",
       " 84: 'c_minushadron',\n",
       " 85: 'b_minushadron',\n",
       " 86: 't_minushadron',\n",
       " 89: 'Wvirt_plus',\n",
       " 90: 'diquark',\n",
       " 91: 'cluster',\n",
       " 92: 'string',\n",
       " 93: 'indep',\n",
       " 94: 'CMshower',\n",
       " 95: 'SPHEaxis',\n",
       " 96: 'THRUaxis',\n",
       " 97: 'CLUSjet',\n",
       " 98: 'CELLjet',\n",
       " 99: 'table',\n",
       " 111: '#pi^{0}',\n",
       " 113: '#rho^{0}',\n",
       " 115: 'a_20',\n",
       " 130: 'K_{L}^{0}',\n",
       " 210: 'pi_diffr_plus',\n",
       " 211: '#pi^{+}',\n",
       " 213: '#rho^{+}',\n",
       " 215: 'a_{2}^{+}',\n",
       " 221: '#eta',\n",
       " 223: 'omega',\n",
       " 225: 'f_2',\n",
       " 310: 'K_{S}^{0}',\n",
       " 311: 'K^{0}',\n",
       " 313: 'K^{*}',\n",
       " 315: 'K_2_star0',\n",
       " 321: 'K^{+}',\n",
       " 323: 'K_star_plus',\n",
       " 325: 'K_{2}^{*+}',\n",
       " 331: 'eta_prime',\n",
       " 333: '#phi',\n",
       " 335: 'f_prime_2',\n",
       " 411: 'D^{+}',\n",
       " 413: 'D_star_plus',\n",
       " 415: 'D_2_star_plus',\n",
       " 421: 'D^{0}',\n",
       " 423: 'D_star0',\n",
       " 425: 'D_2_star0',\n",
       " 431: 'D_{s}^{+}',\n",
       " 433: 'D_s_star_plus',\n",
       " 435: 'D_s2_star_plus',\n",
       " 441: 'eta_c',\n",
       " 443: 'J/#psi',\n",
       " 445: 'chi_c2',\n",
       " 511: 'B^{0}',\n",
       " 513: 'B_star0',\n",
       " 515: 'B_2_star0',\n",
       " 521: 'B^{+}',\n",
       " 523: 'B_star_plus',\n",
       " 525: 'B_2_star_plus',\n",
       " 531: 'B_{s}^{0}',\n",
       " 533: 'B_s_star0',\n",
       " 535: 'B_s2_star0',\n",
       " 541: 'B_{c}^{+}',\n",
       " 543: 'B_{c}^{*+}',\n",
       " 545: 'B_c2_star_plus',\n",
       " 551: 'chi_b0',\n",
       " 553: 'Upsilon',\n",
       " 555: 'chi_b2',\n",
       " 557: 'Upsilon_3_1D',\n",
       " 1101: 'dd_0',\n",
       " 1103: 'dd_1',\n",
       " 1114: '#Delta^{-}',\n",
       " 2101: 'UD0',\n",
       " 2103: 'ud_1',\n",
       " 2110: 'n_diffr',\n",
       " 2112: 'n',\n",
       " 2114: 'Delta0',\n",
       " 2201: 'uu_0',\n",
       " 2203: 'uu_1',\n",
       " 2210: 'p_diffr_plus',\n",
       " 2212: 'p^{+}',\n",
       " 2214: 'Delta_plus',\n",
       " 2224: 'Delta_plus_plus',\n",
       " 3101: 'sd_0',\n",
       " 3103: 'sd_1',\n",
       " 3112: '#Sigma^{-}',\n",
       " 3114: 'Sigma_star_minus',\n",
       " 3122: '#Lambda^{0}',\n",
       " 3201: 'su_0',\n",
       " 3203: 'su_1',\n",
       " 3212: 'Sigma0',\n",
       " 3214: 'Sigma_star0',\n",
       " 3222: '#Sigma^{+}',\n",
       " 3224: 'Sigma_star_plus',\n",
       " 3301: 'ss_0',\n",
       " 3303: 'ss_1',\n",
       " 3312: '#Xi^{-}',\n",
       " 3314: 'Xi_star_minus',\n",
       " 3322: '#Xi^{0}',\n",
       " 3324: 'Xi_star0',\n",
       " 3334: 'Omega_minus',\n",
       " 4101: 'cd_0',\n",
       " 4103: 'cd_1',\n",
       " 4112: 'Sigma_c0',\n",
       " 4114: '#Sigma_{c}^{*0}',\n",
       " 4122: '#Lambda_{c}^{+}',\n",
       " 4132: '#Xi_{c}^{0}',\n",
       " 4201: 'cu_0',\n",
       " 4203: 'cu_1',\n",
       " 4212: '#Sigma_{c}^{+}',\n",
       " 4214: '#Sigma_{c}^{*+}',\n",
       " 4222: '#Sigma_{c}^{++}',\n",
       " 4224: '#Sigma_{c}^{*++}',\n",
       " 4232: \"#Xi'_{c}^{+}\",\n",
       " 4301: 'cs_0',\n",
       " 4303: 'cs_1',\n",
       " 4312: \"#Xi'_{c}^{0}\",\n",
       " 4314: '#Xi_{c}^{*0}',\n",
       " 4322: '#Xi_{c}^{+}',\n",
       " 4324: '#Xi_{c}^{*+}',\n",
       " 4332: '#Omega_{c}^{0}',\n",
       " 4334: '#Omega_{c}^{*0}',\n",
       " 4401: 'cc_0',\n",
       " 4403: 'cc_1',\n",
       " 4412: '#Xi_{cc}^{+}',\n",
       " 4414: '#Xi_{cc}^{*+}',\n",
       " 4422: '#Xi_{cc}^{++}',\n",
       " 4424: '#Xi_{cc}^{*++}',\n",
       " 4432: '#Omega_{cc}^{+}',\n",
       " 4434: '#Omega_{cc}^{*+}',\n",
       " 4444: '#Omega_{ccc}^{++}',\n",
       " 5101: 'bd_0',\n",
       " 5103: 'bd_1',\n",
       " 5112: \"#Sigma_{b}^{-}'\",\n",
       " 5114: 'Sigma_b_star_minus',\n",
       " 5122: '#Lambda_{b}^{0}',\n",
       " 5132: 'Xi_b_minus',\n",
       " 5201: 'bu_0',\n",
       " 5203: 'bu_1',\n",
       " 5212: '#Sigma_{b}^{0}',\n",
       " 5214: 'Sigma_b_star0',\n",
       " 5222: 'Sigma_b_plus',\n",
       " 5224: 'Sigma_star_',\n",
       " 5232: '#Xi_b^{0}',\n",
       " 5301: 'bs_0',\n",
       " 5303: 'bs_1',\n",
       " 5312: 'Xi_prime_b_minus',\n",
       " 5314: 'Xi_b_star_minus',\n",
       " 5322: 'Xi_prime_b0',\n",
       " 5324: 'Xi_b_star0',\n",
       " 5332: 'Omega_b_minus',\n",
       " 5334: 'Omega_b_star_minus',\n",
       " 5401: 'bc_0',\n",
       " 5403: 'bc_1',\n",
       " 5501: 'bb_0',\n",
       " 5503: 'bb_1',\n",
       " 10111: 'a_00',\n",
       " 10113: 'b_10',\n",
       " 10211: 'a_0_plus',\n",
       " 10213: 'b_1_plus',\n",
       " 10221: 'f_0',\n",
       " 10223: 'h_{1}',\n",
       " 10311: 'K_0_star0',\n",
       " 10313: 'K_10',\n",
       " 10321: 'K_0_star_plus',\n",
       " 10323: 'K_1_plus',\n",
       " 10331: 'f_prime_0',\n",
       " 10333: 'h_prime_1',\n",
       " 10411: 'D_0_star_plus',\n",
       " 10413: 'D_1_plus',\n",
       " 10421: 'D_0_star0',\n",
       " 10423: 'D_10',\n",
       " 10431: 'D_s0_star_plus',\n",
       " 10433: 'D_s1_plus',\n",
       " 10441: 'chi_c0',\n",
       " 10443: 'chi_c1',\n",
       " 10511: 'B_0_star0',\n",
       " 10513: 'B_10',\n",
       " 10521: 'B_0_star_plus',\n",
       " 10523: 'B_1_plus',\n",
       " 10531: 'B_s0_star0',\n",
       " 10533: 'B_s10',\n",
       " 10541: 'B_c0_star_plus',\n",
       " 10543: 'B_c1_plus',\n",
       " 10553: 'h_b',\n",
       " 10555: 'chi_b2_2P',\n",
       " 10557: 'Upsilon_3_2D',\n",
       " 20111: 'pi_2S0',\n",
       " 20113: 'a_10',\n",
       " 20211: 'pi_2S_plus',\n",
       " 20213: 'a_1_plus',\n",
       " 20221: 'eta_2S',\n",
       " 20223: 'f_1',\n",
       " 20313: 'K_prime_10',\n",
       " 20323: 'K_prime_1_plus',\n",
       " 20333: 'f_prime_1',\n",
       " 20413: 'D_prime_1_plus',\n",
       " 20423: 'D_prime_10',\n",
       " 20433: 'D_prime_s1_plus',\n",
       " 20441: 'eta_c_2S',\n",
       " 20443: 'psi_2S',\n",
       " 20513: 'B_prime_10',\n",
       " 20523: 'B_prime_1_plus',\n",
       " 20533: 'B_prime_s10',\n",
       " 20543: 'B_prime_c1_plus',\n",
       " 20551: 'eta_b_2S',\n",
       " 20553: 'Upsilon_2S',\n",
       " 20555: 'chi_b2_3P',\n",
       " 30113: 'rho_2S0',\n",
       " 30213: 'rho_2S_plus',\n",
       " 30223: 'omega_2S',\n",
       " 30551: 'chi_b0_2P',\n",
       " 30555: 'Upsilon_2_1D',\n",
       " 40113: 'rho_3S0',\n",
       " 40213: 'rho_3S_plus',\n",
       " 40551: 'eta_b_3S',\n",
       " 40553: 'h_b_2P',\n",
       " 40555: 'eta_b2_1D',\n",
       " 50551: 'chi_b0_3P',\n",
       " 50553: 'chi_b1_2P',\n",
       " 50555: 'Upsilon_2_2D',\n",
       " 60553: 'Upsilon_3S',\n",
       " 60555: 'eta_b2_2D',\n",
       " 70553: 'Upsilon_4S',\n",
       " 80553: 'Upsilon_5S',\n",
       " 100553: 'h_b_3P',\n",
       " 110553: 'chi_b1_3P',\n",
       " 120553: 'Upsilon_1_1D',\n",
       " 130553: 'Upsilon_1_2D',\n",
       " 1000001: 's_d_L',\n",
       " 1000002: 's_u_L',\n",
       " 1000003: 's_s_L',\n",
       " 1000004: 's_c_L',\n",
       " 1000005: 's_b_1',\n",
       " 1000006: 's_t_1',\n",
       " 1000011: 's_e_minus_L',\n",
       " 1000012: 's_nu_e_L',\n",
       " 1000013: 's_mu_minus_L',\n",
       " 1000014: 's_nu_mu_L',\n",
       " 1000015: 's_tau_minus_1',\n",
       " 1000016: 's_nu_tau_L',\n",
       " 1000021: 's_g',\n",
       " 1000022: 's_chi_0_1',\n",
       " 1000023: 's_chi_0_2',\n",
       " 1000024: 's_chi_plus_1',\n",
       " 1000025: 's_chi_0_3',\n",
       " 1000035: 's_chi_0_4',\n",
       " 1000037: 's_chi_plus_2',\n",
       " 1000039: 's_G',\n",
       " 2000001: 's_d_R',\n",
       " 2000002: 's_u_R',\n",
       " 2000003: 's_s_R',\n",
       " 2000004: 's_c_R',\n",
       " 2000005: 's_b_2',\n",
       " 2000006: 's_t_2',\n",
       " 2000011: 's_e_minus_R',\n",
       " 2000013: 's_mu_minus_R',\n",
       " 2000015: 's_tau_minus_2',\n",
       " 9900041: 'Higgs_plus_plus_L',\n",
       " 9900042: 'Higgs_plus_plus_R'}"
      ]
     },
     "execution_count": 31,
     "metadata": {},
     "output_type": "execute_result"
    }
   ],
   "source": [
    "pdg."
   ]
  },
  {
   "cell_type": "code",
   "execution_count": 15,
   "metadata": {
    "collapsed": false
   },
   "outputs": [
    {
     "data": {
      "text/plain": [
       "MASS { 25 :  126; 23 :  91.2; 24 :  80.3; 1 :  0.005; 3 :  0.095; 5 :  4.18; 2 :  0.0025; 4 :  1.27; 6 :  174; 11 :  0.000511; 13 :  0.106; 15 :  1.78; 210000601 :  500; 1012 :  16.2; 1014 : -745; 1016 :  753 }"
      ]
     },
     "execution_count": 15,
     "metadata": {},
     "output_type": "execute_result"
    }
   ],
   "source": [
    "a.LHA_out.blocks['MASS']"
   ]
  },
  {
   "cell_type": "code",
   "execution_count": 16,
   "metadata": {
    "collapsed": false
   },
   "outputs": [
    {
     "name": "stdout",
     "output_type": "stream",
     "text": [
      "# SUSY Les Houches Accord 2 - SimplifiedDM/SDFDM Spectrum + Decays + Flavor Observables\r\n",
      "# SPheno module generated by SARAH\r\n",
      "# ----------------------------------------------------------------------\r\n",
      "# SPheno v3.3.8  \r\n",
      "#   W. Porod, Comput. Phys. Commun. 153 (2003) 275-315, hep-ph/0301101\r\n",
      "#   W. Porod, F.Staub, Comput.Phys.Commun.183 (2012) 2458-2469, arXiv:1104.1573\r\n",
      "# SARAH: 4.8.5   \r\n",
      "#   F. Staub; arXiv:0806.0538 (online manual)\r\n",
      "#   F. Staub; Comput. Phys. Commun. 181 (2010) 1077-1086; arXiv:0909.2863\r\n",
      "#   F. Staub; Comput. Phys. Commun. 182 (2011)  808-833; arXiv:1002.0840\r\n",
      "#   F. Staub; Comput. Phys. Commun. 184 (2013)  1792-1809; arXiv:1207.0906\r\n",
      "#   F. Staub; Comput. Phys. Commun. 185 (2014)  1773-1790; arXiv:1309.7223 \r\n",
      "# Including the calculation of flavor observables based on the FlavorKit \r\n",
      "#   W. Porod, F. Staub, A. Vicente; Eur.Phys.J. C74 (2014) 8, 2992; arXiv:1405.1434 \r\n",
      "# Two-loop masss corrections to Higgs fields based on \r\n",
      "#   M. D. Goodsell, K. Nickel, F. Staub; arXiv:1411.0675 \r\n",
      "#   M. D. Goodsell, K. Nickel, F. Staub; arXiv:1503.03098\r\n",
      "#  \r\n",
      "# in case of problems send email to florian.staub@cern.ch and goodsell@lpthe.jussieu.fr \r\n",
      "# ----------------------------------------------------------------------\r\n",
      "# Created: 12.07.2016,  19:19\r\n",
      "Block SPINFO         # Program information\r\n",
      "     1   SPhenoSARAH      # spectrum calculator\r\n",
      "     2   v3.3.8      # version number of SPheno\r\n",
      "     9   4.8.5       # version number of SARAH\r\n",
      "Block MODSEL  # Input parameters\r\n",
      "     1  1   #  GUT scale input\r\n",
      "     2  1   #  Boundary conditions \r\n",
      "     6  1   #  switching on flavour violation\r\n",
      "Block MINPAR  # Input parameters\r\n",
      "    1    1.30000000E-01  # lambda1INPUT\r\n",
      "    2   -5.00000000E+02  # MDFINPUT\r\n",
      "    3    2.40000000E+01  # MnINPUT\r\n",
      "    4    3.19984001E+00  # lamuINPUT\r\n",
      "    5    3.19984001E-02  # lamdINPUT\r\n",
      "Block gaugeGUT Q= -1.00000000E+00  # (GUT scale)\r\n",
      "   1    0.00000000E+00  # g1(Q)^DRbar\r\n",
      "   2    0.00000000E+00  # g2(Q)^DRbar\r\n",
      "   3    0.00000000E+00  # g3(Q)^DRbar\r\n",
      "Block SMINPUTS  # SM parameters\r\n",
      "         2     1.16637000E-05  # G_mu [GeV^-2]\r\n",
      "         3     1.18700000E-01  # alpha_s(MZ)^MSbar\r\n",
      "         4     9.11887000E+01  # m_Z(pole)\r\n",
      "         5     4.18000000E+00  # m_b(m_b), MSbar\r\n",
      "         6     1.73500000E+02  # m_t(pole)\r\n",
      "         7     1.77669000E+00  # m_tau(pole)\r\n",
      "Block GAUGE Q=  1.60000000E+02  # (Renormalization Scale)\r\n",
      "   1    3.55734740E-01  # g1\r\n",
      "   2    6.62881508E-01  # g2\r\n",
      "   3    1.22132231E+00  # g3\r\n",
      "Block HDM Q=  1.60000000E+02  # (Renormalization Scale)\r\n",
      "   2    1.30000000E-01  # lam1\r\n",
      "Block FDMMIX Q=  1.60000000E+02  # (Renormalization Scale)\r\n",
      "   1    3.19984001E-02  # lamd\r\n",
      "   2    3.19984001E+00  # lamu\r\n",
      "Block MN Q=  1.60000000E+02  # (Renormalization Scale)\r\n",
      "   1    2.40000000E+01  # Mn\r\n",
      "Block FDM Q=  1.60000000E+02  # (Renormalization Scale)\r\n",
      "   1   -5.00000000E+02  # MDF\r\n",
      "Block SM Q=  1.60000000E+02  # (Renormalization Scale)\r\n",
      "   3   -7.88119392E+03  # mH2\r\n",
      "Block HMIX Q=  1.60000000E+02  # (Renormalization Scale)\r\n",
      "   3    2.46220569E+02  # v\r\n",
      "Block TREESM Q=  1.60000000E+02  # (Renormalization Scale)\r\n",
      "   3   -7.88119392E+03  # mH2\r\n",
      "Block LOOPSM Q=  1.60000000E+02  # (Renormalization Scale)\r\n",
      "   3    0.00000000E+00  # mH2\r\n",
      "Block Yu Q=  1.60000000E+02  # (Renormalization Scale)\r\n",
      "  1  1     1.43592143E-05   # Real(Yu(1,1),dp)\r\n",
      "  1  2     0.00000000E+00   # Real(Yu(1,2),dp)\r\n",
      "  1  3     0.00000000E+00   # Real(Yu(1,3),dp)\r\n",
      "  2  1     0.00000000E+00   # Real(Yu(2,1),dp)\r\n",
      "  2  2     7.29448084E-03   # Real(Yu(2,2),dp)\r\n",
      "  2  3     0.00000000E+00   # Real(Yu(2,3),dp)\r\n",
      "  3  1     0.00000000E+00   # Real(Yu(3,1),dp)\r\n",
      "  3  2     0.00000000E+00   # Real(Yu(3,2),dp)\r\n",
      "  3  3     9.96529469E-01   # Real(Yu(3,3),dp)\r\n",
      "Block Yd Q=  1.60000000E+02  # (Renormalization Scale)\r\n",
      "  1  1     2.87184285E-05   # Real(Yd(1,1),dp)\r\n",
      "  1  2     0.00000000E+00   # Real(Yd(1,2),dp)\r\n",
      "  1  3     0.00000000E+00   # Real(Yd(1,3),dp)\r\n",
      "  2  1     0.00000000E+00   # Real(Yd(2,1),dp)\r\n",
      "  2  2     5.45650142E-04   # Real(Yd(2,2),dp)\r\n",
      "  2  3     0.00000000E+00   # Real(Yd(2,3),dp)\r\n",
      "  3  1     0.00000000E+00   # Real(Yd(3,1),dp)\r\n",
      "  3  2     0.00000000E+00   # Real(Yd(3,2),dp)\r\n",
      "  3  3     2.40086062E-02   # Real(Yd(3,3),dp)\r\n",
      "Block Ye Q=  1.60000000E+02  # (Renormalization Scale)\r\n",
      "  1  1     2.93501725E-06   # Real(Ye(1,1),dp)\r\n",
      "  1  2     0.00000000E+00   # Real(Ye(1,2),dp)\r\n",
      "  1  3     0.00000000E+00   # Real(Ye(1,3),dp)\r\n",
      "  2  1     0.00000000E+00   # Real(Ye(2,1),dp)\r\n",
      "  2  2     6.06868478E-04   # Real(Ye(2,2),dp)\r\n",
      "  2  3     0.00000000E+00   # Real(Ye(2,3),dp)\r\n",
      "  3  1     0.00000000E+00   # Real(Ye(3,1),dp)\r\n",
      "  3  2     0.00000000E+00   # Real(Ye(3,2),dp)\r\n",
      "  3  3     1.02047490E-02   # Real(Ye(3,3),dp)\r\n",
      "Block MASS  # Mass spectrum\r\n",
      "#   PDG code      mass          particle\r\n",
      "        25     1.25548349E+02  # hh\r\n",
      "        23     9.11887000E+01  # VZ\r\n",
      "        24     8.03497269E+01  # VWp\r\n",
      "         1     5.00000000E-03  # Fd_1\r\n",
      "         3     9.50000000E-02  # Fd_2\r\n",
      "         5     4.18000000E+00  # Fd_3\r\n",
      "         2     2.50000000E-03  # Fu_1\r\n",
      "         4     1.27000000E+00  # Fu_2\r\n",
      "         6     1.73500000E+02  # Fu_3\r\n",
      "        11     5.10998930E-04  # Fe_1\r\n",
      "        13     1.05658372E-01  # Fe_2\r\n",
      "        15     1.77669000E+00  # Fe_3\r\n",
      " 210000601     5.00000000E+02  # Fre\r\n",
      "      1012     1.62413577E+01  # Chi_1\r\n",
      "      1014    -7.44812105E+02  # Chi_2\r\n",
      "      1016     7.52570747E+02  # Chi_3\r\n",
      "Block UDLMIX Q=  1.60000000E+02  # ()\r\n",
      "  1  1    -1.00000000E+00   # Real(ZDL(1,1),dp)\r\n",
      "  1  2     0.00000000E+00   # Real(ZDL(1,2),dp)\r\n",
      "  1  3     0.00000000E+00   # Real(ZDL(1,3),dp)\r\n",
      "  2  1     0.00000000E+00   # Real(ZDL(2,1),dp)\r\n",
      "  2  2    -1.00000000E+00   # Real(ZDL(2,2),dp)\r\n",
      "  2  3     0.00000000E+00   # Real(ZDL(2,3),dp)\r\n",
      "  3  1     0.00000000E+00   # Real(ZDL(3,1),dp)\r\n",
      "  3  2     0.00000000E+00   # Real(ZDL(3,2),dp)\r\n",
      "  3  3    -1.00000000E+00   # Real(ZDL(3,3),dp)\r\n",
      "Block UDRMIX Q=  1.60000000E+02  # ()\r\n",
      "  1  1     1.00000000E+00   # Real(ZDR(1,1),dp)\r\n",
      "  1  2     0.00000000E+00   # Real(ZDR(1,2),dp)\r\n",
      "  1  3     0.00000000E+00   # Real(ZDR(1,3),dp)\r\n",
      "  2  1     0.00000000E+00   # Real(ZDR(2,1),dp)\r\n",
      "  2  2     1.00000000E+00   # Real(ZDR(2,2),dp)\r\n",
      "  2  3     0.00000000E+00   # Real(ZDR(2,3),dp)\r\n",
      "  3  1     0.00000000E+00   # Real(ZDR(3,1),dp)\r\n",
      "  3  2     0.00000000E+00   # Real(ZDR(3,2),dp)\r\n",
      "  3  3     1.00000000E+00   # Real(ZDR(3,3),dp)\r\n",
      "Block UULMIX Q=  1.60000000E+02  # ()\r\n",
      "  1  1     1.00000000E+00   # Real(ZUL(1,1),dp)\r\n",
      "  1  2     0.00000000E+00   # Real(ZUL(1,2),dp)\r\n",
      "  1  3     0.00000000E+00   # Real(ZUL(1,3),dp)\r\n",
      "  2  1     0.00000000E+00   # Real(ZUL(2,1),dp)\r\n",
      "  2  2     1.00000000E+00   # Real(ZUL(2,2),dp)\r\n",
      "  2  3     0.00000000E+00   # Real(ZUL(2,3),dp)\r\n",
      "  3  1     0.00000000E+00   # Real(ZUL(3,1),dp)\r\n",
      "  3  2     0.00000000E+00   # Real(ZUL(3,2),dp)\r\n",
      "  3  3     1.00000000E+00   # Real(ZUL(3,3),dp)\r\n",
      "Block UURMIX Q=  1.60000000E+02  # ()\r\n",
      "  1  1     1.00000000E+00   # Real(ZUR(1,1),dp)\r\n",
      "  1  2     0.00000000E+00   # Real(ZUR(1,2),dp)\r\n",
      "  1  3     0.00000000E+00   # Real(ZUR(1,3),dp)\r\n",
      "  2  1     0.00000000E+00   # Real(ZUR(2,1),dp)\r\n",
      "  2  2     1.00000000E+00   # Real(ZUR(2,2),dp)\r\n",
      "  2  3     0.00000000E+00   # Real(ZUR(2,3),dp)\r\n",
      "  3  1     0.00000000E+00   # Real(ZUR(3,1),dp)\r\n",
      "  3  2     0.00000000E+00   # Real(ZUR(3,2),dp)\r\n",
      "  3  3     1.00000000E+00   # Real(ZUR(3,3),dp)\r\n",
      "Block UELMIX Q=  1.60000000E+02  # ()\r\n",
      "  1  1    -1.00000000E+00   # Real(ZEL(1,1),dp)\r\n",
      "  1  2     0.00000000E+00   # Real(ZEL(1,2),dp)\r\n",
      "  1  3     0.00000000E+00   # Real(ZEL(1,3),dp)\r\n",
      "  2  1     0.00000000E+00   # Real(ZEL(2,1),dp)\r\n",
      "  2  2    -1.00000000E+00   # Real(ZEL(2,2),dp)\r\n",
      "  2  3     0.00000000E+00   # Real(ZEL(2,3),dp)\r\n",
      "  3  1     0.00000000E+00   # Real(ZEL(3,1),dp)\r\n",
      "  3  2     0.00000000E+00   # Real(ZEL(3,2),dp)\r\n",
      "  3  3    -1.00000000E+00   # Real(ZEL(3,3),dp)\r\n",
      "Block UERMIX Q=  1.60000000E+02  # ()\r\n",
      "  1  1     1.00000000E+00   # Real(ZER(1,1),dp)\r\n",
      "  1  2     0.00000000E+00   # Real(ZER(1,2),dp)\r\n",
      "  1  3     0.00000000E+00   # Real(ZER(1,3),dp)\r\n",
      "  2  1     0.00000000E+00   # Real(ZER(2,1),dp)\r\n",
      "  2  2     1.00000000E+00   # Real(ZER(2,2),dp)\r\n",
      "  2  3     0.00000000E+00   # Real(ZER(2,3),dp)\r\n",
      "  3  1     0.00000000E+00   # Real(ZER(3,1),dp)\r\n",
      "  3  2     0.00000000E+00   # Real(ZER(3,2),dp)\r\n",
      "  3  3     1.00000000E+00   # Real(ZER(3,3),dp)\r\n",
      "Block ZXMIX Q=  1.60000000E+02  # ()\r\n",
      "  1  1     6.67570466E-01   # Real(ZX(1,1),dp)\r\n",
      "  1  2    -7.44358397E-01   # Real(ZX(1,2),dp)\r\n",
      "  1  3    -1.67406358E-02   # Real(ZX(1,3),dp)\r\n",
      "  2  1     5.17123572E-01   # Real(ZX(2,1),dp)\r\n",
      "  2  2     4.79718968E-01   # Real(ZX(2,2),dp)\r\n",
      "  2  3    -7.08839138E-01   # Real(ZX(2,3),dp)\r\n",
      "  3  1     5.35661165E-01   # Real(ZX(3,1),dp)\r\n",
      "  3  2     4.64543097E-01   # Real(ZX(3,2),dp)\r\n",
      "  3  3     7.05171488E-01   # Real(ZX(3,3),dp)\r\n",
      "Block SPheno # SPheno internal parameters \r\n",
      "         1    -1.00000000E+00  # ErrorLevel\r\n",
      "         2     0.00000000E+00  # SPA_conventions\r\n",
      "        11     1.00000000E+00  # Branching ratios\r\n",
      "        13     1.00000000E+00  # 3 Body decays\r\n",
      "        31    -1.00000000E+00  # GUT scale\r\n",
      "        33     1.60000000E+02  # Renormalization scale\r\n",
      "        34     1.00000000E-04  # Precision\r\n",
      "        35     4.00000000E+01  # Iterations\r\n",
      "        38     2.00000000E+00  # RGE level\r\n",
      "        40     7.29735257E-03  # Alpha\r\n",
      "        41     2.49520000E+00  # Gamma_Z\r\n",
      "        42     2.06000000E+00  # Gamma_W\r\n",
      "        50     0.00000000E+00  # Rotate negative fermion masses\r\n",
      "        51     0.00000000E+00  # Switch to SCKM matrix\r\n",
      "        52     1.00000000E+00  # Ignore negative masses\r\n",
      "        53     0.00000000E+00  # Ignore negative masses at MZ\r\n",
      "        55     0.00000000E+00  # Calculate one loop masses\r\n",
      "        56     1.00000000E+00  # Calculate two-loop Higgs masses\r\n",
      "        57     1.00000000E+00  # Calculate low energy\r\n",
      "        60     1.00000000E+00  # Include kinetic mixing\r\n",
      "        65     1.00000000E+00  # Solution of tadpole equation\r\n",
      "Block HiggsBoundsInputHiggsCouplingsFermions # \r\n",
      "    1.00000000E+00    0.00000000E+00        3             25         5         5 # h_1 b b coupling \r\n",
      "    1.00000000E+00    0.00000000E+00        3             25         3         3 # h_1 s s coupling \r\n",
      "    1.00000000E+00    6.19546037E-33        3             25         6         6 # h_1 t t coupling  \r\n",
      "    1.00000000E+00    7.59574061E-33        3             25         4         4 # h_1 c c coupling \r\n",
      "    1.00000000E+00    0.00000000E+00        3             25        15        15 # h_1 tau tau coupling \r\n",
      "    1.00000000E+00    0.00000000E+00        3             25        13        13 # h_1 mu mu coupling  \r\n",
      "Block HiggsBoundsInputHiggsCouplingsBosons # \r\n",
      "    1.00000000E+00        3             25        24        24 # h_1 W W coupling \r\n",
      "    1.00000000E+00        3             25        23        23 # h_1 Z Z coupling  \r\n",
      "    0.00000000E+00        3             25        23        22 # h_1 Z gamma coupling \r\n",
      "    1.00000000E+00        3             25        22        22 # h_1 gamma gamma coupling \r\n",
      "    1.00000000E+00        3             25        21        21 # h_1 g g coupling \r\n",
      "    0.00000000E+00        4             25        21        21        23 # h_1 g g Z coupling \r\n",
      "    0.00000000E+00        3             25        25        23 # h_1 h_1 Z coupling  \r\n",
      "Block EFFHIGGSCOUPLINGS # values of loop-induced couplings \r\n",
      "        25           22           22     0.30948651E-04 # H-Photon-Photon \r\n",
      "        25           21           21     0.66332659E-04 # H-Gluon-Gluon \r\n",
      "        25           22           23     0.00000000E+00 # H-Photon-Z (not yet calculated by SPheno) \r\n",
      "Block SPhenoLowEnergy # low energy observables \r\n",
      "      20    2.14084886E-23  # (g-2)_e\r\n",
      "      21    2.14925631E-14  # (g-2)_mu\r\n",
      "      22    9.72561162E-10  # (g-2)_tau\r\n",
      "      23    0.00000000E+00  # EDM(e)\r\n",
      "      24    0.00000000E+00  # EDM(mu)\r\n",
      "      25    0.00000000E+00  # EDM(tau)\r\n",
      "      39    2.44065970E-02  # delta(rho)\r\n",
      "Block FlavorKitQFV # quark flavor violating observables \r\n",
      "     200    3.15000000E-04  # BR(B->X_s gamma)\r\n",
      "     201    1.00000000E+00  # BR(B->X_s gamma)/BR(B->X_s gamma)_SM\r\n",
      "     300    2.63388992E-03  # BR(D->mu nu)\r\n",
      "     301    9.98906512E-01  # BR(D->mu nu)/BR(D->mu nu)_SM\r\n",
      "     400    2.49265971E-02  # BR(Ds->mu nu)\r\n",
      "     401    9.98787370E-01  # BR(Ds->mu nu)/BR(Ds->mu nu)_SM\r\n",
      "     402    2.43609487E-01  # BR(Ds->tau nu)\r\n",
      "     403    9.98787281E-01  # BR(Ds->tau nu)/BR(Ds->tau nu)_SM\r\n",
      "     500    2.28834415E-06  # BR(B->mu nu)\r\n",
      "     501    9.91294580E-01  # BR(B->mu nu)/BR(B->mu nu)_SM\r\n",
      "     502    5.09186110E-04  # BR(B->tau nu)\r\n",
      "     503    9.91293940E-01  # BR(B->tau nu)/BR(B->tau nu)_SM\r\n",
      "     600    2.82863360E+00  # BR(K->mu nu)\r\n",
      "     601    9.99923708E-01  # BR(K->mu nu)/BR(K->mu nu)_SM\r\n",
      "     602    2.47647734E-05  # R_K = BR(K->e nu)/(K->mu nu)\r\n",
      "     603    2.47609948E-05  # R_K^SM = BR(K->e nu)_SM/(K->mu nu)_SM\r\n",
      "    1900    1.78773019E+01  # Delta(M_Bs)\r\n",
      "    1901    1.00076509E+00  # Delta(M_Bs)/Delta(M_Bs)_SM\r\n",
      "    1902    3.99640977E-01  # Delta(M_Bd)\r\n",
      "    1903    1.00091018E+00  # Delta(M_Bd)/Delta(M_Bd)_SM\r\n",
      "    4000    2.48195823E-15  # BR(B^0_d->e e)\r\n",
      "    4001    1.00000291E+00  # BR(B^0_d->e e)/BR(B^0_d->e e)_SM\r\n",
      "    4002    7.70658095E-14  # BR(B^0_s->e e)\r\n",
      "    4003    1.00000287E+00  # BR(B^0_s->e e)/BR(B^0_s->e e)_SM\r\n",
      "    4004    1.06026463E-10  # BR(B^0_d->mu mu)\r\n",
      "    4005    1.00000291E+00  # BR(B^0_d->mu mu)/BR(B^0_d->mu mu)_SM\r\n",
      "    4006    3.29224980E-09  # BR(B^0_s->mu mu)\r\n",
      "    4007    1.00000287E+00  # BR(B^0_s->mu mu)/BR(B^0_s->mu mu)_SM\r\n",
      "    4008    2.21925762E-08  # BR(B^0_d->tau tau)\r\n",
      "    4009    1.00000159E+00  # BR(B^0_d->tau tau)/BR(B^0_d->tau tau)_SM\r\n",
      "    4010    6.98223420E-07  # BR(B^0_s->tau tau)\r\n",
      "    4011    1.00000161E+00  # BR(B^0_s->tau tau)/BR(B^0_s->tau tau)_SM\r\n",
      "    5000    1.64140935E-06  # BR(B-> s e e)\r\n",
      "    5001    9.91614369E-01  # BR(B-> s e e)/BR(B-> s e e)_SM\r\n",
      "    5002    1.59101138E-06  # BR(B-> s mu mu)\r\n",
      "    5003    9.91414065E-01  # BR(B-> s mu mu)/BR(B-> s mu mu)_SM\r\n",
      "    6000    1.10138940E-07  # BR(B -> K mu mu)\r\n",
      "    6001    9.92242700E-01  # BR(B -> K mu mu)/BR(B -> K mu mu)_SM\r\n",
      "    7000    4.10417023E-05  # BR(B->s nu nu)\r\n",
      "    7001    1.00000000E+00  # BR(B->s nu nu)/BR(B->s nu nu)_SM\r\n",
      "    7002    1.90034270E-06  # BR(B->D nu nu)\r\n",
      "    7003    1.00000000E+00  # BR(B->D nu nu)/BR(B->D nu nu)_SM\r\n",
      "    8000    1.30079702E-10  # BR(K^+ -> pi^+ nu nu)\r\n",
      "    8001    1.00000000E+00  # BR(K^+ -> pi^+ nu nu)/BR(K^+ -> pi^+ nu nu)_SM\r\n",
      "    8002    3.03209489E-11  # BR(K_L -> pi^0 nu nu)\r\n",
      "    8003    1.00000000E+00  # BR(K_L -> pi^0 nu nu)/BR(K_L -> pi^0 nu nu)_SM\r\n",
      "    9100    2.12126936E-15  # Delta(M_K)\r\n",
      "    9102    1.00000027E+00  # Delta(M_K)/Delta(M_K)_SM\r\n",
      "    9103    3.29704991E-03  # epsilon_K\r\n",
      "    9104    1.00000383E+00  # epsilon_K/epsilon_K^SM\r\n",
      "Block FlavorKitLFV # lepton flavor violating observables \r\n",
      "     701    0.00000000E+00  # BR(mu->e gamma)\r\n",
      "     702    0.00000000E+00  # BR(tau->e gamma)\r\n",
      "     703    0.00000000E+00  # BR(tau->mu gamma)\r\n",
      "     800    0.00000000E+00  # CR(mu-e, Al)\r\n",
      "     801    0.00000000E+00  # CR(mu-e, Ti)\r\n",
      "     802    0.00000000E+00  # CR(mu-e, Sr)\r\n",
      "     803    0.00000000E+00  # CR(mu-e, Sb)\r\n",
      "     804    0.00000000E+00  # CR(mu-e, Au)\r\n",
      "     805    0.00000000E+00  # CR(mu-e, Pb)\r\n",
      "     901    0.00000000E+00  # BR(mu->3e)\r\n",
      "     902    0.00000000E+00  # BR(tau->3e)\r\n",
      "     903    0.00000000E+00  # BR(tau->3mu)\r\n",
      "     904    0.00000000E+00  # BR(tau- -> e- mu+ mu-)\r\n",
      "     905    0.00000000E+00  # BR(tau- -> mu- e+ e-)\r\n",
      "     906    0.00000000E+00  # BR(tau- -> e+ mu- mu-)\r\n",
      "     907    0.00000000E+00  # BR(tau- -> mu+ e- e-)\r\n",
      "    1001    0.00000000E+00  # BR(Z->e mu)\r\n",
      "    1002    0.00000000E+00  # BR(Z->e tau)\r\n",
      "    1003    0.00000000E+00  # BR(Z->mu tau)\r\n",
      "    1101    0.00000000E+00  # BR(h->e mu)\r\n",
      "    1102    0.00000000E+00  # BR(h->e tau)\r\n",
      "    1103    0.00000000E+00  # BR(h->mu tau)\r\n",
      "    2001    0.00000000E+00  # BR(tau->e pi)\r\n",
      "    2002    0.00000000E+00  # BR(tau->e eta)\r\n",
      "    2003    0.00000000E+00  # BR(tau->e eta')\r\n",
      "    2004    0.00000000E+00  # BR(tau->mu pi)\r\n",
      "    2005    0.00000000E+00  # BR(tau->mu eta)\r\n",
      "    2006    0.00000000E+00  # BR(tau->mu eta')\r\n",
      "Block FWCOEF Q=  1.60000000E+02  # Wilson coefficients at scale Q \r\n",
      "      030 4422   00   0    -0.17249277E-08    # coeffC7sm\r\n",
      "      030 4422   00   2    -0.17249277E-08    # coeffC7\r\n",
      "      030 4322   00   2    -0.33221735E-10    # coeffC7p\r\n",
      "      030 4422   00   1     0.00000000E+00    # coeffC7NP\r\n",
      "      030 4322   00   1    -0.33221735E-10    # coeffC7pNP\r\n",
      "      030 6421   00   0    -0.86399912E-09    # coeffC8sm\r\n",
      "      030 6421   00   2    -0.86399912E-09    # coeffC8\r\n",
      "      030 6321   00   2    -0.16633466E-10    # coeffC8p\r\n",
      "      030 6421   00   1     0.00000000E+00    # coeffC8NP\r\n",
      "      030 6321   00   1    -0.16633466E-10    # coeffC8pNP\r\n",
      "  0305111 4133   00   0     0.10365840E-08    # coeffC9eeSM\r\n",
      "  0305111 4133   00   2     0.10365840E-08    # coeffC9ee\r\n",
      "  0305111 4233   00   2    -0.79932048E-15    # coeffC9Pee\r\n",
      "  0305111 4133   00   1     0.00000000E+00    # coeffC9eeNP\r\n",
      "  0305111 4233   00   1    -0.79932048E-15    # coeffC9PeeNP\r\n",
      "  0305111 4137   00   0    -0.39462981E-08    # coeffC10eeSM\r\n",
      "  0305111 4137   00   2    -0.39462981E-08    # coeffC10ee\r\n",
      "  0305111 4237   00   2    -0.80615661E-14    # coeffC10Pee\r\n",
      "  0305111 4137   00   1     0.00000000E+00    # coeffC10eeNP\r\n",
      "  0305111 4237   00   1    -0.80615661E-14    # coeffC10PeeNP\r\n",
      "  0305131 4133   00   0     0.10365835E-08    # coeffC9mumuSM\r\n",
      "  0305131 4133   00   2     0.10365835E-08    # coeffC9mumu\r\n",
      "  0305131 4233   00   2    -0.79931358E-15    # coeffC9Pmumu\r\n",
      "  0305131 4133   00   1     0.00000000E+00    # coeffC9mumuNP\r\n",
      "  0305131 4233   00   1    -0.79931358E-15    # coeffC9PmumuNP\r\n",
      "  0305131 4137   00   0    -0.39462987E-08    # coeffC10mumuSM\r\n",
      "  0305131 4137   00   2    -0.39462987E-08    # coeffC10mumu\r\n",
      "  0305131 4237   00   2    -0.80615730E-14    # coeffC10Pmumu\r\n",
      "  0305131 4137   00   1     0.00000000E+00    # coeffC10mumuNP\r\n",
      "  0305131 4237   00   1    -0.80615730E-14    # coeffC10PmumuNP\r\n",
      "  0305121 4141   00   0    -0.12190551E-07    # coeffCLnu1nu1SM\r\n",
      "  0305121 4141   00   2    -0.12190551E-07    # coeffCLnu1nu1\r\n",
      "  0305121 4241   00   2     0.16123132E-13    # coeffCLPnu1nu1\r\n",
      "  0305121 4141   00   1     0.00000000E+00    # coeffCLnu1nu1NP\r\n",
      "  0305121 4241   00   1     0.16123132E-13    # coeffCLPnu1nu1NP\r\n",
      "  0305141 4141   00   0    -0.12190434E-07    # coeffCLnu2nu2SM\r\n",
      "  0305141 4141   00   2    -0.12190434E-07    # coeffCLnu2nu2\r\n",
      "  0305141 4241   00   2     0.16123118E-13    # coeffCLPnu2nu2\r\n",
      "  0305141 4141   00   1     0.00000000E+00    # coeffCLnu2nu2NP\r\n",
      "  0305141 4241   00   1     0.16123118E-13    # coeffCLPnu2nu2NP\r\n",
      "  0305161 4141   00   0    -0.12165638E-07    # coeffCLnu3nu3SM\r\n",
      "  0305161 4141   00   2    -0.12165638E-07    # coeffCLnu3nu3\r\n",
      "  0305161 4241   00   2     0.16119246E-13    # coeffCLPnu3nu3\r\n",
      "  0305161 4141   00   1     0.00000000E+00    # coeffCLnu3nu3NP\r\n",
      "  0305161 4241   00   1     0.16119246E-13    # coeffCLPnu3nu3NP\r\n",
      "  0305121 4142   00   0     0.00000000E+00    # coeffCRnu1nu1SM\r\n",
      "  0305121 4142   00   2     0.00000000E+00    # coeffCRnu1nu1\r\n",
      "  0305121 4242   00   2     0.00000000E+00    # coeffCRPnu1nu1\r\n",
      "  0305121 4142   00   1     0.00000000E+00    # coeffCRnu1nu1NP\r\n",
      "  0305121 4242   00   1     0.00000000E+00    # coeffCRPnu1nu1NP\r\n",
      "  0305141 4142   00   0     0.00000000E+00    # coeffCRnu2nu2SM\r\n",
      "  0305141 4142   00   2     0.00000000E+00    # coeffCRnu2nu2\r\n",
      "  0305141 4242   00   2     0.00000000E+00    # coeffCRPnu2nu2\r\n",
      "  0305141 4142   00   1     0.00000000E+00    # coeffCRnu2nu2NP\r\n",
      "  0305141 4242   00   1     0.00000000E+00    # coeffCRPnu2nu2NP\r\n",
      "  0305161 4142   00   0     0.00000000E+00    # coeffCRnu3nu3SM\r\n",
      "  0305161 4142   00   2     0.00000000E+00    # coeffCRnu3nu3\r\n",
      "  0305161 4242   00   2     0.00000000E+00    # coeffCRPnu3nu3\r\n",
      "  0305161 4142   00   1     0.00000000E+00    # coeffCRnu3nu3NP\r\n",
      "  0305161 4242   00   1     0.00000000E+00    # coeffCRPnu3nu3NP\r\n",
      "Block IMFWCOEF Q=  1.60000000E+02  # Im(Wilson coefficients) at scale Q \r\n",
      "      030 4422   00   0     0.64291917E-10    # coeffC7sm\r\n",
      "      030 4422   00   2     0.64291917E-10    # coeffC7\r\n",
      "      030 4322   00   2     0.23223838E-11    # coeffC7p\r\n",
      "      030 4422   00   1     0.00000000E+00    # coeffC7NP\r\n",
      "      030 4322   00   1     0.23223838E-11    # coeffC7pNP\r\n",
      "      030 6421   00   0     0.74456423E-10    # coeffC8sm\r\n",
      "      030 6421   00   2     0.74456423E-10    # coeffC8\r\n",
      "      030 6321   00   2     0.14350099E-11    # coeffC8p\r\n",
      "      030 6421   00   1     0.00000000E+00    # coeffC8NP\r\n",
      "      030 6321   00   1     0.14350099E-11    # coeffC8pNP\r\n",
      "  0305111 4133   00   0    -0.18508864E-10    # coeffC9eeSM\r\n",
      "  0305111 4133   00   2    -0.18508864E-10    # coeffC9ee\r\n",
      "  0305111 4233   00   2     0.14276932E-16    # coeffC9Pee\r\n",
      "  0305111 4133   00   1     0.00000000E+00    # coeffC9eeNP\r\n",
      "  0305111 4233   00   1     0.14276932E-16    # coeffC9PeeNP\r\n",
      "  0305111 4137   00   0     0.70426534E-10    # coeffC10eeSM\r\n",
      "  0305111 4137   00   2     0.70426534E-10    # coeffC10ee\r\n",
      "  0305111 4237   00   2     0.14399034E-15    # coeffC10Pee\r\n",
      "  0305111 4137   00   1     0.00000000E+00    # coeffC10eeNP\r\n",
      "  0305111 4237   00   1     0.14399034E-15    # coeffC10PeeNP\r\n",
      "  0305131 4133   00   0    -0.18508855E-10    # coeffC9mumuSM\r\n",
      "  0305131 4133   00   2    -0.18508855E-10    # coeffC9mumu\r\n",
      "  0305131 4233   00   2     0.14276809E-16    # coeffC9Pmumu\r\n",
      "  0305131 4133   00   1     0.00000000E+00    # coeffC9mumuNP\r\n",
      "  0305131 4233   00   1     0.14276809E-16    # coeffC9PmumuNP\r\n",
      "  0305131 4137   00   0     0.70426543E-10    # coeffC10mumuSM\r\n",
      "  0305131 4137   00   2     0.70426543E-10    # coeffC10mumu\r\n",
      "  0305131 4237   00   2     0.14399046E-15    # coeffC10Pmumu\r\n",
      "  0305131 4137   00   1     0.00000000E+00    # coeffC10mumuNP\r\n",
      "  0305131 4237   00   1     0.14399046E-15    # coeffC10PmumuNP\r\n",
      "  0305121 4141   00   0     0.21762028E-09    # coeffCLnu1nu1SM\r\n",
      "  0305121 4141   00   2     0.21762028E-09    # coeffCLnu1nu1\r\n",
      "  0305121 4241   00   2    -0.28798068E-15    # coeffCLPnu1nu1\r\n",
      "  0305121 4141   00   1     0.00000000E+00    # coeffCLnu1nu1NP\r\n",
      "  0305121 4241   00   1    -0.28798068E-15    # coeffCLPnu1nu1NP\r\n",
      "  0305141 4141   00   0     0.21761728E-09    # coeffCLnu2nu2SM\r\n",
      "  0305141 4141   00   2     0.21761728E-09    # coeffCLnu2nu2\r\n",
      "  0305141 4241   00   2    -0.28798044E-15    # coeffCLPnu2nu2\r\n",
      "  0305141 4141   00   1     0.00000000E+00    # coeffCLnu2nu2NP\r\n",
      "  0305141 4241   00   1    -0.28798044E-15    # coeffCLPnu2nu2NP\r\n",
      "  0305161 4141   00   0     0.21715240E-09    # coeffCLnu3nu3SM\r\n",
      "  0305161 4141   00   2     0.21715240E-09    # coeffCLnu3nu3\r\n",
      "  0305161 4241   00   2    -0.28791130E-15    # coeffCLPnu3nu3\r\n",
      "  0305161 4141   00   1     0.00000000E+00    # coeffCLnu3nu3NP\r\n",
      "  0305161 4241   00   1    -0.28791130E-15    # coeffCLPnu3nu3NP\r\n",
      "  0305121 4142   00   0     0.00000000E+00    # coeffCRnu1nu1SM\r\n",
      "  0305121 4142   00   2     0.00000000E+00    # coeffCRnu1nu1\r\n",
      "  0305121 4242   00   2     0.00000000E+00    # coeffCRPnu1nu1\r\n",
      "  0305121 4142   00   1     0.00000000E+00    # coeffCRnu1nu1NP\r\n",
      "  0305121 4242   00   1     0.00000000E+00    # coeffCRPnu1nu1NP\r\n",
      "  0305141 4142   00   0     0.00000000E+00    # coeffCRnu2nu2SM\r\n",
      "  0305141 4142   00   2     0.00000000E+00    # coeffCRnu2nu2\r\n",
      "  0305141 4242   00   2     0.00000000E+00    # coeffCRPnu2nu2\r\n",
      "  0305141 4142   00   1     0.00000000E+00    # coeffCRnu2nu2NP\r\n",
      "  0305141 4242   00   1     0.00000000E+00    # coeffCRPnu2nu2NP\r\n",
      "  0305161 4142   00   0     0.00000000E+00    # coeffCRnu3nu3SM\r\n",
      "  0305161 4142   00   2     0.00000000E+00    # coeffCRnu3nu3\r\n",
      "  0305161 4242   00   2     0.00000000E+00    # coeffCRPnu3nu3\r\n",
      "  0305161 4142   00   1     0.00000000E+00    # coeffCRnu3nu3NP\r\n",
      "  0305161 4242   00   1     0.00000000E+00    # coeffCRPnu3nu3NP\r\n",
      "DECAY         4     3.82452319E-13   # Fu_2\r\n",
      "#    BR                NDA      ID1      ID2\r\n",
      "#    BR                NDA      ID1      ID2       ID3\r\n",
      "     3.05502575E-02    3            2         -1          1   # BR(Fu_2 -> Fu_1 Fd_1^* Fd_1 )\r\n",
      "     5.45954987E-01    3            2         -1          3   # BR(Fu_2 -> Fu_1 Fd_1^* Fd_2 )\r\n",
      "     1.56486313E-03    3            2         -3          1   # BR(Fu_2 -> Fu_1 Fd_2^* Fd_1 )\r\n",
      "     2.79270154E-02    3            2         -3          3   # BR(Fu_2 -> Fu_1 Fd_2^* Fd_2 )\r\n",
      "     1.07295183E-02    3            1        -11         12   # BR(Fu_2 -> Fd_1 Fe_1^* Fv_1 )\r\n",
      "     1.01645236E-02    3            1        -13         14   # BR(Fu_2 -> Fd_1 Fe_2^* Fv_2 )\r\n",
      "     1.91744771E-01    3            3        -11         12   # BR(Fu_2 -> Fd_2 Fe_1^* Fv_1 )\r\n",
      "     1.81364064E-01    3            3        -13         14   # BR(Fu_2 -> Fd_2 Fe_2^* Fv_2 )\r\n",
      "DECAY         6     1.55565288E+00   # Fu_3\r\n",
      "#    BR                NDA      ID1      ID2\r\n",
      "     1.00000000E+00    2            5         24   # BR(Fu_3 -> Fd_3 VWp )\r\n",
      "DECAY        13     1.22051868E-18   # Fe_2\r\n",
      "#    BR                NDA      ID1      ID2\r\n",
      "#    BR                NDA      ID1      ID2       ID3\r\n",
      "     2.63969808E-01    3           11        -12         14   # BR(Fe_2 -> Fe_1 Fv_1^* Fv_2 )\r\n",
      "     7.36026661E-01    3           14         -2          1   # BR(Fe_2 -> Fv_2 Fu_1^* Fd_1 )\r\n",
      "     3.53089510E-06    3           14         -2          3   # BR(Fe_2 -> Fv_2 Fu_1^* Fd_2 )\r\n",
      "DECAY        15     2.17022111E-12   # Fe_3\r\n",
      "#    BR                NDA      ID1      ID2\r\n",
      "#    BR                NDA      ID1      ID2       ID3\r\n",
      "     1.99664865E-01    3           11        -12         16   # BR(Fe_3 -> Fe_1 Fv_1^* Fv_3 )\r\n",
      "     1.94368619E-01    3           13        -14         16   # BR(Fe_3 -> Fe_2 Fv_2^* Fv_3 )\r\n",
      "     5.68537963E-01    3           16         -2          1   # BR(Fe_3 -> Fv_3 Fu_1^* Fd_1 )\r\n",
      "     2.97768355E-02    3           16         -2          3   # BR(Fe_3 -> Fv_3 Fu_1^* Fd_2 )\r\n",
      "     4.57258365E-04    3           16         -4          1   # BR(Fe_3 -> Fv_3 Fu_2^* Fd_1 )\r\n",
      "     7.19445852E-03    3           16         -4          3   # BR(Fe_3 -> Fv_3 Fu_2^* Fd_2 )\r\n",
      "DECAY         1     9.46175152E-27   # Fd_1\r\n",
      "#    BR                NDA      ID1      ID2\r\n",
      "#    BR                NDA      ID1      ID2       ID3\r\n",
      "     1.00000000E+00    3            2        -12         11   # BR(Fd_1 -> Fu_1 Fv_1^* Fe_1 )\r\n",
      "DECAY         3     3.60747440E-20   # Fd_2\r\n",
      "#    BR                NDA      ID1      ID2\r\n",
      "#    BR                NDA      ID1      ID2       ID3\r\n",
      "     7.34967004E-01    3            1         -2          2   # BR(Fd_2 -> Fd_1 Fu_1^* Fu_1 )\r\n",
      "     2.65032996E-01    3            2        -12         11   # BR(Fd_2 -> Fu_1 Fv_1^* Fe_1 )\r\n",
      "DECAY         5     1.70442232E-13   # Fd_3\r\n",
      "#    BR                NDA      ID1      ID2\r\n",
      "#    BR                NDA      ID1      ID2       ID3\r\n",
      "     6.12951287E-03    3            1         -2          2   # BR(Fd_3 -> Fd_1 Fu_1^* Fu_1 )\r\n",
      "     4.52963796E-01    3            1         -2          4   # BR(Fd_3 -> Fd_1 Fu_1^* Fu_2 )\r\n",
      "     1.67717286E-04    3            1         -4          2   # BR(Fd_3 -> Fd_1 Fu_2^* Fu_1 )\r\n",
      "     8.80823256E-03    3            1         -4          4   # BR(Fd_3 -> Fd_1 Fu_2^* Fu_2 )\r\n",
      "     3.27013500E-04    3            3         -2          2   # BR(Fd_3 -> Fd_2 Fu_1^* Fu_1 )\r\n",
      "     2.41186489E-02    3            3         -2          4   # BR(Fd_3 -> Fd_2 Fu_1^* Fu_2 )\r\n",
      "     3.11230926E-03    3            3         -4          2   # BR(Fd_3 -> Fd_2 Fu_2^* Fu_1 )\r\n",
      "     1.62627665E-01    3            3         -4          4   # BR(Fd_3 -> Fd_2 Fu_2^* Fu_2 )\r\n",
      "     2.15252618E-03    3            2        -12         11   # BR(Fd_3 -> Fu_1 Fv_1^* Fe_1 )\r\n",
      "     2.14490780E-03    3            2        -14         13   # BR(Fd_3 -> Fu_1 Fv_2^* Fe_2 )\r\n",
      "     5.83957751E-04    3            2        -16         15   # BR(Fd_3 -> Fu_1 Fv_3^* Fe_3 )\r\n",
      "     1.59069889E-01    3            4        -12         11   # BR(Fd_3 -> Fu_2 Fv_1^* Fe_1 )\r\n",
      "     1.58104211E-01    3            4        -14         13   # BR(Fd_3 -> Fu_2 Fv_2^* Fe_2 )\r\n",
      "     1.96896118E-02    3            4        -16         15   # BR(Fd_3 -> Fu_2 Fv_3^* Fe_3 )\r\n",
      "DECAY        23     2.56607399E+00   # VZ\r\n",
      "#    BR                NDA      ID1      ID2\r\n",
      "     1.67223188E-02    2         1012       1012   # BR(VZ -> Chi_1 Chi_1 )\r\n",
      "     1.49769700E-01    2           -1          1   # BR(VZ -> Fd_1^* Fd_1 )\r\n",
      "     1.49769049E-01    2           -3          3   # BR(VZ -> Fd_2^* Fd_2 )\r\n",
      "     1.48507136E-01    2           -5          5   # BR(VZ -> Fd_3^* Fd_3 )\r\n",
      "     3.38101069E-02    2          -11         11   # BR(VZ -> Fe_1^* Fe_1 )\r\n",
      "     3.38098377E-02    2          -13         13   # BR(VZ -> Fe_2^* Fe_2 )\r\n",
      "     3.37340213E-02    2          -15         15   # BR(VZ -> Fe_3^* Fe_3 )\r\n",
      "     1.16744942E-01    2           -2          2   # BR(VZ -> Fu_1^* Fu_1 )\r\n",
      "     1.16628288E-01    2           -4          4   # BR(VZ -> Fu_2^* Fu_2 )\r\n",
      "     6.68348667E-02    2          -12         12   # BR(VZ -> Fv_1^* Fv_1 )\r\n",
      "     6.68348667E-02    2          -14         14   # BR(VZ -> Fv_2^* Fv_2 )\r\n",
      "     6.68348667E-02    2          -16         16   # BR(VZ -> Fv_3^* Fv_3 )\r\n",
      "DECAY        24     2.11336238E+00   # VWp\r\n",
      "#    BR                NDA      ID1      ID2\r\n",
      "     3.16468443E-01    2           -1          2   # BR(VWp -> Fd_1^* Fu_1 )\r\n",
      "     1.69166709E-02    2           -1          4   # BR(VWp -> Fd_1^* Fu_2 )\r\n",
      "     1.69308572E-02    2           -3          2   # BR(VWp -> Fd_2^* Fu_1 )\r\n",
      "     3.15795683E-01    2           -3          4   # BR(VWp -> Fd_2^* Fu_2 )\r\n",
      "     3.89513722E-06    2           -5          2   # BR(VWp -> Fd_3^* Fu_1 )\r\n",
      "     5.62997720E-04    2           -5          4   # BR(VWp -> Fd_3^* Fu_2 )\r\n",
      "     1.11134416E-01    2          -11         12   # BR(VWp -> Fe_1^* Fv_1 )\r\n",
      "     1.11134128E-01    2          -13         14   # BR(VWp -> Fe_2^* Fv_2 )\r\n",
      "     1.11052909E-01    2          -15         16   # BR(VWp -> Fe_3^* Fv_3 )\r\n",
      "DECAY        25     5.72195370E-03   # hh\r\n",
      "#    BR                NDA      ID1      ID2\r\n",
      "     1.64756394E-03    2           22         22   # BR(hh -> VP VP )\r\n",
      "     6.05485327E-02    2           21         21   # BR(hh -> VG VG )\r\n",
      "     1.71266716E-02    2           23         23   # BR(hh -> VZ VZ )\r\n",
      "     1.56230311E-01    2          -24         24   # BR(hh -> VWp^* VWp_virt )\r\n",
      "     3.10336424E-01    2         1012       1012   # BR(hh -> Chi_1 Chi_1 )\r\n",
      "     4.04910514E-07    2           -1          1   # BR(hh -> Fd_1^* Fd_1 )\r\n",
      "     1.45642719E-04    2           -3          3   # BR(hh -> Fd_2^* Fd_2 )\r\n",
      "     3.90109602E-01    2           -5          5   # BR(hh -> Fd_3^* Fd_3 )\r\n",
      "     3.51276402E-09    2          -11         11   # BR(hh -> Fe_1^* Fe_1 )\r\n",
      "     1.56922281E-04    2          -13         13   # BR(hh -> Fe_2^* Fe_2 )\r\n",
      "     4.52962515E-02    2          -15         15   # BR(hh -> Fe_3^* Fe_3 )\r\n",
      "     7.74692062E-08    2           -2          2   # BR(hh -> Fu_1^* Fu_1 )\r\n",
      "     1.84015914E-02    2           -4          4   # BR(hh -> Fu_2^* Fu_2 )\r\n",
      "DECAY      1014     6.40035855E+01   # Chi_2\r\n",
      "#    BR                NDA      ID1      ID2\r\n",
      "     2.47447801E-01    2         1012         25   # BR(Chi_2 -> Chi_1 hh )\r\n",
      "     2.96272309E-01    2         1012         23   # BR(Chi_2 -> Chi_1 VZ )\r\n",
      "     2.27868084E-01    2    210000601         24   # BR(Chi_2 -> Fre VWp )\r\n",
      "     2.27868084E-01    2   -210000601        -24   # BR(Chi_2 -> Fre^* VWp^* )\r\n",
      "#    BR                NDA      ID1      ID2       ID3\r\n",
      "     5.34306797E-04    3         1012         -6          6   # BR(Chi_2 -> Chi_1 Fu_3^* Fu_3 )\r\n",
      "     4.70805243E-06    3    210000601         -5          6   # BR(Chi_2 -> Fre Fd_3^* Fu_3 )\r\n",
      "     4.70805243E-06    3   -210000601          5         -6   # BR(Chi_2 -> Fre^* Fd_3 Fu_3^* )\r\n",
      "DECAY      1016     6.34748162E+01   # Chi_3\r\n",
      "#    BR                NDA      ID1      ID2\r\n",
      "     2.55137819E-01    2         1012         25   # BR(Chi_3 -> Chi_1 hh )\r\n",
      "     2.53505260E-01    2         1012         23   # BR(Chi_3 -> Chi_1 VZ )\r\n",
      "     2.45358974E-01    2    210000601         24   # BR(Chi_3 -> Fre VWp )\r\n",
      "     2.45358974E-01    2   -210000601        -24   # BR(Chi_3 -> Fre^* VWp^* )\r\n",
      "#    BR                NDA      ID1      ID2       ID3\r\n",
      "     3.98488430E-11    3         1014         -1          1   # BR(Chi_3 -> Chi_2 Fd_1^* Fd_1 )\r\n",
      "     3.97997709E-11    3         1014         -3          3   # BR(Chi_3 -> Chi_2 Fd_2^* Fd_2 )\r\n",
      "     8.99834182E-12    3         1014        -11         11   # BR(Chi_3 -> Chi_2 Fe_1^* Fe_1 )\r\n",
      "     8.98992704E-12    3         1014        -13         13   # BR(Chi_3 -> Chi_2 Fe_2^* Fe_2 )\r\n",
      "     6.33744137E-12    3         1014        -15         15   # BR(Chi_3 -> Chi_2 Fe_3^* Fe_3 )\r\n",
      "     6.26506085E-04    3         1012         -6          6   # BR(Chi_3 -> Chi_1 Fu_3^* Fu_3 )\r\n",
      "     3.10490577E-11    3         1014         -2          2   # BR(Chi_3 -> Chi_2 Fu_1^* Fu_1 )\r\n",
      "     2.57408610E-11    3         1014         -4          4   # BR(Chi_3 -> Chi_2 Fu_2^* Fu_2 )\r\n",
      "     1.77981766E-11    3         1014        -12         12   # BR(Chi_3 -> Chi_2 Fv_1^* Fv_1 )\r\n",
      "     1.77981766E-11    3         1014        -14         14   # BR(Chi_3 -> Chi_2 Fv_2^* Fv_2 )\r\n",
      "     1.77981766E-11    3         1014        -16         16   # BR(Chi_3 -> Chi_2 Fv_3^* Fv_3 )\r\n",
      "     6.23385219E-06    3    210000601         -5          6   # BR(Chi_3 -> Fre Fd_3^* Fu_3 )\r\n",
      "     6.23385219E-06    3   -210000601          5         -6   # BR(Chi_3 -> Fre^* Fd_3 Fu_3^* )\r\n",
      "DECAY 210000601     2.33347528E+01   # Fre\r\n",
      "#    BR                NDA      ID1      ID2\r\n",
      "     9.99847556E-01    2         1012        -24   # BR(Fre -> Chi_1 VWp^* )\r\n",
      "#    BR                NDA      ID1      ID2       ID3\r\n",
      "     1.52443758E-04    3         1012         -6          5   # BR(Fre -> Chi_1 Fu_3^* Fd_3 )\r\n"
     ]
    }
   ],
   "source": [
    "cat SPheno.spc.SimplifiedDMSDFDM"
   ]
  },
  {
   "cell_type": "code",
   "execution_count": 64,
   "metadata": {
    "collapsed": false
   },
   "outputs": [
    {
     "name": "stdout",
     "output_type": "stream",
     "text": [
      "None\n"
     ]
    }
   ],
   "source": [
    "print re.search('^[0-9\\.eE\\-\\+]*$','a')"
   ]
  },
  {
   "cell_type": "code",
   "execution_count": 159,
   "metadata": {
    "collapsed": false
   },
   "outputs": [],
   "source": [
    "idc='0'\n",
    "br=re.search('[0-9]\\.[0-9eE\\-\\+]+',idc)\n",
    "if br:\n",
    "    br=br.group(0)\n",
    "    if re.search(fltchk,br):\n",
    "        print br"
   ]
  },
  {
   "cell_type": "code",
   "execution_count": 156,
   "metadata": {
    "collapsed": true
   },
   "outputs": [],
   "source": [
    "kk"
   ]
  },
  {
   "cell_type": "code",
   "execution_count": 127,
   "metadata": {
    "collapsed": false
   },
   "outputs": [
    {
     "data": {
      "text/plain": [
       "ID                     2.770000e-27\n",
       "ID:~chi,~chi > b b~    8.880000e-01\n",
       "ID:~chi,~chi > c c~    6.750000e-02\n",
       "ID:~chi,~chi > ta t    4.390000e-02\n",
       "ID:~chi,~chi > s s~    4.380000e-04\n",
       "ID:~chi,~chi > mu m    1.580000e-04\n",
       "dtype: float64"
      ]
     },
     "execution_count": 127,
     "metadata": {},
     "output_type": "execute_result"
    }
   ],
   "source": [
    "micromegas"
   ]
  },
  {
   "cell_type": "code",
   "execution_count": 136,
   "metadata": {
    "collapsed": false
   },
   "outputs": [],
   "source": [
    "df=pd.DataFrame()\n",
    "df=df.append(micromegas,ignore_index=True)"
   ]
  },
  {
   "cell_type": "code",
   "execution_count": 138,
   "metadata": {
    "collapsed": false
   },
   "outputs": [
    {
     "data": {
      "text/html": [
       "<div>\n",
       "<table border=\"1\" class=\"dataframe\">\n",
       "  <thead>\n",
       "    <tr style=\"text-align: right;\">\n",
       "      <th></th>\n",
       "      <th>ID</th>\n",
       "      <th>ID:~chi,~chi &gt; b b~</th>\n",
       "      <th>ID:~chi,~chi &gt; c c~</th>\n",
       "      <th>ID:~chi,~chi &gt; mu m</th>\n",
       "      <th>ID:~chi,~chi &gt; s s~</th>\n",
       "      <th>ID:~chi,~chi &gt; ta t</th>\n",
       "      <th>ID:aa</th>\n",
       "    </tr>\n",
       "  </thead>\n",
       "  <tbody>\n",
       "    <tr>\n",
       "      <th>0</th>\n",
       "      <td>2.770000e-27</td>\n",
       "      <td>0.888</td>\n",
       "      <td>0.0675</td>\n",
       "      <td>0.000158</td>\n",
       "      <td>0.000438</td>\n",
       "      <td>0.0439</td>\n",
       "      <td>0</td>\n",
       "    </tr>\n",
       "    <tr>\n",
       "      <th>1</th>\n",
       "      <td>3.000000e+00</td>\n",
       "      <td>0.000</td>\n",
       "      <td>0.0000</td>\n",
       "      <td>0.000000</td>\n",
       "      <td>0.000000</td>\n",
       "      <td>0.0000</td>\n",
       "      <td>4</td>\n",
       "    </tr>\n",
       "  </tbody>\n",
       "</table>\n",
       "</div>"
      ],
      "text/plain": [
       "             ID  ID:~chi,~chi > b b~  ID:~chi,~chi > c c~  \\\n",
       "0  2.770000e-27                0.888               0.0675   \n",
       "1  3.000000e+00                0.000               0.0000   \n",
       "\n",
       "   ID:~chi,~chi > mu m  ID:~chi,~chi > s s~  ID:~chi,~chi > ta t  ID:aa  \n",
       "0             0.000158             0.000438               0.0439      0  \n",
       "1             0.000000             0.000000               0.0000      4  "
      ]
     },
     "execution_count": 138,
     "metadata": {},
     "output_type": "execute_result"
    }
   ],
   "source": [
    "df.append({'ID':3,'ID:aa':4},ignore_index=True).fillna(0)"
   ]
  },
  {
   "cell_type": "code",
   "execution_count": 134,
   "metadata": {
    "collapsed": false
   },
   "outputs": [
    {
     "data": {
      "text/html": [
       "<div>\n",
       "<table border=\"1\" class=\"dataframe\">\n",
       "  <thead>\n",
       "    <tr style=\"text-align: right;\">\n",
       "      <th></th>\n",
       "      <th>ID</th>\n",
       "      <th>ID:~chi,~chi &gt; b b~</th>\n",
       "      <th>ID:~chi,~chi &gt; c c~</th>\n",
       "      <th>ID:~chi,~chi &gt; mu m</th>\n",
       "      <th>ID:~chi,~chi &gt; s s~</th>\n",
       "      <th>ID:~chi,~chi &gt; ta t</th>\n",
       "    </tr>\n",
       "  </thead>\n",
       "  <tbody>\n",
       "    <tr>\n",
       "      <th>0</th>\n",
       "      <td>2.770000e-27</td>\n",
       "      <td>0.888</td>\n",
       "      <td>0.0675</td>\n",
       "      <td>0.000158</td>\n",
       "      <td>0.000438</td>\n",
       "      <td>0.0439</td>\n",
       "    </tr>\n",
       "  </tbody>\n",
       "</table>\n",
       "</div>"
      ],
      "text/plain": [
       "             ID  ID:~chi,~chi > b b~  ID:~chi,~chi > c c~  \\\n",
       "0  2.770000e-27                0.888               0.0675   \n",
       "\n",
       "   ID:~chi,~chi > mu m  ID:~chi,~chi > s s~  ID:~chi,~chi > ta t  \n",
       "0             0.000158             0.000438               0.0439  "
      ]
     },
     "execution_count": 134,
     "metadata": {},
     "output_type": "execute_result"
    }
   ],
   "source": [
    "df"
   ]
  },
  {
   "cell_type": "code",
   "execution_count": 94,
   "metadata": {
    "collapsed": true
   },
   "outputs": [],
   "source": [
    "cc=re.finditer('[0-9\\.eE\\-\\+]+',c)\n",
    "[g.group(0) for g in cc]"
   ]
  },
  {
   "cell_type": "code",
   "execution_count": 104,
   "metadata": {
    "collapsed": false
   },
   "outputs": [
    {
     "data": {
      "text/plain": [
       "'  ~chi2,~chi2 -> mu- m  1.58E-04'"
      ]
     },
     "execution_count": 104,
     "metadata": {},
     "output_type": "execute_result"
    }
   ],
   "source": [
    "c"
   ]
  },
  {
   "cell_type": "code",
   "execution_count": 115,
   "metadata": {
    "collapsed": false
   },
   "outputs": [
    {
     "data": {
      "text/plain": [
       "'~chi,~chi > mu m'"
      ]
     },
     "execution_count": 115,
     "metadata": {},
     "output_type": "execute_result"
    }
   ],
   "source": [
    "re.sub('\\s+$','',re.sub('^\\s+','',re.sub('[0-9\\.eE\\-\\+]+','',c)))"
   ]
  },
  {
   "cell_type": "code",
   "execution_count": 120,
   "metadata": {
    "collapsed": false
   },
   "outputs": [
    {
     "data": {
      "text/plain": [
       "'1.58E-04'"
      ]
     },
     "execution_count": 120,
     "metadata": {},
     "output_type": "execute_result"
    }
   ],
   "source": []
  },
  {
   "cell_type": "markdown",
   "metadata": {},
   "source": [
    "## Scan $m_{DM}$\n",
    "### Higgsilino-like"
   ]
  },
  {
   "cell_type": "code",
   "execution_count": 9,
   "metadata": {
    "collapsed": false,
    "scrolled": true
   },
   "outputs": [
    {
     "name": "stdout",
     "output_type": "stream",
     "text": [
      "0\n",
      "10\n",
      "20\n",
      "30\n",
      "40\n",
      "50\n",
      "60\n",
      "70\n",
      "80\n",
      "90\n"
     ]
    }
   ],
   "source": [
    "df=pd.DataFrame()\n",
    "a.LHA.blocks['SPHENOINPUT'].entries[55]='0               # Calculate one loop masses'\n",
    "dm_masses=np.linspace(100,1200,100)\n",
    "for MDM in dm_masses:\n",
    "    if np.where(dm_masses==MDM)[0][0]%10==0: #find the index of the array entry\n",
    "        print np.where(dm_masses==MDM)[0][0]\n",
    "    a.LHA.blocks['MINPAR'][2]='%0.8E       #MDF' %MDM  # -> Fill a.Series.MDF\n",
    "    a.runmicromegas(Direct_Detection=True)\n",
    "    mo=run_feynrules_SDFDM(MDF = -a.Series.MDF,MN = a.Series.MnINPUT,\\\n",
    "                        lu = a.Series.lamuINPUT,ld = a.Series.lamdINPUT ,v=a.vev)\n",
    "    mo=a.micromegas_output(mo['Full'])\n",
    "    a.Series['Omega_h2_official']=mo.Omega_h2\n",
    "    a.Series['proton_SI_official']=mo.proton.SI\n",
    "    a.Series['neutron_SI_official']=mo.neutron.SI\n",
    "    df=df.append(a.Series,ignore_index=True)"
   ]
  },
  {
   "cell_type": "markdown",
   "metadata": {},
   "source": [
    "### Relic density"
   ]
  },
  {
   "cell_type": "code",
   "execution_count": 10,
   "metadata": {
    "collapsed": false
   },
   "outputs": [
    {
     "data": {
      "image/png": "[encoded data removed]",
      "text/plain": [
       "<matplotlib.figure.Figure at 0x7f8d3007e1d0>"
      ]
     },
     "metadata": {},
     "output_type": "display_data"
    }
   ],
   "source": [
    "plt.semilogy(df.MDF,df.Omega_h2,'ko',label='SARAH')\n",
    "plt.semilogy(df.MDF,df.Omega_h2_official,'r-',label='micromegas/SDFDM')\n",
    "plt.xlabel(r'$m_{\\rm DM}$ [GeV]',size=20)\n",
    "plt.ylabel(r'$\\Omega h^2$',size=20)\n",
    "plt.grid()\n",
    "plt.legend(loc='best')\n",
    "plt.savefig('omega.pdf')\n"
   ]
  },
  {
   "cell_type": "code",
   "execution_count": 11,
   "metadata": {
    "collapsed": false
   },
   "outputs": [
    {
     "data": {
      "image/png": "[encoded data removed]",
      "text/plain": [
       "<matplotlib.figure.Figure at 0x7f8d2da68050>"
      ]
     },
     "metadata": {},
     "output_type": "display_data"
    }
   ],
   "source": [
    "plt.semilogy(df.MDF,df.proton_SI,'k-',label='SARAH')\n",
    "plt.semilogy(df.MDF,df.proton_SI_official,'r--',label='micromegas/IDM')\n",
    "plt.xlabel(r'$m_{\\rm DM}$ [GeV]',size=20)\n",
    "plt.ylabel(r'Direct Detection [pb]' ,size=20)\n",
    "plt.legend(loc='best')\n",
    "plt.savefig('dd.pdf')"
   ]
  },
  {
   "cell_type": "markdown",
   "metadata": {},
   "source": [
    "### Singlet-like"
   ]
  },
  {
   "cell_type": "code",
   "execution_count": 12,
   "metadata": {
    "collapsed": false
   },
   "outputs": [
    {
     "name": "stdout",
     "output_type": "stream",
     "text": [
      "0\n",
      "10\n",
      "20\n",
      "30\n",
      "40\n",
      "50\n",
      "60\n",
      "70\n",
      "80\n",
      "90\n"
     ]
    }
   ],
   "source": [
    "dn=pd.DataFrame()\n",
    "a.LHA.blocks['SPHENOINPUT'].entries[55]='0               # Calculate one loop masses'\n",
    "a.LHA.blocks['MINPAR'][2]='%0.8E       #MDF' %1200  # -> Fill a.Series.MDF\n",
    "\n",
    "\n",
    "dm_masses=np.linspace(100,1200,100)\n",
    "for MDM in dm_masses:\n",
    "    if np.where(dm_masses==MDM)[0][0]%10==0: #find the index of the array entry\n",
    "        print np.where(dm_masses==MDM)[0][0]\n",
    "    a.LHA.blocks['MINPAR'][3]='%0.8E       #MN' %MDM  # -> Fill a.Series.MN\n",
    "    a.runmicromegas(Direct_Detection=True)\n",
    "    mo=run_feynrules_SDFDM(MDF = -a.Series.MDF,MN = a.Series.MN,\\\n",
    "                        lu = a.Series.lamuINPUT,ld = a.Series.lamdINPUT ,v=a.vev)\n",
    "    mo=a.micromegas_output(mo['Full'])\n",
    "    a.Series['Omega_h2_official']=mo.Omega_h2\n",
    "    a.Series['proton_SI_official']=mo.proton.SI\n",
    "    a.Series['neutron_SI_official']=mo.neutron.SI\n",
    "    dn=dn.append(a.Series,ignore_index=True)"
   ]
  },
  {
   "cell_type": "code",
   "execution_count": 13,
   "metadata": {
    "collapsed": false
   },
   "outputs": [
    {
     "data": {
      "image/png": "[encoded data removed]",
      "text/plain": [
       "<matplotlib.figure.Figure at 0x7f8d2d924e10>"
      ]
     },
     "metadata": {},
     "output_type": "display_data"
    }
   ],
   "source": [
    "plt.semilogy(dn.MN,dn.Omega_h2,'ko',label='SARAH')\n",
    "plt.semilogy(dn.MN,dn.Omega_h2_official,'r-',label='micromegas/SDFDM')\n",
    "plt.xlabel(r'$m_{\\rm DM}$ [GeV]',size=20)\n",
    "plt.ylabel(r'$\\Omega h^2$',size=20)\n",
    "plt.grid()\n",
    "plt.legend(loc='best')\n",
    "plt.savefig('omega.pdf')"
   ]
  },
  {
   "cell_type": "code",
   "execution_count": 14,
   "metadata": {
    "collapsed": false
   },
   "outputs": [
    {
     "data": {
      "image/png": "[encoded data removed]",
      "text/plain": [
       "<matplotlib.figure.Figure at 0x7f8d2d972750>"
      ]
     },
     "metadata": {},
     "output_type": "display_data"
    }
   ],
   "source": [
    "plt.semilogy(dn.MN,dn.proton_SI,'k-',label='SARAH')\n",
    "plt.semilogy(dn.MN,dn.proton_SI_official,'r--',label='micromegas/IDM')\n",
    "plt.xlabel(r'$m_{\\rm DM}$ [GeV]',size=20)\n",
    "plt.ylabel(r'Direct Detection [pb]' ,size=20)\n",
    "plt.legend(loc='best')\n",
    "plt.savefig('dd.pdf')"
   ]
  },
  {
   "cell_type": "markdown",
   "metadata": {},
   "source": [
    "## Pure higssino limit"
   ]
  },
  {
   "cell_type": "code",
   "execution_count": 15,
   "metadata": {
    "collapsed": false
   },
   "outputs": [
    {
     "name": "stdout",
     "output_type": "stream",
     "text": [
      "Omega h^2, SI proton, neutron = 0.00103 2.47e-24 2.536e-24\n"
     ]
    }
   ],
   "source": [
    "v=a.vev\n",
    "#lambda_1=0.13\n",
    "mdf=100\n",
    "mn=2000\n",
    "lambdau=1E-4\n",
    "lambdad=1E-4\n",
    "devnull=commands.getoutput('rm -f SPheno.spc.%s' %a.MODEL)\n",
    "a.LHA.blocks['SPHENOINPUT'].entries[55]='0               # Calculate one loop masses'\n",
    "a.LHA.blocks['MINPAR'][2]='%0.8E       #MDF' %mdf\n",
    "a.LHA.blocks['MINPAR'][3]='%0.8E       #MN' %mn\n",
    "a.LHA.blocks['MINPAR'][4]='%0.8E       # lamuINPUT' %lambdau\n",
    "a.LHA.blocks['MINPAR'][5]='%0.8E       # lamdINPUT' %lambdad\n",
    "moc=a.runmicromegas(Direct_Detection=True)\n",
    "print 'Omega h^2, SI proton, neutron =',a.Series.Omega_h2,a.Series.proton_SI,a.Series.neutron_SI"
   ]
  },
  {
   "cell_type": "code",
   "execution_count": 16,
   "metadata": {
    "collapsed": false
   },
   "outputs": [
    {
     "data": {
      "text/plain": [
       "_dict([(1, '1.3000000E-01  # lambda1INPUT'),\n",
       "       (2, '1.00000000E+02       #MDF'),\n",
       "       (3, '2.00000000E+03       #MN'),\n",
       "       (4, '1.00000000E-04       # lamuINPUT'),\n",
       "       (5, '1.00000000E-04       # lamdINPUT')])"
      ]
     },
     "execution_count": 16,
     "metadata": {},
     "output_type": "execute_result"
    }
   ],
   "source": [
    "a.LHA.blocks['MINPAR'].entries"
   ]
  },
  {
   "cell_type": "code",
   "execution_count": 17,
   "metadata": {
    "collapsed": false
   },
   "outputs": [
    {
     "name": "stdout",
     "output_type": "stream",
     "text": [
      "0.00107 3.835e-24\n"
     ]
    }
   ],
   "source": [
    "mo=run_feynrules_SDFDM(MDF = -a.Series.MDF,MN = a.Series.MN,\\\n",
    "                        lu = a.Series.lamuINPUT,ld = a.Series.lamdINPUT ,v=a.vev)\n",
    "#implement sigma_v\n",
    "mo=a.micromegas_output(mo['Full'])\n",
    "print mo.Omega_h2,mo.proton.SI"
   ]
  },
  {
   "cell_type": "code",
   "execution_count": 3,
   "metadata": {
    "collapsed": false
   },
   "outputs": [
    {
     "ename": "KeyError",
     "evalue": "200012",
     "output_type": "error",
     "traceback": [
      "\u001b[1;31m---------------------------------------------------------------------------\u001b[0m",
      "\u001b[1;31mKeyError\u001b[0m                                  Traceback (most recent call last)",
      "\u001b[1;32m<ipython-input-3-e8fd003d644d>\u001b[0m in \u001b[0;36m<module>\u001b[1;34m()\u001b[0m\n\u001b[0;32m      1\u001b[0m \u001b[1;32mimport\u001b[0m \u001b[0mpdg\u001b[0m\u001b[1;33m\u001b[0m\u001b[0m\n\u001b[0;32m      2\u001b[0m \u001b[0mpdg\u001b[0m\u001b[1;33m.\u001b[0m\u001b[0mFeR\u001b[0m\u001b[1;33m=\u001b[0m\u001b[1;36m200012\u001b[0m\u001b[1;33m\u001b[0m\u001b[0m\n\u001b[1;32m----> 3\u001b[1;33m \u001b[0mpdg\u001b[0m\u001b[1;33m.\u001b[0m\u001b[0mpdgid_names\u001b[0m\u001b[1;33m[\u001b[0m\u001b[1;36m200012\u001b[0m\u001b[1;33m]\u001b[0m\u001b[1;33m\u001b[0m\u001b[0m\n\u001b[0m",
      "\u001b[1;31mKeyError\u001b[0m: 200012"
     ]
    }
   ],
   "source": []
  },
  {
   "cell_type": "markdown",
   "metadata": {},
   "source": [
    "[Jupyter home](./draft.pdf)"
   ]
  }
 ],
 "metadata": {
  "kernelspec": {
   "display_name": "Python 2",
   "language": "python",
   "name": "python2"
  },
  "language_info": {
   "codemirror_mode": {
    "name": "ipython",
    "version": 2
   },
   "file_extension": ".py",
   "mimetype": "text/x-python",
   "name": "python",
   "nbconvert_exporter": "python",
   "pygments_lexer": "ipython2",
   "version": "2.7.9"
  }
 },
 "nbformat": 4,
 "nbformat_minor": 0
}
