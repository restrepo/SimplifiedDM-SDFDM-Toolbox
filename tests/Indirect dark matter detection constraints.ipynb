{
 "cells": [
  {
   "cell_type": "markdown",
   "metadata": {},
   "source": [
    "#  Indirect dark matter detection detection constatints in the SDFDM"
   ]
  },
  {
   "cell_type": "markdown",
   "metadata": {},
   "source": [
    "We expect here degenerate masses so we must be carefull about the DM particles that is registered by micrOMEGAS:\n",
    "\n",
    "We need to edit prtcls1.mld to have the righ order with Nv0 appearing first"
   ]
  },
  {
   "cell_type": "code",
   "execution_count": 1,
   "metadata": {
    "collapsed": false
   },
   "outputs": [
    {
     "name": "stdout",
     "output_type": "stream",
     "text": [
      "Populating the interactive namespace from numpy and matplotlib\n"
     ]
    }
   ],
   "source": [
    "%pylab inline"
   ]
  },
  {
   "cell_type": "code",
   "execution_count": 2,
   "metadata": {
    "collapsed": false
   },
   "outputs": [],
   "source": [
    "import pandas as pd\n",
    "import numpy as np\n",
    "import os, sys, inspect\n",
    "import commands\n",
    "from hep import *\n",
    "import pdg_series\n",
    "from indirectdirect import *\n",
    "from straightfits import *"
   ]
  },
  {
   "cell_type": "markdown",
   "metadata": {},
   "source": [
    "## Feynrules implementation\n",
    "[Preliminary Analysis](../../../../../2016/micromegas_feynrules/correr_micrOMEGAs-markov.ipynb)\n",
    "\n",
    "See also full results with user galcen in fisica? or gfif?"
   ]
  },
  {
   "cell_type": "markdown",
   "metadata": {},
   "source": [
    "\n",
    "## Benchmark point"
   ]
  },
  {
   "cell_type": "markdown",
   "metadata": {},
   "source": [
    "We choose a benchmark point with the following features\n",
    "* Large $\\langle\\sigma v\\rangle$\n",
    "* Right relic density"
   ]
  },
  {
   "cell_type": "code",
   "execution_count": 3,
   "metadata": {
    "collapsed": false
   },
   "outputs": [],
   "source": [
    "from run_feynrules_SDFM import *"
   ]
  },
  {
   "cell_type": "code",
   "execution_count": 4,
   "metadata": {
    "collapsed": false
   },
   "outputs": [],
   "source": [
    "%%bash\n",
    "cd ../micromegas/SDFDM\n",
    "make main=main.c > /dev/null"
   ]
  },
  {
   "cell_type": "markdown",
   "metadata": {},
   "source": [
    "## Parameter scan"
   ]
  },
  {
   "cell_type": "code",
   "execution_count": 4,
   "metadata": {
    "collapsed": false
   },
   "outputs": [],
   "source": [
    "a=hep(MODEL='SimplifiedDMSDFDM')"
   ]
  },
  {
   "cell_type": "markdown",
   "metadata": {},
   "source": [
    "`a-object` is an object with many attributes and methods. Use the tab to explore them. Some of them are\n",
    "* a.Series: [pandas](http://pandas.pydata.org/) Series object with the \"relevant\" variables \n",
    "* a.LHA: Input LesHouces file as [pyslha](https://pypi.python.org/pypi/pyslha/) object\n",
    "* a.runSPheno() -> a.LHA_out: return LHA output files as [pyslha](https://pypi.python.org/pypi/pyslha/) object\n",
    "* a.runmicromegas() -> a.runSPheno() -> Updated the `a-object`  with micrOMEGAS \"relevant\" output"
   ]
  },
  {
   "cell_type": "markdown",
   "metadata": {},
   "source": [
    "List of constraints for DM=37 GeV and MD=200 GeV\n",
    "* $\\sigma(\\chi_{2,3}^0,\\chi^\\pm)\\operatorname{Br}(\\chi^\\pm \\to \\chi_1^0 W^\\pm)\\operatorname{Br}(\\chi_2^0 \\to \\chi_1^0 Z)<0.3\\ \\text{pb}$ from fig. 15 of [arXiv:1411.1335](http://arxiv.org/pdf/1411.1335v2)\n",
    "* "
   ]
  },
  {
   "cell_type": "code",
   "execution_count": 5,
   "metadata": {
    "collapsed": true
   },
   "outputs": [],
   "source": [
    "scan=False # If false load the data from the saved scan files below"
   ]
  },
  {
   "cell_type": "code",
   "execution_count": 7,
   "metadata": {
    "collapsed": false
   },
   "outputs": [],
   "source": [
    "if scan:\n",
    "    pf=pd.DataFrame()\n",
    "    v=a.vev\n",
    "    #lambda_1=0.13\n",
    "    mdf=-200; MN=40; tanb=100.;lam=0.35\n",
    "    npoints=10000\n",
    "    for mdf in -np.logspace(np.log10(100),np.log10(1000),npoints):\n",
    "        ps=pd.Series()\n",
    "        MN=np.random.uniform(10,50)\n",
    "        tanb=np.random.uniform(1,100)\n",
    "        lam=np.random.uniform(0.1,3)\n",
    "        lu=lam*np.sin(np.arctan(tanb))\n",
    "        ld=lam*np.cos(np.arctan(tanb))\n",
    "        devnull=commands.getoutput('rm -f SPheno.spc.%s' %a.MODEL)\n",
    "        a.LHA.blocks['SPHENOINPUT'].entries[55]='0               # Calculate one loop masses'\n",
    "        a.LHA.blocks['MINPAR'][2]='%0.8E       # MDF' %mdf\n",
    "        a.LHA.blocks['MINPAR'][3]='%0.8E       # MnINPUT' %MN\n",
    "        a.LHA.blocks['MINPAR'][4]='%0.8E       # lamuINPUT' %lu\n",
    "        a.LHA.blocks['MINPAR'][5]='%0.8E       # lamdINPUT' %ld\n",
    "        moc=a.runmicromegas(Direct_Detection=True)\n",
    "        #print 'Omega h^2, SI proton, neutron, MChi =',a.Series.Omega_h2,a.Series.proton_SI,a.Series.neutron_SI,\\\n",
    "        a.LHA_out.blocks['MASS'][a.pdg.pdg_name.Chi_1]\n",
    "    #manual pdgs:\n",
    "        a.pdg['Frep']=-210000601\n",
    "        mof=run_feynrules_SDFDM(MDF = -a.Series.MDF,MN = a.Series.MnINPUT,\\\n",
    "                            lu = a.Series.lamuINPUT,ld = a.Series.lamdINPUT ,v=a.vev)\n",
    "    #implement sigma_v\n",
    "        mo=a.micromegas_output(mof['Full'])\n",
    "        a.branchings(a.LHA_out.decays,min_pdg=25)\n",
    "        #print 'Omega h^2, SI proton, sigmav,Br_inv  =',mo.Omega_h2,mo.proton.SI,mo.sigmav,a.Br_names['h0 ->  Chi_1 Chi_1']\n",
    "        #print a.Br_names['Fre ->  Chi_1 W-'],a.Br_names['Cha.Seriesi_2 ->  Chi_1 Z0']\n",
    "        a.Series['sigma_chi0_chipm']=0.3 #pb from fig. 15 of arXiv:1411.1335\n",
    "        a.Series['Chi_1']=a.LHA_out.blocks['MASS'][a.pdg.pdg_name.Chi_1]\n",
    "        a.Series['Chi_2']=a.LHA_out.blocks['MASS'][a.pdg.pdg_name.Chi_2]\n",
    "        a.Series['Chi_3']=a.LHA_out.blocks['MASS'][a.pdg.pdg_name.Chi_3]\n",
    "        a.Series['Fre']=a.LHA_out.blocks['MASS'][a.pdg.pdg_name.Fre]\n",
    "        ps=ps.append(a.Series)\n",
    "        ps=ps.append(a.Br_names)\n",
    "        ps=ps.append(mo.rename({'Omega_h2':'Omega_h2_mo','proton_SI':'proton_SI_mo','neutron_SI':'neutron_SI_mo'}))\n",
    "        pf=pf.append(ps,ignore_index=True)\n",
    "        pf=pf.fillna(0)"
   ]
  },
  {
   "cell_type": "code",
   "execution_count": 116,
   "metadata": {
    "collapsed": false
   },
   "outputs": [],
   "source": [
    "if scan: \n",
    "    pf.to_csv('scan_full_2.csv',index=False)"
   ]
  },
  {
   "cell_type": "code",
   "execution_count": 6,
   "metadata": {
    "collapsed": false
   },
   "outputs": [],
   "source": [
    "if not scan: #load the data from the saved scan files\n",
    "    pf=pd.read_csv('scan_full.csv')\n",
    "    pf=pf.append(pd.read_csv('scan_full_2.csv'))\n",
    "    \n",
    "pf=pf.sort_values('Chi_1')\n",
    "pf=pf.reset_index(drop=True)"
   ]
  },
  {
   "cell_type": "code",
   "execution_count": 7,
   "metadata": {
    "collapsed": false
   },
   "outputs": [],
   "source": [
    "pf['DD_SI']=0\n",
    "if pf[pf.proton_SI>pf.neutron_SI].shape[0]==0:\n",
    "    pf['DD_SI']=pf.neutron_SI\n",
    "else:\n",
    "    for i in range(pf.shape[0]):\n",
    "        pf=pf.reset_index(drop=True)\n",
    "        pf.loc[i,'DD_SI']=max(pf.proton_SI[i],pf.neutron_SI[i])"
   ]
  },
  {
   "cell_type": "code",
   "execution_count": 8,
   "metadata": {
    "collapsed": false
   },
   "outputs": [],
   "source": [
    "Omega_h2_EXP=np.array([0.1197-0.0044,0.1197,0.1197+0.0044])\n",
    "pf['tanb']=pf.lamuINPUT/pf.lamdINPUT\n",
    "pf['lambda']=np.sqrt(pf.lamuINPUT**2+pf.lamdINPUT**2)\n",
    "pf['z_DD_SI']=pf.Omega_h2/Omega_h2_EXP[1]*pf.DD_SI\n",
    "pf['z2_sigmav']=pf.Omega_h2**2/Omega_h2_EXP[1]**2*pf.sigmav #sigmav calculated from feynrules implemenation"
   ]
  },
  {
   "cell_type": "markdown",
   "metadata": {},
   "source": [
    "## Constraints\n",
    "* $\\Omega h^2\\le(\\Omega h^2)_{\\text{Planck}}$, at one $\\sigma$"
   ]
  },
  {
   "cell_type": "code",
   "execution_count": 9,
   "metadata": {
    "collapsed": false
   },
   "outputs": [
    {
     "name": "stdout",
     "output_type": "stream",
     "text": [
      "8959 8.99903836\n"
     ]
    }
   ],
   "source": [
    "pf=pf[pf.Omega_h2<Omega_h2_EXP[2]]\n",
    "print pf.shape[0],np.abs(pf.Chi_1.min())\n",
    "opf=pf[ np.logical_and(pf.Omega_h2<Omega_h2_EXP[2],pf.Omega_h2>Omega_h2_EXP[0]) ]"
   ]
  },
  {
   "cell_type": "code",
   "execution_count": 10,
   "metadata": {
    "collapsed": false
   },
   "outputs": [],
   "source": [
    "LUX=straightfits()\n",
    "LUX.read_csv('lux.csv')"
   ]
  },
  {
   "cell_type": "code",
   "execution_count": 11,
   "metadata": {
    "collapsed": true
   },
   "outputs": [],
   "source": [
    "AMS=straightfits()\n",
    "AMS.read_csv('ID_max.csv')"
   ]
  },
  {
   "cell_type": "code",
   "execution_count": 12,
   "metadata": {
    "collapsed": true
   },
   "outputs": [],
   "source": [
    "LHC_cs=straightfits()\n",
    "LHC_cs.read_csv('SDFDM_cs.csv')"
   ]
  },
  {
   "cell_type": "code",
   "execution_count": 13,
   "metadata": {
    "collapsed": true
   },
   "outputs": [],
   "source": [
    "LHC_exc_cs=straightfits()\n",
    "LHC_exc_cs.read_csv('SDFDM_exc_cs.csv')"
   ]
  },
  {
   "cell_type": "code",
   "execution_count": 14,
   "metadata": {
    "collapsed": false
   },
   "outputs": [],
   "source": [
    "if LUX.corners.values[0]<np.abs(pf.Chi_1.min()) or LUX.corners.values[-1]>np.abs(pf.Chi_1.max()):\n",
    "    pf['lux_SI']=LUX(pf['Chi_1'])\n",
    "else:\n",
    "    sys.exit('ERROR: Range not covered by function')\n",
    "    \n",
    "if AMS.corners.values[0]<np.abs(pf.Chi_1.min()) or AMS.corners.values[-1]>np.abs(pf.Chi_1.max()):\n",
    "    pf['AMS_ID_bb']=AMS(pf['Chi_1'])\n",
    "else:\n",
    "    sys.exit('ERROR: Range not covered by function')"
   ]
  },
  {
   "cell_type": "code",
   "execution_count": 15,
   "metadata": {
    "collapsed": false
   },
   "outputs": [],
   "source": [
    "#Temporary cut: DEBUG improve upon function. \n",
    "# Includes branchings\n",
    "pf=pf[np.abs(pf.MDF)>LHC_cs.corners.values[0]]\n",
    "if LHC_cs.corners.values[0]<np.abs(np.abs(pf.MDF)).min() or LHC_cs.corners.values[-1]>np.abs(np.abs(pf.MDF)).max():\n",
    "    pf['LHC_cs']=LHC_cs(np.abs(pf.MDF))\n",
    "else:\n",
    "    sys.exit('ERROR: Range not covered by function')"
   ]
  },
  {
   "cell_type": "code",
   "execution_count": 16,
   "metadata": {
    "collapsed": false
   },
   "outputs": [
    {
     "data": {
      "text/plain": [
       "[<matplotlib.lines.Line2D at 0x7fb48797c2d0>]"
      ]
     },
     "execution_count": 16,
     "metadata": {},
     "output_type": "execute_result"
    },
    {
     "data": {
      "image/png": "[encoded data removed]",
      "text/plain": [
       "<matplotlib.figure.Figure at 0x7fb48797cad0>"
      ]
     },
     "metadata": {},
     "output_type": "display_data"
    }
   ],
   "source": [
    "plt.plot(np.abs(pf.MDF),np.abs(pf.Chi_2),'r.')"
   ]
  },
  {
   "cell_type": "code",
   "execution_count": 259,
   "metadata": {
    "collapsed": false
   },
   "outputs": [
    {
     "data": {
      "text/plain": [
       "[<matplotlib.lines.Line2D at 0x7ff0a78fa910>]"
      ]
     },
     "execution_count": 259,
     "metadata": {},
     "output_type": "execute_result"
    },
    {
     "data": {
      "image/png": "[encoded data removed]",
      "text/plain": [
       "<matplotlib.figure.Figure at 0x7ff0ac4f3990>"
      ]
     },
     "metadata": {},
     "output_type": "display_data"
    }
   ],
   "source": [
    "plt.plot(np.abs(pf.MDF),pf.lamdINPUT*a.vev,'r.')"
   ]
  },
  {
   "cell_type": "markdown",
   "metadata": {},
   "source": [
    "TODO: The constraints in 1411.1335 are in the pure Higgsino limit. The quoted cross section is for either $\\chi_2$ or $\\chi_3$. \n",
    "\n",
    "I must:\n",
    "* Use prospino to calculate the cross section for point wiht high mixing: $\\lambda_{u,d}v\\sim MD$\n",
    "* Filter point not satisfying STU constraints"
   ]
  },
  {
   "cell_type": "code",
   "execution_count": 17,
   "metadata": {
    "collapsed": true
   },
   "outputs": [],
   "source": [
    "pf['LHC_cs_br']=pf.LHC_cs*pf['Chi_2 ->  Chi_1 Z0']*pf['Fre ->  Chi_1 W-']"
   ]
  },
  {
   "cell_type": "code",
   "execution_count": 18,
   "metadata": {
    "collapsed": false
   },
   "outputs": [],
   "source": [
    "if LHC_exc_cs.corners.values[0]<np.abs(np.abs(pf.MDF)).min() or LHC_exc_cs.corners.values[-1]>np.abs(np.abs(pf.MDF)).max():\n",
    "    pf['LHC_exc_cs']=LHC_exc_cs(abs(pf.MDF))\n",
    "else:\n",
    "    sys.exit('ERROR: Range not covered by function')"
   ]
  },
  {
   "cell_type": "markdown",
   "metadata": {},
   "source": [
    "* Spin independent direct detection  LUX"
   ]
  },
  {
   "cell_type": "code",
   "execution_count": 19,
   "metadata": {
    "collapsed": false
   },
   "outputs": [
    {
     "name": "stdout",
     "output_type": "stream",
     "text": [
      "8396\n"
     ]
    }
   ],
   "source": [
    "lpf=pf[pf.z_DD_SI<pf.lux_SI]\n",
    "print lpf.shape[0]"
   ]
  },
  {
   "cell_type": "markdown",
   "metadata": {},
   "source": [
    "* Invisible decay from LHC"
   ]
  },
  {
   "cell_type": "code",
   "execution_count": 20,
   "metadata": {
    "collapsed": false
   },
   "outputs": [
    {
     "data": {
      "text/plain": [
       "(3203, 148)"
      ]
     },
     "execution_count": 20,
     "metadata": {},
     "output_type": "execute_result"
    }
   ],
   "source": [
    "hpf=lpf[lpf['h0 ->  Chi_1 Chi_1']<0.19]\n",
    "hpf.shape"
   ]
  },
  {
   "cell_type": "markdown",
   "metadata": {},
   "source": [
    "* Collider constraints (check large mixing points with prospino)"
   ]
  },
  {
   "cell_type": "code",
   "execution_count": 21,
   "metadata": {
    "collapsed": false
   },
   "outputs": [
    {
     "data": {
      "text/plain": [
       "(3054, 148)"
      ]
     },
     "execution_count": 21,
     "metadata": {},
     "output_type": "execute_result"
    }
   ],
   "source": [
    "cpf=hpf[hpf.LHC_cs_br<hpf.LHC_exc_cs]\n",
    "cpf.shape"
   ]
  },
  {
   "cell_type": "markdown",
   "metadata": {},
   "source": [
    "* STU constraints"
   ]
  },
  {
   "cell_type": "markdown",
   "metadata": {},
   "source": [
    "* Indirect detection: $\\langle\\sigma v\\rangle$\n",
    "\n",
    "We will use arXiv:1504.04276 $\\chi\\overline{\\chi}\\to b\\bar{b}$ constrains with Ein MAX profile frpm AMS-02"
   ]
  },
  {
   "cell_type": "code",
   "execution_count": 23,
   "metadata": {
    "collapsed": false
   },
   "outputs": [
    {
     "name": "stdout",
     "output_type": "stream",
     "text": [
      "4623\n"
     ]
    }
   ],
   "source": [
    "spf=lpf[lpf.z2_sigmav<lpf.AMS_ID_bb]\n",
    "print spf.shape[0]"
   ]
  },
  {
   "cell_type": "markdown",
   "metadata": {},
   "source": [
    "Points with rescaled relic density less than the Planck value"
   ]
  },
  {
   "cell_type": "code",
   "execution_count": 24,
   "metadata": {
    "collapsed": false
   },
   "outputs": [
    {
     "data": {
      "text/plain": [
       "(7.1992306880000001, 366.50992100000002)"
      ]
     },
     "execution_count": 24,
     "metadata": {},
     "output_type": "execute_result"
    },
    {
     "data": {
      "image/png": "[encoded data removed]",
      "text/plain": [
       "<matplotlib.figure.Figure at 0x7fb461e63490>"
      ]
     },
     "metadata": {},
     "output_type": "display_data"
    }
   ],
   "source": [
    "plt.loglog(pf.Chi_1,pf.Omega_h2,'y.')\n",
    "plt.hlines(Omega_h2_EXP[2],1,1000,lw=3)#np.abs(pf.Chi_1).min(),np.abs(pf.Chi_1).max())\n",
    "plt.ylabel(r'$\\Omega h^2$',size=20)\n",
    "plt.xlabel(r'$m_{\\rm DM}$ [GeV]',size=20)\n",
    "plt.xlim(np.abs(pf.Chi_1).min()*0.8,np.abs(pf.Chi_1).max())"
   ]
  },
  {
   "cell_type": "markdown",
   "metadata": {},
   "source": [
    "Points with rescaled relic density less than the Planck value in the $\\langle\\sigma v\\rangle$-$m_{\\rm DM}$ plane\n",
    "\n",
    "Blue line: xcluded region from 1504.04276 for $\\chi\\overline{\\chi}\\to b\\overline{b}$ channel"
   ]
  },
  {
   "cell_type": "code",
   "execution_count": 25,
   "metadata": {
    "collapsed": false
   },
   "outputs": [
    {
     "data": {
      "text/plain": [
       "<matplotlib.legend.Legend at 0x7fb461be8e50>"
      ]
     },
     "execution_count": 25,
     "metadata": {},
     "output_type": "execute_result"
    },
    {
     "data": {
      "image/png": "[encoded data removed]",
      "text/plain": [
       "<matplotlib.figure.Figure at 0x7fb461e54710>"
      ]
     },
     "metadata": {},
     "output_type": "display_data"
    }
   ],
   "source": [
    "plt.loglog(pf.Chi_1,pf.z2_sigmav,'y.',label=r'$\\Omega h^2<(\\Omega h^2)_{\\rm exp}$')\n",
    "plt.loglog(opf.Chi_1,opf.z2_sigmav,'r.',label=r'$\\Omega h^2=(\\Omega h^2)_{\\rm exp}$')\n",
    "plt.loglog(pf.Chi_1,pf.AMS_ID_bb,label=r'AMS-02: $\\chi\\overline{\\chi}\\to b\\overline{b}$ Ein MAX')\n",
    "plt.xlim(pf.Chi_1.min()*0.9,pf.Chi_1.max())\n",
    "plt.ylabel(r'$\\langle\\sigma v\\rangle$',size=20)\n",
    "plt.xlabel(r'$m_{\\rm DM}$ [GeV]',size=20)\n",
    "plt.legend(loc=(0.8,0.2))"
   ]
  },
  {
   "cell_type": "markdown",
   "metadata": {},
   "source": [
    "rescaled direct detection constraint from LUX"
   ]
  },
  {
   "cell_type": "code",
   "execution_count": 26,
   "metadata": {
    "collapsed": false
   },
   "outputs": [
    {
     "data": {
      "text/plain": [
       "<matplotlib.text.Text at 0x7fb461d2abd0>"
      ]
     },
     "execution_count": 26,
     "metadata": {},
     "output_type": "execute_result"
    },
    {
     "data": {
      "image/png": "[encoded data removed]",
      "text/plain": [
       "<matplotlib.figure.Figure at 0x7fb461e12250>"
      ]
     },
     "metadata": {},
     "output_type": "display_data"
    }
   ],
   "source": [
    "plt.loglog(pf.Chi_1,pf.z_DD_SI,'y.')\n",
    "plt.loglog(lpf.Chi_1,lpf.z_DD_SI,'c.')\n",
    "plt.loglog(pf.Chi_1,pf.lux_SI)\n",
    "plt.xlim(pf.Chi_1.min()*0.9,pf.Chi_1.max())\n",
    "plt.ylabel(r'Direct Detection cross section',size=15)\n",
    "plt.xlabel(r'$m_{\\rm DM}$ [GeV]',size=20)"
   ]
  },
  {
   "cell_type": "markdown",
   "metadata": {},
   "source": [
    "Points which pass the rescaled direct detection constraint from LUX"
   ]
  },
  {
   "cell_type": "code",
   "execution_count": 27,
   "metadata": {
    "collapsed": false
   },
   "outputs": [
    {
     "data": {
      "text/plain": [
       "<matplotlib.legend.Legend at 0x7fb461d49d90>"
      ]
     },
     "execution_count": 27,
     "metadata": {},
     "output_type": "execute_result"
    },
    {
     "data": {
      "image/png": "[encoded data removed]",
      "text/plain": [
       "<matplotlib.figure.Figure at 0x7fb461cf9e50>"
      ]
     },
     "metadata": {},
     "output_type": "display_data"
    }
   ],
   "source": [
    "plt.loglog(lpf.Chi_1,lpf.z2_sigmav,'c.',label=r'$\\xi\\times $(Direct Detection cross section)')\n",
    "plt.loglog(pf.Chi_1,pf.AMS_ID_bb,label='AMS-02: $\\chi\\overline{\\chi}\\to b\\overline{b}$ Ein MAX')\n",
    "plt.xlim(pf.Chi_1.min()*0.9,pf.Chi_1.max())\n",
    "plt.ylabel(r'$\\langle\\sigma v\\rangle$',size=20)\n",
    "plt.xlabel(r'$m_{\\rm DM}$ [GeV]',size=20)\n",
    "plt.legend(loc=(0.8,0.2))"
   ]
  },
  {
   "cell_type": "markdown",
   "metadata": {},
   "source": [
    "Points which pass the Higgs invisible decay  constraint from LHC: Br$(h\\to \\chi\\overline{\\chi})<0.19$"
   ]
  },
  {
   "cell_type": "code",
   "execution_count": 28,
   "metadata": {
    "collapsed": false
   },
   "outputs": [
    {
     "data": {
      "text/plain": [
       "<matplotlib.text.Text at 0x7fb4617aadd0>"
      ]
     },
     "execution_count": 28,
     "metadata": {},
     "output_type": "execute_result"
    },
    {
     "data": {
      "image/png": "[encoded data removed]",
      "text/plain": [
       "<matplotlib.figure.Figure at 0x7fb461db3a10>"
      ]
     },
     "metadata": {},
     "output_type": "display_data"
    }
   ],
   "source": [
    "plt.loglog(hpf.Chi_1,hpf.z2_sigmav,'m.')\n",
    "plt.loglog(pf.Chi_1,pf.AMS_ID_bb)\n",
    "plt.xlim(pf.Chi_1.min()*0.9,pf.Chi_1.max())\n",
    "plt.ylabel(r'$\\langle\\sigma v\\rangle$',size=20)\n",
    "plt.xlabel(r'$m_{\\rm DM}$ [GeV]',size=20)"
   ]
  },
  {
   "cell_type": "markdown",
   "metadata": {},
   "source": [
    "Points which pass the collider constraints from LHC"
   ]
  },
  {
   "cell_type": "code",
   "execution_count": 41,
   "metadata": {
    "collapsed": true
   },
   "outputs": [],
   "source": [
    "expf=hpf[hpf.LHC_cs_br>hpf.LHC_exc_cs]"
   ]
  },
  {
   "cell_type": "code",
   "execution_count": 130,
   "metadata": {
    "collapsed": false
   },
   "outputs": [
    {
     "data": {
      "text/plain": [
       "2"
      ]
     },
     "execution_count": 130,
     "metadata": {},
     "output_type": "execute_result"
    }
   ],
   "source": [
    "1+1"
   ]
  },
  {
   "cell_type": "code",
   "execution_count": 139,
   "metadata": {
    "collapsed": false
   },
   "outputs": [
    {
     "data": {
      "text/plain": [
       "<matplotlib.text.Text at 0x7fb45942a550>"
      ]
     },
     "execution_count": 139,
     "metadata": {},
     "output_type": "execute_result"
    },
    {
     "data": {
      "image/png": "[encoded data removed]",
      "text/plain": [
       "<matplotlib.figure.Figure at 0x7fb459237410>"
      ]
     },
     "metadata": {},
     "output_type": "display_data"
    }
   ],
   "source": [
    "plt.semilogy(np.abs(hpf.MDF),hpf.LHC_cs_br,'g.')\n",
    "#plt.semilogy(np.abs(expf.MDF),expf.LHC_cs_br,'b.')\n",
    "plt.semilogy(np.abs(cpf.MDF),cpf.LHC_cs_br,'r.')\n",
    "plt.semilogy(np.abs(cpf.MDF),cpf.LHC_exc_cs,'k.')\n",
    "plt.xlim(100,400)\n",
    "plt.ylim(0.01,10)\n",
    "plt.xlabel(r'$M_D$',size=15)\n",
    "plt.ylabel(r'$\\sigma(pp\\to \\chi_2 \\chi^+){Br}(\\chi_2\\to \\chi_1 Z){Br}(\\chi^+\\to \\chi_1 W^+)$ [pb]',size=12 )"
   ]
  },
  {
   "cell_type": "code",
   "execution_count": 46,
   "metadata": {
    "collapsed": false
   },
   "outputs": [
    {
     "data": {
      "text/plain": [
       "<matplotlib.text.Text at 0x7fb4610faf10>"
      ]
     },
     "execution_count": 46,
     "metadata": {},
     "output_type": "execute_result"
    },
    {
     "data": {
      "image/png": "[encoded data removed]",
      "text/plain": [
       "<matplotlib.figure.Figure at 0x7fb460d64410>"
      ]
     },
     "metadata": {},
     "output_type": "display_data"
    }
   ],
   "source": [
    "plt.loglog(cpf.Chi_1,cpf.z2_sigmav,'r.')\n",
    "plt.loglog(expf.Chi_1,expf.z2_sigmav,'g.')\n",
    "plt.loglog(pf.Chi_1,pf.AMS_ID_bb)\n",
    "plt.xlim(pf.Chi_1.min()*0.9,pf.Chi_1.max())\n",
    "plt.ylabel(r'$\\langle\\sigma v\\rangle$',size=20)\n",
    "plt.xlabel(r'$m_{\\rm DM}$ [GeV]',size=20)"
   ]
  },
  {
   "cell_type": "code",
   "execution_count": 74,
   "metadata": {
    "collapsed": false
   },
   "outputs": [],
   "source": [
    "idb=pd.read_csv('ID_best.dat',header=None)\n",
    "idb=idb.rename(columns={0:'MDF',1:'sigmav'})"
   ]
  },
  {
   "cell_type": "code",
   "execution_count": 75,
   "metadata": {
    "collapsed": true
   },
   "outputs": [],
   "source": [
    "idm=pd.read_csv('ID_med.dat',header=None)\n",
    "idm=idm.rename(columns={0:'MDF',1:'sigmav'})"
   ]
  },
  {
   "cell_type": "code",
   "execution_count": 76,
   "metadata": {
    "collapsed": false
   },
   "outputs": [
    {
     "data": {
      "text/plain": [
       "(1e-29, 1e-25)"
      ]
     },
     "execution_count": 76,
     "metadata": {},
     "output_type": "execute_result"
    },
    {
     "data": {
      "image/png": "[encoded data removed]",
      "text/plain": [
       "<matplotlib.figure.Figure at 0x7fb4606e8b50>"
      ]
     },
     "metadata": {},
     "output_type": "display_data"
    }
   ],
   "source": [
    "plt.semilogy(expf.Chi_1,expf.z2_sigmav,'g.')\n",
    "plt.semilogy(cpf.Chi_1,cpf.z2_sigmav,'r.')\n",
    "plt.semilogy(pf.Chi_1,pf.AMS_ID_bb)\n",
    "plt.semilogy(idb.MDF,idb.sigmav)\n",
    "plt.semilogy(idm.MDF,idm.sigmav)\n",
    "plt.xlim(pf.Chi_1.min()*0.9,pf.Chi_1.max())\n",
    "plt.ylabel(r'$\\langle\\sigma v\\rangle\\ [{\\rm cm}^3/{\\rm s}]$',size=20)\n",
    "plt.xlabel(r'$m_{\\rm DM}$ [GeV]',size=20)\n",
    "plt.xlim(8.7,30)\n",
    "plt.ylim(1E-29,1E-25)"
   ]
  },
  {
   "cell_type": "markdown",
   "metadata": {},
   "source": [
    "## Conclusion\n",
    "The FULL region excluded by indirect detection (above the blue line in previous) contains points which are not excluded by any other constraint. The upper part of the excluded region between 8 and 30 GeV have the proper relic density"
   ]
  },
  {
   "cell_type": "code",
   "execution_count": 78,
   "metadata": {
    "collapsed": false
   },
   "outputs": [],
   "source": [
    "spf=cpf[cpf.z2_sigmav>cpf.AMS_ID_bb]"
   ]
  },
  {
   "cell_type": "code",
   "execution_count": 81,
   "metadata": {
    "collapsed": false
   },
   "outputs": [
    {
     "data": {
      "text/plain": [
       "[<matplotlib.lines.Line2D at 0x7fb460b47e10>]"
      ]
     },
     "execution_count": 81,
     "metadata": {},
     "output_type": "execute_result"
    },
    {
     "data": {
      "image/png": "[encoded data removed]",
      "text/plain": [
       "<matplotlib.figure.Figure at 0x7fb46068d1d0>"
      ]
     },
     "metadata": {},
     "output_type": "display_data"
    }
   ],
   "source": [
    "plt.semilogy(spf.Chi_1,spf.z2_sigmav,'r.')\n",
    "plt.semilogy(spf.Chi_1,spf.AMS_ID_bb)\n"
   ]
  },
  {
   "cell_type": "code",
   "execution_count": 129,
   "metadata": {
    "collapsed": false
   },
   "outputs": [
    {
     "data": {
      "text/plain": [
       "<matplotlib.text.Text at 0x7fb459639250>"
      ]
     },
     "execution_count": 129,
     "metadata": {},
     "output_type": "execute_result"
    },
    {
     "data": {
      "image/png": "[encoded data removed]",
      "text/plain": [
       "<matplotlib.figure.Figure at 0x7fb45983a9d0>"
      ]
     },
     "metadata": {},
     "output_type": "display_data"
    }
   ],
   "source": [
    "#fig, axes = plt.subplots(nrows=2, ncols=2)\n",
    "#fig.tight_layout()\n",
    "fig=plt.figure()\n",
    "fig.subplots_adjust(hspace=0.5,wspace=0.2,left=0.01,right=1.3)\n",
    "fig.add_subplot(221)\n",
    "plt.plot(spf['lambda'],spf.tanb,'r.')\n",
    "plt.xlabel(r'$\\lambda$',size=15)\n",
    "plt.ylabel(r'$\\tan\\beta$',size=15)\n",
    "fig.add_subplot(222)\n",
    "plt.plot(-spf.MDF,spf.MnINPUT,'r.')\n",
    "plt.xlabel(r'$-M_D$',size=15)\n",
    "plt.ylabel(r'$M_N$',size=15)\n",
    "fig.add_subplot(223)\n",
    "plt.semilogy(spf['ID_br:~chi,~chi > b b~'],spf.z2_sigmav,'r.')\n",
    "plt.xlabel(r'$\\chi\\chi\\to b\\bar{b}$',size=15)\n",
    "plt.ylabel(r'$\\zeta^2\\langle\\sigma v\\rangle$',size=15)\n",
    "fig.add_subplot(224)\n",
    "plt.semilogy(spf['ID_br:~chi,~chi > b b~']+spf['ID_br:~chi,~chi > c c~']+spf['ID_br:~chi,~chi > ta t'],spf.z2_sigmav,'r.')\n",
    "plt.xlabel(r'$\\chi\\chi\\to b\\bar{b}+c \\bar{c}+\\tau^+\\tau^-$',size=15)\n",
    "plt.ylabel(r'$\\zeta^2\\langle\\sigma v\\rangle$',size=15)"
   ]
  },
  {
   "cell_type": "markdown",
   "metadata": {},
   "source": [
    "Points satisfying all the constrains"
   ]
  },
  {
   "cell_type": "code",
   "execution_count": 112,
   "metadata": {
    "collapsed": false
   },
   "outputs": [
    {
     "name": "stdout",
     "output_type": "stream",
     "text": [
      " ID_br:~chi,~chi > 0.0\n",
      "ID_br:~chi,~chi > H H 0.0\n",
      "ID_br:~chi,~chi > W W 0.0\n",
      "ID_br:~chi,~chi > Z H 0.0\n",
      "ID_br:~chi,~chi > Z Z 0.0\n",
      "ID_br:~chi,~chi > a W 0.0\n",
      "ID_br:~chi,~chi > b b~ 0.89\n",
      "ID_br:~chi,~chi > c c~ 0.0743\n",
      "ID_br:~chi,~chi > d d~ 0.0\n",
      "ID_br:~chi,~chi > mu m 0.000174\n",
      "ID_br:~chi,~chi > s s~ 0.000478\n",
      "ID_br:~chi,~chi > t t~ 0.0\n",
      "ID_br:~chi,~chi > ta t 0.048\n",
      "ID_br:~chi,~chi > u u~ 0.0\n",
      "ID_br:~chi,~chi > v v 0.0\n",
      "ID_br:~chi,~chi > vm vm 0.0\n",
      "ID_br:~chi,~chi > vt vt 0.0\n"
     ]
    }
   ],
   "source": [
    "for k in spf.keys():\n",
    "    if k.find('ID_br')>-1:\n",
    "        print k,spf[k].max()"
   ]
  },
  {
   "cell_type": "code",
   "execution_count": 109,
   "metadata": {
    "collapsed": false
   },
   "outputs": [
    {
     "data": {
      "text/plain": [
       "0"
      ]
     },
     "execution_count": 109,
     "metadata": {},
     "output_type": "execute_result"
    }
   ],
   "source": [
    "k='ID_br:~chi,~chi > v v'\n",
    "k.find('ID_br')"
   ]
  },
  {
   "cell_type": "code",
   "execution_count": 152,
   "metadata": {
    "collapsed": false
   },
   "outputs": [
    {
     "data": {
      "text/plain": [
       "<matplotlib.text.Text at 0x7ff0bc55b990>"
      ]
     },
     "execution_count": 152,
     "metadata": {},
     "output_type": "execute_result"
    },
    {
     "data": {
      "image/png": "[encoded data removed]",
      "text/plain": [
       "<matplotlib.figure.Figure at 0x7ff0bc8e0710>"
      ]
     },
     "metadata": {},
     "output_type": "display_data"
    }
   ],
   "source": [
    "plt.loglog(spf.Chi_1,spf.z2_sigmav,'r.')\n",
    "plt.loglog(pf.Chi_1,pf.AMS_ID_bb)\n",
    "plt.xlim(pf.Chi_1.min()*0.9,pf.Chi_1.max())\n",
    "plt.ylabel(r'$\\langle\\sigma v\\rangle$',size=20)\n",
    "plt.xlabel(r'$m_{\\rm DM}$ [GeV]',size=20)"
   ]
  },
  {
   "cell_type": "code",
   "execution_count": 87,
   "metadata": {
    "collapsed": false
   },
   "outputs": [
    {
     "data": {
      "text/plain": [
       "(1e-28, 1e-26)"
      ]
     },
     "execution_count": 87,
     "metadata": {},
     "output_type": "execute_result"
    },
    {
     "data": {
      "image/png": "[encoded data removed]",
      "text/plain": [
       "<matplotlib.figure.Figure at 0x7ff0ccaae910>"
      ]
     },
     "metadata": {},
     "output_type": "display_data"
    }
   ],
   "source": [
    "\n",
    "plt.loglog(pf.Chi_1,pf.z2_sigmav,'y*')\n",
    "plt.loglog(ppf.Chi_1,ppf.z2_sigmav,'r*')\n",
    "plt.loglog(svf.Chi_1,svf.z2_sigmav,'b*')\n",
    "plt.loglog(hsv.Chi_1,hsv.z2_sigmav,'k*')\n",
    "#plt.loglog(hpf[hpf.Fre>400].Chi_1,hpf[np.abs(hpf.Fre)>400].z2_sigmav,'b*')\n",
    "#plt.plot(ppf.Chi_1) #From 1504.04276 see also 1508.06844\n",
    "plt.ylim(1E-28,1E-26)"
   ]
  },
  {
   "cell_type": "code",
   "execution_count": 22,
   "metadata": {
    "collapsed": false
   },
   "outputs": [
    {
     "data": {
      "text/plain": [
       "[<matplotlib.lines.Line2D at 0x7f9d2ccb6410>]"
      ]
     },
     "execution_count": 22,
     "metadata": {},
     "output_type": "execute_result"
    },
    {
     "data": {
      "image/png": "[encoded data removed]",
      "text/plain": [
       "<matplotlib.figure.Figure at 0x7f9d2cb0add0>"
      ]
     },
     "metadata": {},
     "output_type": "display_data"
    }
   ],
   "source": [
    "fpf=hpf[np.logical_and(hpf.Chi_1<60,hpf.z2_sigmav>3E-28)]\n",
    "opf=fpf[np.logical_and(fpf.Omega_h2<Omega_h2_EXP[2],fpf.Omega_h2>Omega_h2_EXP[0])]\n",
    "plt.loglog(pf.Chi_1,pf.z2_sigmav,'co')\n",
    "plt.loglog(fpf.Chi_1,fpf.z2_sigmav,'yo')\n",
    "plt.loglog(opf.Chi_1,opf.z2_sigmav,'ro')"
   ]
  },
  {
   "cell_type": "code",
   "execution_count": 23,
   "metadata": {
    "collapsed": false
   },
   "outputs": [
    {
     "data": {
      "text/plain": [
       "[<matplotlib.lines.Line2D at 0x7f9d2b9d1290>]"
      ]
     },
     "execution_count": 23,
     "metadata": {},
     "output_type": "execute_result"
    },
    {
     "data": {
      "image/png": "[encoded data removed]",
      "text/plain": [
       "<matplotlib.figure.Figure at 0x7f9d2cb42350>"
      ]
     },
     "metadata": {},
     "output_type": "display_data"
    }
   ],
   "source": [
    "plt.loglog(pf.Chi_1,pf.z_DD_SI,'co')\n",
    "plt.loglog(fpf.Chi_1,fpf.z_DD_SI,'yo')\n",
    "plt.loglog(opf.Chi_1,opf.z_DD_SI,'ro')\n",
    "plt.loglog(pf.sort_values('Chi_1').Chi_1,pf.sort_values('Chi_1').lux_SI,'b-')\n"
   ]
  },
  {
   "cell_type": "code",
   "execution_count": 24,
   "metadata": {
    "collapsed": false
   },
   "outputs": [
    {
     "data": {
      "text/plain": [
       "[<matplotlib.lines.Line2D at 0x7f9d2ba22510>]"
      ]
     },
     "execution_count": 24,
     "metadata": {},
     "output_type": "execute_result"
    },
    {
     "data": {
      "image/png": "[encoded data removed]",
      "text/plain": [
       "<matplotlib.figure.Figure at 0x7f9d2b8b9e90>"
      ]
     },
     "metadata": {},
     "output_type": "display_data"
    }
   ],
   "source": [
    "plt.loglog(pf.Chi_1,pf['h0 ->  Chi_1 Chi_1'],'co')\n",
    "plt.loglog(fpf.Chi_1,fpf['h0 ->  Chi_1 Chi_1'],'yo')\n",
    "plt.loglog(opf.Chi_1,opf['h0 ->  Chi_1 Chi_1'],'ro')"
   ]
  },
  {
   "cell_type": "code",
   "execution_count": 47,
   "metadata": {
    "collapsed": false
   },
   "outputs": [
    {
     "data": {
      "text/html": [
       "<div>\n",
       "<table border=\"1\" class=\"dataframe\">\n",
       "  <thead>\n",
       "    <tr style=\"text-align: right;\">\n",
       "      <th></th>\n",
       "      <th>proton_SI</th>\n",
       "      <th>neutron_SI</th>\n",
       "      <th>DD_SI</th>\n",
       "    </tr>\n",
       "  </thead>\n",
       "  <tbody>\n",
       "    <tr>\n",
       "      <th>0</th>\n",
       "      <td>2.051000e-11</td>\n",
       "      <td>2.103000e-11</td>\n",
       "      <td>2.103000e-11</td>\n",
       "    </tr>\n",
       "    <tr>\n",
       "      <th>1</th>\n",
       "      <td>1.274000e-12</td>\n",
       "      <td>1.304000e-12</td>\n",
       "      <td>1.304000e-12</td>\n",
       "    </tr>\n",
       "    <tr>\n",
       "      <th>2</th>\n",
       "      <td>5.570000e-11</td>\n",
       "      <td>5.703000e-11</td>\n",
       "      <td>5.703000e-11</td>\n",
       "    </tr>\n",
       "    <tr>\n",
       "      <th>3</th>\n",
       "      <td>3.181000e-11</td>\n",
       "      <td>3.260000e-11</td>\n",
       "      <td>3.260000e-11</td>\n",
       "    </tr>\n",
       "    <tr>\n",
       "      <th>4</th>\n",
       "      <td>4.730000e-12</td>\n",
       "      <td>4.847000e-12</td>\n",
       "      <td>4.847000e-12</td>\n",
       "    </tr>\n",
       "    <tr>\n",
       "      <th>5</th>\n",
       "      <td>5.489000e-11</td>\n",
       "      <td>5.617000e-11</td>\n",
       "      <td>5.617000e-11</td>\n",
       "    </tr>\n",
       "    <tr>\n",
       "      <th>6</th>\n",
       "      <td>5.877000e-11</td>\n",
       "      <td>6.018000e-11</td>\n",
       "      <td>6.018000e-11</td>\n",
       "    </tr>\n",
       "    <tr>\n",
       "      <th>7</th>\n",
       "      <td>8.528000e-11</td>\n",
       "      <td>8.732000e-11</td>\n",
       "      <td>8.732000e-11</td>\n",
       "    </tr>\n",
       "    <tr>\n",
       "      <th>8</th>\n",
       "      <td>2.575000e-13</td>\n",
       "      <td>2.637000e-13</td>\n",
       "      <td>2.637000e-13</td>\n",
       "    </tr>\n",
       "    <tr>\n",
       "      <th>9</th>\n",
       "      <td>7.279000e-11</td>\n",
       "      <td>7.460000e-11</td>\n",
       "      <td>7.460000e-11</td>\n",
       "    </tr>\n",
       "    <tr>\n",
       "      <th>10</th>\n",
       "      <td>3.025000e-12</td>\n",
       "      <td>3.097000e-12</td>\n",
       "      <td>3.097000e-12</td>\n",
       "    </tr>\n",
       "    <tr>\n",
       "      <th>11</th>\n",
       "      <td>6.840000e-12</td>\n",
       "      <td>6.999000e-12</td>\n",
       "      <td>6.999000e-12</td>\n",
       "    </tr>\n",
       "    <tr>\n",
       "      <th>12</th>\n",
       "      <td>4.975000e-11</td>\n",
       "      <td>5.104000e-11</td>\n",
       "      <td>5.104000e-11</td>\n",
       "    </tr>\n",
       "    <tr>\n",
       "      <th>13</th>\n",
       "      <td>1.971000e-12</td>\n",
       "      <td>2.017000e-12</td>\n",
       "      <td>2.017000e-12</td>\n",
       "    </tr>\n",
       "    <tr>\n",
       "      <th>14</th>\n",
       "      <td>7.432000e-11</td>\n",
       "      <td>7.621000e-11</td>\n",
       "      <td>7.621000e-11</td>\n",
       "    </tr>\n",
       "    <tr>\n",
       "      <th>15</th>\n",
       "      <td>4.748000e-11</td>\n",
       "      <td>4.862000e-11</td>\n",
       "      <td>4.862000e-11</td>\n",
       "    </tr>\n",
       "    <tr>\n",
       "      <th>16</th>\n",
       "      <td>4.485000e-12</td>\n",
       "      <td>4.601000e-12</td>\n",
       "      <td>4.601000e-12</td>\n",
       "    </tr>\n",
       "    <tr>\n",
       "      <th>17</th>\n",
       "      <td>1.357000e-11</td>\n",
       "      <td>1.389000e-11</td>\n",
       "      <td>1.389000e-11</td>\n",
       "    </tr>\n",
       "    <tr>\n",
       "      <th>18</th>\n",
       "      <td>8.182000e-11</td>\n",
       "      <td>8.383000e-11</td>\n",
       "      <td>8.383000e-11</td>\n",
       "    </tr>\n",
       "    <tr>\n",
       "      <th>19</th>\n",
       "      <td>8.111000e-10</td>\n",
       "      <td>8.327000e-10</td>\n",
       "      <td>8.327000e-10</td>\n",
       "    </tr>\n",
       "    <tr>\n",
       "      <th>20</th>\n",
       "      <td>3.756000e-12</td>\n",
       "      <td>3.853000e-12</td>\n",
       "      <td>3.853000e-12</td>\n",
       "    </tr>\n",
       "    <tr>\n",
       "      <th>21</th>\n",
       "      <td>1.207000e-11</td>\n",
       "      <td>1.236000e-11</td>\n",
       "      <td>1.236000e-11</td>\n",
       "    </tr>\n",
       "    <tr>\n",
       "      <th>22</th>\n",
       "      <td>3.803000e-11</td>\n",
       "      <td>3.890000e-11</td>\n",
       "      <td>3.890000e-11</td>\n",
       "    </tr>\n",
       "    <tr>\n",
       "      <th>23</th>\n",
       "      <td>2.719000e-13</td>\n",
       "      <td>2.787000e-13</td>\n",
       "      <td>2.787000e-13</td>\n",
       "    </tr>\n",
       "    <tr>\n",
       "      <th>24</th>\n",
       "      <td>2.781000e-11</td>\n",
       "      <td>2.850000e-11</td>\n",
       "      <td>2.850000e-11</td>\n",
       "    </tr>\n",
       "    <tr>\n",
       "      <th>25</th>\n",
       "      <td>2.024000e-10</td>\n",
       "      <td>2.076000e-10</td>\n",
       "      <td>2.076000e-10</td>\n",
       "    </tr>\n",
       "    <tr>\n",
       "      <th>26</th>\n",
       "      <td>9.578000e-11</td>\n",
       "      <td>9.820000e-11</td>\n",
       "      <td>9.820000e-11</td>\n",
       "    </tr>\n",
       "    <tr>\n",
       "      <th>27</th>\n",
       "      <td>1.114000e-14</td>\n",
       "      <td>1.141000e-14</td>\n",
       "      <td>1.141000e-14</td>\n",
       "    </tr>\n",
       "    <tr>\n",
       "      <th>28</th>\n",
       "      <td>2.739000e-11</td>\n",
       "      <td>2.809000e-11</td>\n",
       "      <td>2.809000e-11</td>\n",
       "    </tr>\n",
       "    <tr>\n",
       "      <th>29</th>\n",
       "      <td>1.734000e-11</td>\n",
       "      <td>1.775000e-11</td>\n",
       "      <td>1.775000e-11</td>\n",
       "    </tr>\n",
       "    <tr>\n",
       "      <th>...</th>\n",
       "      <td>...</td>\n",
       "      <td>...</td>\n",
       "      <td>...</td>\n",
       "    </tr>\n",
       "    <tr>\n",
       "      <th>3004</th>\n",
       "      <td>4.740000e-11</td>\n",
       "      <td>4.860000e-11</td>\n",
       "      <td>4.860000e-11</td>\n",
       "    </tr>\n",
       "    <tr>\n",
       "      <th>3005</th>\n",
       "      <td>2.027000e-10</td>\n",
       "      <td>2.079000e-10</td>\n",
       "      <td>2.079000e-10</td>\n",
       "    </tr>\n",
       "    <tr>\n",
       "      <th>3006</th>\n",
       "      <td>1.684000e-12</td>\n",
       "      <td>1.727000e-12</td>\n",
       "      <td>1.727000e-12</td>\n",
       "    </tr>\n",
       "    <tr>\n",
       "      <th>3007</th>\n",
       "      <td>1.145000e-10</td>\n",
       "      <td>1.174000e-10</td>\n",
       "      <td>1.174000e-10</td>\n",
       "    </tr>\n",
       "    <tr>\n",
       "      <th>3008</th>\n",
       "      <td>3.030000e-10</td>\n",
       "      <td>3.108000e-10</td>\n",
       "      <td>3.108000e-10</td>\n",
       "    </tr>\n",
       "    <tr>\n",
       "      <th>3009</th>\n",
       "      <td>1.599000e-10</td>\n",
       "      <td>1.640000e-10</td>\n",
       "      <td>1.640000e-10</td>\n",
       "    </tr>\n",
       "    <tr>\n",
       "      <th>3010</th>\n",
       "      <td>3.049000e-12</td>\n",
       "      <td>3.126000e-12</td>\n",
       "      <td>3.126000e-12</td>\n",
       "    </tr>\n",
       "    <tr>\n",
       "      <th>3011</th>\n",
       "      <td>7.803000e-11</td>\n",
       "      <td>8.003000e-11</td>\n",
       "      <td>8.003000e-11</td>\n",
       "    </tr>\n",
       "    <tr>\n",
       "      <th>3012</th>\n",
       "      <td>5.298000e-11</td>\n",
       "      <td>5.434000e-11</td>\n",
       "      <td>5.434000e-11</td>\n",
       "    </tr>\n",
       "    <tr>\n",
       "      <th>3013</th>\n",
       "      <td>1.361000e-10</td>\n",
       "      <td>1.395000e-10</td>\n",
       "      <td>1.395000e-10</td>\n",
       "    </tr>\n",
       "    <tr>\n",
       "      <th>3014</th>\n",
       "      <td>1.399000e-11</td>\n",
       "      <td>1.435000e-11</td>\n",
       "      <td>1.435000e-11</td>\n",
       "    </tr>\n",
       "    <tr>\n",
       "      <th>3015</th>\n",
       "      <td>1.379000e-12</td>\n",
       "      <td>1.414000e-12</td>\n",
       "      <td>1.414000e-12</td>\n",
       "    </tr>\n",
       "    <tr>\n",
       "      <th>3016</th>\n",
       "      <td>1.951000e-10</td>\n",
       "      <td>2.000000e-10</td>\n",
       "      <td>2.000000e-10</td>\n",
       "    </tr>\n",
       "    <tr>\n",
       "      <th>3017</th>\n",
       "      <td>6.329000e-11</td>\n",
       "      <td>6.487000e-11</td>\n",
       "      <td>6.487000e-11</td>\n",
       "    </tr>\n",
       "    <tr>\n",
       "      <th>3018</th>\n",
       "      <td>2.047000e-10</td>\n",
       "      <td>2.099000e-10</td>\n",
       "      <td>2.099000e-10</td>\n",
       "    </tr>\n",
       "    <tr>\n",
       "      <th>3019</th>\n",
       "      <td>5.324000e-11</td>\n",
       "      <td>5.460000e-11</td>\n",
       "      <td>5.460000e-11</td>\n",
       "    </tr>\n",
       "    <tr>\n",
       "      <th>3020</th>\n",
       "      <td>2.067000e-11</td>\n",
       "      <td>2.119000e-11</td>\n",
       "      <td>2.119000e-11</td>\n",
       "    </tr>\n",
       "    <tr>\n",
       "      <th>3021</th>\n",
       "      <td>7.272000e-15</td>\n",
       "      <td>7.455000e-15</td>\n",
       "      <td>7.455000e-15</td>\n",
       "    </tr>\n",
       "    <tr>\n",
       "      <th>3022</th>\n",
       "      <td>1.564000e-11</td>\n",
       "      <td>1.604000e-11</td>\n",
       "      <td>1.604000e-11</td>\n",
       "    </tr>\n",
       "    <tr>\n",
       "      <th>3023</th>\n",
       "      <td>2.215000e-10</td>\n",
       "      <td>2.271000e-10</td>\n",
       "      <td>2.271000e-10</td>\n",
       "    </tr>\n",
       "    <tr>\n",
       "      <th>3024</th>\n",
       "      <td>7.262000e-11</td>\n",
       "      <td>7.446000e-11</td>\n",
       "      <td>7.446000e-11</td>\n",
       "    </tr>\n",
       "    <tr>\n",
       "      <th>3025</th>\n",
       "      <td>4.347000e-11</td>\n",
       "      <td>4.458000e-11</td>\n",
       "      <td>4.458000e-11</td>\n",
       "    </tr>\n",
       "    <tr>\n",
       "      <th>3026</th>\n",
       "      <td>5.245000e-11</td>\n",
       "      <td>5.380000e-11</td>\n",
       "      <td>5.380000e-11</td>\n",
       "    </tr>\n",
       "    <tr>\n",
       "      <th>3027</th>\n",
       "      <td>1.126000e-14</td>\n",
       "      <td>1.155000e-14</td>\n",
       "      <td>1.155000e-14</td>\n",
       "    </tr>\n",
       "    <tr>\n",
       "      <th>3028</th>\n",
       "      <td>4.237000e-11</td>\n",
       "      <td>4.345000e-11</td>\n",
       "      <td>4.345000e-11</td>\n",
       "    </tr>\n",
       "    <tr>\n",
       "      <th>3029</th>\n",
       "      <td>2.545000e-11</td>\n",
       "      <td>2.610000e-11</td>\n",
       "      <td>2.610000e-11</td>\n",
       "    </tr>\n",
       "    <tr>\n",
       "      <th>3030</th>\n",
       "      <td>1.743000e-10</td>\n",
       "      <td>1.787000e-10</td>\n",
       "      <td>1.787000e-10</td>\n",
       "    </tr>\n",
       "    <tr>\n",
       "      <th>3031</th>\n",
       "      <td>6.615000e-11</td>\n",
       "      <td>6.784000e-11</td>\n",
       "      <td>6.784000e-11</td>\n",
       "    </tr>\n",
       "    <tr>\n",
       "      <th>3032</th>\n",
       "      <td>1.059000e-10</td>\n",
       "      <td>1.085000e-10</td>\n",
       "      <td>1.085000e-10</td>\n",
       "    </tr>\n",
       "    <tr>\n",
       "      <th>3033</th>\n",
       "      <td>8.629000e-12</td>\n",
       "      <td>8.848000e-12</td>\n",
       "      <td>8.848000e-12</td>\n",
       "    </tr>\n",
       "  </tbody>\n",
       "</table>\n",
       "<p>3034 rows × 3 columns</p>\n",
       "</div>"
      ],
      "text/plain": [
       "         proton_SI    neutron_SI         DD_SI\n",
       "0     2.051000e-11  2.103000e-11  2.103000e-11\n",
       "1     1.274000e-12  1.304000e-12  1.304000e-12\n",
       "2     5.570000e-11  5.703000e-11  5.703000e-11\n",
       "3     3.181000e-11  3.260000e-11  3.260000e-11\n",
       "4     4.730000e-12  4.847000e-12  4.847000e-12\n",
       "5     5.489000e-11  5.617000e-11  5.617000e-11\n",
       "6     5.877000e-11  6.018000e-11  6.018000e-11\n",
       "7     8.528000e-11  8.732000e-11  8.732000e-11\n",
       "8     2.575000e-13  2.637000e-13  2.637000e-13\n",
       "9     7.279000e-11  7.460000e-11  7.460000e-11\n",
       "10    3.025000e-12  3.097000e-12  3.097000e-12\n",
       "11    6.840000e-12  6.999000e-12  6.999000e-12\n",
       "12    4.975000e-11  5.104000e-11  5.104000e-11\n",
       "13    1.971000e-12  2.017000e-12  2.017000e-12\n",
       "14    7.432000e-11  7.621000e-11  7.621000e-11\n",
       "15    4.748000e-11  4.862000e-11  4.862000e-11\n",
       "16    4.485000e-12  4.601000e-12  4.601000e-12\n",
       "17    1.357000e-11  1.389000e-11  1.389000e-11\n",
       "18    8.182000e-11  8.383000e-11  8.383000e-11\n",
       "19    8.111000e-10  8.327000e-10  8.327000e-10\n",
       "20    3.756000e-12  3.853000e-12  3.853000e-12\n",
       "21    1.207000e-11  1.236000e-11  1.236000e-11\n",
       "22    3.803000e-11  3.890000e-11  3.890000e-11\n",
       "23    2.719000e-13  2.787000e-13  2.787000e-13\n",
       "24    2.781000e-11  2.850000e-11  2.850000e-11\n",
       "25    2.024000e-10  2.076000e-10  2.076000e-10\n",
       "26    9.578000e-11  9.820000e-11  9.820000e-11\n",
       "27    1.114000e-14  1.141000e-14  1.141000e-14\n",
       "28    2.739000e-11  2.809000e-11  2.809000e-11\n",
       "29    1.734000e-11  1.775000e-11  1.775000e-11\n",
       "...            ...           ...           ...\n",
       "3004  4.740000e-11  4.860000e-11  4.860000e-11\n",
       "3005  2.027000e-10  2.079000e-10  2.079000e-10\n",
       "3006  1.684000e-12  1.727000e-12  1.727000e-12\n",
       "3007  1.145000e-10  1.174000e-10  1.174000e-10\n",
       "3008  3.030000e-10  3.108000e-10  3.108000e-10\n",
       "3009  1.599000e-10  1.640000e-10  1.640000e-10\n",
       "3010  3.049000e-12  3.126000e-12  3.126000e-12\n",
       "3011  7.803000e-11  8.003000e-11  8.003000e-11\n",
       "3012  5.298000e-11  5.434000e-11  5.434000e-11\n",
       "3013  1.361000e-10  1.395000e-10  1.395000e-10\n",
       "3014  1.399000e-11  1.435000e-11  1.435000e-11\n",
       "3015  1.379000e-12  1.414000e-12  1.414000e-12\n",
       "3016  1.951000e-10  2.000000e-10  2.000000e-10\n",
       "3017  6.329000e-11  6.487000e-11  6.487000e-11\n",
       "3018  2.047000e-10  2.099000e-10  2.099000e-10\n",
       "3019  5.324000e-11  5.460000e-11  5.460000e-11\n",
       "3020  2.067000e-11  2.119000e-11  2.119000e-11\n",
       "3021  7.272000e-15  7.455000e-15  7.455000e-15\n",
       "3022  1.564000e-11  1.604000e-11  1.604000e-11\n",
       "3023  2.215000e-10  2.271000e-10  2.271000e-10\n",
       "3024  7.262000e-11  7.446000e-11  7.446000e-11\n",
       "3025  4.347000e-11  4.458000e-11  4.458000e-11\n",
       "3026  5.245000e-11  5.380000e-11  5.380000e-11\n",
       "3027  1.126000e-14  1.155000e-14  1.155000e-14\n",
       "3028  4.237000e-11  4.345000e-11  4.345000e-11\n",
       "3029  2.545000e-11  2.610000e-11  2.610000e-11\n",
       "3030  1.743000e-10  1.787000e-10  1.787000e-10\n",
       "3031  6.615000e-11  6.784000e-11  6.784000e-11\n",
       "3032  1.059000e-10  1.085000e-10  1.085000e-10\n",
       "3033  8.629000e-12  8.848000e-12  8.848000e-12\n",
       "\n",
       "[3034 rows x 3 columns]"
      ]
     },
     "execution_count": 47,
     "metadata": {},
     "output_type": "execute_result"
    }
   ],
   "source": [
    "hpf[['proton_SI','neutron_SI','DD_SI']]"
   ]
  },
  {
   "cell_type": "code",
   "execution_count": 29,
   "metadata": {
    "collapsed": false
   },
   "outputs": [
    {
     "data": {
      "text/html": [
       "<div>\n",
       "<table border=\"1\" class=\"dataframe\">\n",
       "  <thead>\n",
       "    <tr style=\"text-align: right;\">\n",
       "      <th></th>\n",
       "      <th>Omega_h2</th>\n",
       "      <th>sigmav</th>\n",
       "      <th>Chi_1</th>\n",
       "      <th>Chi_2</th>\n",
       "      <th>Fre</th>\n",
       "      <th>h0 -&gt;  Chi_1 Chi_1</th>\n",
       "      <th>Chi_2 -&gt;  Chi_1 Z0</th>\n",
       "      <th>Chi_3 -&gt;  Chi_1 Z0</th>\n",
       "      <th>Fre -&gt;  Chi_1 W-</th>\n",
       "      <th>lux_SI</th>\n",
       "      <th>proton_SI</th>\n",
       "      <th>neutron_SI</th>\n",
       "      <th>lambda</th>\n",
       "      <th>tanb</th>\n",
       "      <th>ID_br:~chi,~chi &gt; b b~</th>\n",
       "    </tr>\n",
       "  </thead>\n",
       "  <tbody>\n",
       "    <tr>\n",
       "      <th>103</th>\n",
       "      <td>0.118</td>\n",
       "      <td>7.320000e-27</td>\n",
       "      <td>9.290680</td>\n",
       "      <td>-442.504616</td>\n",
       "      <td>102.400253</td>\n",
       "      <td>0.003108</td>\n",
       "      <td>0.050054</td>\n",
       "      <td>0.010317</td>\n",
       "      <td>1.000000</td>\n",
       "      <td>1.939738e-08</td>\n",
       "      <td>1.971000e-12</td>\n",
       "      <td>2.017000e-12</td>\n",
       "      <td>2.487868</td>\n",
       "      <td>22.718408</td>\n",
       "      <td>0.878</td>\n",
       "    </tr>\n",
       "    <tr>\n",
       "      <th>226</th>\n",
       "      <td>0.117</td>\n",
       "      <td>5.680000e-27</td>\n",
       "      <td>10.998815</td>\n",
       "      <td>-240.915531</td>\n",
       "      <td>105.342170</td>\n",
       "      <td>0.181832</td>\n",
       "      <td>0.188085</td>\n",
       "      <td>0.071620</td>\n",
       "      <td>1.000000</td>\n",
       "      <td>6.345360e-09</td>\n",
       "      <td>1.434000e-10</td>\n",
       "      <td>1.467000e-10</td>\n",
       "      <td>1.283975</td>\n",
       "      <td>25.955958</td>\n",
       "      <td>0.883</td>\n",
       "    </tr>\n",
       "    <tr>\n",
       "      <th>235</th>\n",
       "      <td>0.118</td>\n",
       "      <td>5.670000e-27</td>\n",
       "      <td>10.966001</td>\n",
       "      <td>245.829119</td>\n",
       "      <td>105.560722</td>\n",
       "      <td>0.000393</td>\n",
       "      <td>0.084611</td>\n",
       "      <td>0.173617</td>\n",
       "      <td>1.000000</td>\n",
       "      <td>6.454726e-09</td>\n",
       "      <td>2.534000e-13</td>\n",
       "      <td>2.593000e-13</td>\n",
       "      <td>1.276968</td>\n",
       "      <td>18.988941</td>\n",
       "      <td>0.883</td>\n",
       "    </tr>\n",
       "    <tr>\n",
       "      <th>299</th>\n",
       "      <td>0.124</td>\n",
       "      <td>7.310000e-27</td>\n",
       "      <td>8.999038</td>\n",
       "      <td>-471.681713</td>\n",
       "      <td>107.127998</td>\n",
       "      <td>0.070210</td>\n",
       "      <td>0.046995</td>\n",
       "      <td>0.009026</td>\n",
       "      <td>1.000000</td>\n",
       "      <td>2.523718e-08</td>\n",
       "      <td>4.756000e-11</td>\n",
       "      <td>4.865000e-11</td>\n",
       "      <td>2.718981</td>\n",
       "      <td>28.302810</td>\n",
       "      <td>0.877</td>\n",
       "    </tr>\n",
       "    <tr>\n",
       "      <th>485</th>\n",
       "      <td>0.123</td>\n",
       "      <td>7.190000e-27</td>\n",
       "      <td>9.130613</td>\n",
       "      <td>-446.362231</td>\n",
       "      <td>111.816231</td>\n",
       "      <td>0.118148</td>\n",
       "      <td>0.053979</td>\n",
       "      <td>0.012447</td>\n",
       "      <td>1.000000</td>\n",
       "      <td>2.241171e-08</td>\n",
       "      <td>8.453000e-11</td>\n",
       "      <td>8.647000e-11</td>\n",
       "      <td>2.571289</td>\n",
       "      <td>31.060117</td>\n",
       "      <td>0.877</td>\n",
       "    </tr>\n",
       "    <tr>\n",
       "      <th>556</th>\n",
       "      <td>0.116</td>\n",
       "      <td>6.600000e-27</td>\n",
       "      <td>10.088407</td>\n",
       "      <td>-333.191213</td>\n",
       "      <td>113.659453</td>\n",
       "      <td>0.142106</td>\n",
       "      <td>0.095392</td>\n",
       "      <td>0.032050</td>\n",
       "      <td>1.000000</td>\n",
       "      <td>1.019441e-08</td>\n",
       "      <td>1.058000e-10</td>\n",
       "      <td>1.082000e-10</td>\n",
       "      <td>1.853207</td>\n",
       "      <td>29.109257</td>\n",
       "      <td>0.881</td>\n",
       "    </tr>\n",
       "    <tr>\n",
       "      <th>566</th>\n",
       "      <td>0.119</td>\n",
       "      <td>6.020000e-27</td>\n",
       "      <td>10.492953</td>\n",
       "      <td>-287.180095</td>\n",
       "      <td>113.921491</td>\n",
       "      <td>0.019874</td>\n",
       "      <td>0.132635</td>\n",
       "      <td>0.059322</td>\n",
       "      <td>1.000000</td>\n",
       "      <td>8.257839e-09</td>\n",
       "      <td>1.301000e-11</td>\n",
       "      <td>1.331000e-11</td>\n",
       "      <td>1.528036</td>\n",
       "      <td>23.566320</td>\n",
       "      <td>0.882</td>\n",
       "    </tr>\n",
       "    <tr>\n",
       "      <th>689</th>\n",
       "      <td>0.124</td>\n",
       "      <td>6.800000e-27</td>\n",
       "      <td>9.442659</td>\n",
       "      <td>-385.809282</td>\n",
       "      <td>117.194408</td>\n",
       "      <td>0.034643</td>\n",
       "      <td>0.073682</td>\n",
       "      <td>0.026040</td>\n",
       "      <td>1.000000</td>\n",
       "      <td>1.691145e-08</td>\n",
       "      <td>2.273000e-11</td>\n",
       "      <td>2.325000e-11</td>\n",
       "      <td>2.142112</td>\n",
       "      <td>27.848437</td>\n",
       "      <td>0.879</td>\n",
       "    </tr>\n",
       "    <tr>\n",
       "      <th>819</th>\n",
       "      <td>0.123</td>\n",
       "      <td>6.450000e-27</td>\n",
       "      <td>9.849348</td>\n",
       "      <td>-344.335995</td>\n",
       "      <td>120.755853</td>\n",
       "      <td>0.092329</td>\n",
       "      <td>0.096904</td>\n",
       "      <td>0.038451</td>\n",
       "      <td>1.000000</td>\n",
       "      <td>1.171643e-08</td>\n",
       "      <td>6.476000e-11</td>\n",
       "      <td>6.625000e-11</td>\n",
       "      <td>1.892032</td>\n",
       "      <td>29.994150</td>\n",
       "      <td>0.880</td>\n",
       "    </tr>\n",
       "    <tr>\n",
       "      <th>972</th>\n",
       "      <td>0.121</td>\n",
       "      <td>5.990000e-27</td>\n",
       "      <td>10.432837</td>\n",
       "      <td>-310.302431</td>\n",
       "      <td>125.086293</td>\n",
       "      <td>0.110250</td>\n",
       "      <td>0.130921</td>\n",
       "      <td>0.059270</td>\n",
       "      <td>1.000000</td>\n",
       "      <td>8.520455e-09</td>\n",
       "      <td>7.943000e-11</td>\n",
       "      <td>8.127000e-11</td>\n",
       "      <td>1.664969</td>\n",
       "      <td>29.950673</td>\n",
       "      <td>0.881</td>\n",
       "    </tr>\n",
       "    <tr>\n",
       "      <th>991</th>\n",
       "      <td>0.119</td>\n",
       "      <td>7.130000e-27</td>\n",
       "      <td>9.447707</td>\n",
       "      <td>-471.636182</td>\n",
       "      <td>125.634788</td>\n",
       "      <td>0.065119</td>\n",
       "      <td>0.057201</td>\n",
       "      <td>0.017609</td>\n",
       "      <td>1.000000</td>\n",
       "      <td>1.683459e-08</td>\n",
       "      <td>4.413000e-11</td>\n",
       "      <td>4.514000e-11</td>\n",
       "      <td>2.667079</td>\n",
       "      <td>31.236123</td>\n",
       "      <td>0.879</td>\n",
       "    </tr>\n",
       "    <tr>\n",
       "      <th>1109</th>\n",
       "      <td>0.123</td>\n",
       "      <td>7.190000e-27</td>\n",
       "      <td>9.132469</td>\n",
       "      <td>-511.401437</td>\n",
       "      <td>129.095496</td>\n",
       "      <td>0.182589</td>\n",
       "      <td>0.051289</td>\n",
       "      <td>0.014113</td>\n",
       "      <td>1.000000</td>\n",
       "      <td>2.237421e-08</td>\n",
       "      <td>1.409000e-10</td>\n",
       "      <td>1.442000e-10</td>\n",
       "      <td>2.956518</td>\n",
       "      <td>38.924593</td>\n",
       "      <td>0.878</td>\n",
       "    </tr>\n",
       "    <tr>\n",
       "      <th>1212</th>\n",
       "      <td>0.120</td>\n",
       "      <td>6.410000e-27</td>\n",
       "      <td>10.038386</td>\n",
       "      <td>-371.692380</td>\n",
       "      <td>132.194115</td>\n",
       "      <td>0.031241</td>\n",
       "      <td>0.095842</td>\n",
       "      <td>0.043706</td>\n",
       "      <td>1.000000</td>\n",
       "      <td>1.046346e-08</td>\n",
       "      <td>2.058000e-11</td>\n",
       "      <td>2.105000e-11</td>\n",
       "      <td>2.016896</td>\n",
       "      <td>29.293184</td>\n",
       "      <td>0.880</td>\n",
       "    </tr>\n",
       "    <tr>\n",
       "      <th>1341</th>\n",
       "      <td>0.124</td>\n",
       "      <td>6.470000e-27</td>\n",
       "      <td>9.743785</td>\n",
       "      <td>-394.531658</td>\n",
       "      <td>136.180026</td>\n",
       "      <td>0.016884</td>\n",
       "      <td>0.088416</td>\n",
       "      <td>0.041671</td>\n",
       "      <td>1.000000</td>\n",
       "      <td>1.288744e-08</td>\n",
       "      <td>1.092000e-11</td>\n",
       "      <td>1.117000e-11</td>\n",
       "      <td>2.143403</td>\n",
       "      <td>30.216955</td>\n",
       "      <td>0.880</td>\n",
       "    </tr>\n",
       "    <tr>\n",
       "      <th>1350</th>\n",
       "      <td>0.117</td>\n",
       "      <td>6.770000e-27</td>\n",
       "      <td>9.868883</td>\n",
       "      <td>-425.714121</td>\n",
       "      <td>136.462556</td>\n",
       "      <td>0.184428</td>\n",
       "      <td>0.077681</td>\n",
       "      <td>0.029387</td>\n",
       "      <td>1.000000</td>\n",
       "      <td>1.151170e-08</td>\n",
       "      <td>1.440000e-10</td>\n",
       "      <td>1.473000e-10</td>\n",
       "      <td>2.387750</td>\n",
       "      <td>37.686003</td>\n",
       "      <td>0.880</td>\n",
       "    </tr>\n",
       "    <tr>\n",
       "      <th>1527</th>\n",
       "      <td>0.118</td>\n",
       "      <td>6.950000e-27</td>\n",
       "      <td>9.662032</td>\n",
       "      <td>-481.975715</td>\n",
       "      <td>142.139660</td>\n",
       "      <td>0.118896</td>\n",
       "      <td>0.065287</td>\n",
       "      <td>0.024800</td>\n",
       "      <td>1.000000</td>\n",
       "      <td>1.387415e-08</td>\n",
       "      <td>8.571000e-11</td>\n",
       "      <td>8.768000e-11</td>\n",
       "      <td>2.709569</td>\n",
       "      <td>37.070926</td>\n",
       "      <td>0.879</td>\n",
       "    </tr>\n",
       "    <tr>\n",
       "      <th>1589</th>\n",
       "      <td>0.119</td>\n",
       "      <td>7.050000e-27</td>\n",
       "      <td>9.510502</td>\n",
       "      <td>-517.368039</td>\n",
       "      <td>144.183609</td>\n",
       "      <td>0.048781</td>\n",
       "      <td>0.058439</td>\n",
       "      <td>0.022590</td>\n",
       "      <td>1.000000</td>\n",
       "      <td>1.590716e-08</td>\n",
       "      <td>3.251000e-11</td>\n",
       "      <td>3.326000e-11</td>\n",
       "      <td>2.897590</td>\n",
       "      <td>34.756583</td>\n",
       "      <td>0.879</td>\n",
       "    </tr>\n",
       "    <tr>\n",
       "      <th>1783</th>\n",
       "      <td>0.118</td>\n",
       "      <td>6.740000e-27</td>\n",
       "      <td>9.865411</td>\n",
       "      <td>-468.454377</td>\n",
       "      <td>150.771006</td>\n",
       "      <td>0.083277</td>\n",
       "      <td>0.075065</td>\n",
       "      <td>0.033442</td>\n",
       "      <td>1.000000</td>\n",
       "      <td>1.154781e-08</td>\n",
       "      <td>5.784000e-11</td>\n",
       "      <td>5.918000e-11</td>\n",
       "      <td>2.591768</td>\n",
       "      <td>36.776068</td>\n",
       "      <td>0.880</td>\n",
       "    </tr>\n",
       "    <tr>\n",
       "      <th>1854</th>\n",
       "      <td>0.117</td>\n",
       "      <td>6.880000e-27</td>\n",
       "      <td>9.794049</td>\n",
       "      <td>-502.363540</td>\n",
       "      <td>153.256373</td>\n",
       "      <td>0.072355</td>\n",
       "      <td>0.067577</td>\n",
       "      <td>0.029272</td>\n",
       "      <td>1.000000</td>\n",
       "      <td>1.231593e-08</td>\n",
       "      <td>4.962000e-11</td>\n",
       "      <td>5.077000e-11</td>\n",
       "      <td>2.793284</td>\n",
       "      <td>37.070201</td>\n",
       "      <td>0.880</td>\n",
       "    </tr>\n",
       "    <tr>\n",
       "      <th>1970</th>\n",
       "      <td>0.118</td>\n",
       "      <td>6.520000e-27</td>\n",
       "      <td>10.031401</td>\n",
       "      <td>-451.634568</td>\n",
       "      <td>157.405427</td>\n",
       "      <td>0.119570</td>\n",
       "      <td>0.086334</td>\n",
       "      <td>0.041645</td>\n",
       "      <td>1.000000</td>\n",
       "      <td>1.050159e-08</td>\n",
       "      <td>8.665000e-11</td>\n",
       "      <td>8.865000e-11</td>\n",
       "      <td>2.478085</td>\n",
       "      <td>39.594175</td>\n",
       "      <td>0.880</td>\n",
       "    </tr>\n",
       "    <tr>\n",
       "      <th>2033</th>\n",
       "      <td>0.121</td>\n",
       "      <td>5.770000e-27</td>\n",
       "      <td>10.666332</td>\n",
       "      <td>-377.812873</td>\n",
       "      <td>159.705669</td>\n",
       "      <td>0.047378</td>\n",
       "      <td>0.129703</td>\n",
       "      <td>0.074917</td>\n",
       "      <td>1.000000</td>\n",
       "      <td>7.544902e-09</td>\n",
       "      <td>3.197000e-11</td>\n",
       "      <td>3.271000e-11</td>\n",
       "      <td>1.986163</td>\n",
       "      <td>34.269501</td>\n",
       "      <td>0.882</td>\n",
       "    </tr>\n",
       "    <tr>\n",
       "      <th>2222</th>\n",
       "      <td>0.116</td>\n",
       "      <td>5.290000e-27</td>\n",
       "      <td>11.516397</td>\n",
       "      <td>-355.409386</td>\n",
       "      <td>166.810054</td>\n",
       "      <td>0.058079</td>\n",
       "      <td>0.166192</td>\n",
       "      <td>0.101932</td>\n",
       "      <td>1.000000</td>\n",
       "      <td>4.846133e-09</td>\n",
       "      <td>4.002000e-11</td>\n",
       "      <td>4.096000e-11</td>\n",
       "      <td>1.820636</td>\n",
       "      <td>33.586320</td>\n",
       "      <td>0.884</td>\n",
       "    </tr>\n",
       "    <tr>\n",
       "      <th>2313</th>\n",
       "      <td>0.119</td>\n",
       "      <td>2.190000e-27</td>\n",
       "      <td>17.357194</td>\n",
       "      <td>-237.698661</td>\n",
       "      <td>170.342545</td>\n",
       "      <td>0.055242</td>\n",
       "      <td>0.711147</td>\n",
       "      <td>0.577740</td>\n",
       "      <td>1.000000</td>\n",
       "      <td>1.370249e-09</td>\n",
       "      <td>4.079000e-11</td>\n",
       "      <td>4.177000e-11</td>\n",
       "      <td>0.961648</td>\n",
       "      <td>22.959132</td>\n",
       "      <td>0.888</td>\n",
       "    </tr>\n",
       "    <tr>\n",
       "      <th>2498</th>\n",
       "      <td>0.121</td>\n",
       "      <td>3.850000e-27</td>\n",
       "      <td>13.357430</td>\n",
       "      <td>-301.891259</td>\n",
       "      <td>177.756292</td>\n",
       "      <td>0.179339</td>\n",
       "      <td>0.334107</td>\n",
       "      <td>0.221007</td>\n",
       "      <td>1.000000</td>\n",
       "      <td>2.926425e-09</td>\n",
       "      <td>1.449000e-10</td>\n",
       "      <td>1.483000e-10</td>\n",
       "      <td>1.425170</td>\n",
       "      <td>36.349042</td>\n",
       "      <td>0.886</td>\n",
       "    </tr>\n",
       "    <tr>\n",
       "      <th>2776</th>\n",
       "      <td>0.121</td>\n",
       "      <td>3.250000e-27</td>\n",
       "      <td>14.474095</td>\n",
       "      <td>-300.749399</td>\n",
       "      <td>189.508094</td>\n",
       "      <td>0.002301</td>\n",
       "      <td>0.412836</td>\n",
       "      <td>0.318157</td>\n",
       "      <td>1.000000</td>\n",
       "      <td>2.364415e-09</td>\n",
       "      <td>1.549000e-12</td>\n",
       "      <td>1.586000e-12</td>\n",
       "      <td>1.343512</td>\n",
       "      <td>26.901777</td>\n",
       "      <td>0.887</td>\n",
       "    </tr>\n",
       "    <tr>\n",
       "      <th>2790</th>\n",
       "      <td>0.123</td>\n",
       "      <td>5.570000e-27</td>\n",
       "      <td>10.766070</td>\n",
       "      <td>-432.072064</td>\n",
       "      <td>190.120043</td>\n",
       "      <td>0.038441</td>\n",
       "      <td>0.132772</td>\n",
       "      <td>0.086146</td>\n",
       "      <td>1.000000</td>\n",
       "      <td>7.163017e-09</td>\n",
       "      <td>2.573000e-11</td>\n",
       "      <td>2.633000e-11</td>\n",
       "      <td>2.244824</td>\n",
       "      <td>39.879400</td>\n",
       "      <td>0.882</td>\n",
       "    </tr>\n",
       "    <tr>\n",
       "      <th>2941</th>\n",
       "      <td>0.122</td>\n",
       "      <td>6.350000e-27</td>\n",
       "      <td>9.971143</td>\n",
       "      <td>-540.262054</td>\n",
       "      <td>196.847278</td>\n",
       "      <td>0.186822</td>\n",
       "      <td>0.087714</td>\n",
       "      <td>0.049779</td>\n",
       "      <td>1.000000</td>\n",
       "      <td>1.049693e-08</td>\n",
       "      <td>1.465000e-10</td>\n",
       "      <td>1.499000e-10</td>\n",
       "      <td>2.945807</td>\n",
       "      <td>54.467909</td>\n",
       "      <td>0.880</td>\n",
       "    </tr>\n",
       "    <tr>\n",
       "      <th>3052</th>\n",
       "      <td>0.122</td>\n",
       "      <td>5.980000e-27</td>\n",
       "      <td>10.375199</td>\n",
       "      <td>-504.243119</td>\n",
       "      <td>201.943799</td>\n",
       "      <td>0.021570</td>\n",
       "      <td>0.105494</td>\n",
       "      <td>0.068000</td>\n",
       "      <td>1.000000</td>\n",
       "      <td>8.780084e-09</td>\n",
       "      <td>1.412000e-11</td>\n",
       "      <td>1.445000e-11</td>\n",
       "      <td>2.668131</td>\n",
       "      <td>42.521336</td>\n",
       "      <td>0.881</td>\n",
       "    </tr>\n",
       "    <tr>\n",
       "      <th>3089</th>\n",
       "      <td>0.122</td>\n",
       "      <td>1.640000e-27</td>\n",
       "      <td>19.238591</td>\n",
       "      <td>-266.337362</td>\n",
       "      <td>203.671796</td>\n",
       "      <td>0.156845</td>\n",
       "      <td>0.679002</td>\n",
       "      <td>0.555379</td>\n",
       "      <td>1.000000</td>\n",
       "      <td>1.246516e-09</td>\n",
       "      <td>1.334000e-10</td>\n",
       "      <td>1.366000e-10</td>\n",
       "      <td>1.001985</td>\n",
       "      <td>29.303884</td>\n",
       "      <td>0.889</td>\n",
       "    </tr>\n",
       "    <tr>\n",
       "      <th>3305</th>\n",
       "      <td>0.121</td>\n",
       "      <td>5.880000e-28</td>\n",
       "      <td>26.307010</td>\n",
       "      <td>-245.988014</td>\n",
       "      <td>214.058784</td>\n",
       "      <td>0.130381</td>\n",
       "      <td>0.717836</td>\n",
       "      <td>0.564870</td>\n",
       "      <td>1.000000</td>\n",
       "      <td>8.735306e-10</td>\n",
       "      <td>1.231000e-10</td>\n",
       "      <td>1.262000e-10</td>\n",
       "      <td>0.711271</td>\n",
       "      <td>24.215051</td>\n",
       "      <td>0.890</td>\n",
       "    </tr>\n",
       "    <tr>\n",
       "      <th>...</th>\n",
       "      <td>...</td>\n",
       "      <td>...</td>\n",
       "      <td>...</td>\n",
       "      <td>...</td>\n",
       "      <td>...</td>\n",
       "      <td>...</td>\n",
       "      <td>...</td>\n",
       "      <td>...</td>\n",
       "      <td>...</td>\n",
       "      <td>...</td>\n",
       "      <td>...</td>\n",
       "      <td>...</td>\n",
       "      <td>...</td>\n",
       "      <td>...</td>\n",
       "      <td>...</td>\n",
       "    </tr>\n",
       "    <tr>\n",
       "      <th>3332</th>\n",
       "      <td>0.117</td>\n",
       "      <td>4.720000e-27</td>\n",
       "      <td>12.236860</td>\n",
       "      <td>-417.464192</td>\n",
       "      <td>215.393862</td>\n",
       "      <td>0.029165</td>\n",
       "      <td>0.189569</td>\n",
       "      <td>0.136126</td>\n",
       "      <td>0.999999</td>\n",
       "      <td>3.624724e-09</td>\n",
       "      <td>1.966000e-11</td>\n",
       "      <td>2.012000e-11</td>\n",
       "      <td>2.064733</td>\n",
       "      <td>38.957234</td>\n",
       "      <td>0.885</td>\n",
       "    </tr>\n",
       "    <tr>\n",
       "      <th>3358</th>\n",
       "      <td>0.118</td>\n",
       "      <td>5.780000e-27</td>\n",
       "      <td>10.815517</td>\n",
       "      <td>-510.303649</td>\n",
       "      <td>216.687362</td>\n",
       "      <td>0.105693</td>\n",
       "      <td>0.118099</td>\n",
       "      <td>0.077028</td>\n",
       "      <td>0.999999</td>\n",
       "      <td>6.980918e-09</td>\n",
       "      <td>7.610000e-11</td>\n",
       "      <td>7.787000e-11</td>\n",
       "      <td>2.683759</td>\n",
       "      <td>49.655990</td>\n",
       "      <td>0.882</td>\n",
       "    </tr>\n",
       "    <tr>\n",
       "      <th>3503</th>\n",
       "      <td>0.119</td>\n",
       "      <td>6.020000e-27</td>\n",
       "      <td>10.505636</td>\n",
       "      <td>-560.721080</td>\n",
       "      <td>224.044885</td>\n",
       "      <td>0.072221</td>\n",
       "      <td>0.102493</td>\n",
       "      <td>0.067012</td>\n",
       "      <td>0.999998</td>\n",
       "      <td>8.203479e-09</td>\n",
       "      <td>4.994000e-11</td>\n",
       "      <td>5.110000e-11</td>\n",
       "      <td>2.979558</td>\n",
       "      <td>50.609526</td>\n",
       "      <td>0.882</td>\n",
       "    </tr>\n",
       "    <tr>\n",
       "      <th>3895</th>\n",
       "      <td>0.122</td>\n",
       "      <td>5.320000e-27</td>\n",
       "      <td>11.141019</td>\n",
       "      <td>-527.923003</td>\n",
       "      <td>245.210438</td>\n",
       "      <td>0.087505</td>\n",
       "      <td>0.139314</td>\n",
       "      <td>0.099513</td>\n",
       "      <td>0.999993</td>\n",
       "      <td>5.892426e-09</td>\n",
       "      <td>6.198000e-11</td>\n",
       "      <td>6.343000e-11</td>\n",
       "      <td>2.708385</td>\n",
       "      <td>53.469102</td>\n",
       "      <td>0.883</td>\n",
       "    </tr>\n",
       "    <tr>\n",
       "      <th>4116</th>\n",
       "      <td>0.120</td>\n",
       "      <td>5.160000e-27</td>\n",
       "      <td>11.477038</td>\n",
       "      <td>-540.537729</td>\n",
       "      <td>258.012748</td>\n",
       "      <td>0.002867</td>\n",
       "      <td>0.146028</td>\n",
       "      <td>0.110531</td>\n",
       "      <td>0.999989</td>\n",
       "      <td>4.946491e-09</td>\n",
       "      <td>1.865000e-12</td>\n",
       "      <td>1.909000e-12</td>\n",
       "      <td>2.731953</td>\n",
       "      <td>46.346818</td>\n",
       "      <td>0.884</td>\n",
       "    </tr>\n",
       "    <tr>\n",
       "      <th>4622</th>\n",
       "      <td>0.120</td>\n",
       "      <td>4.320000e-27</td>\n",
       "      <td>12.599815</td>\n",
       "      <td>-530.801621</td>\n",
       "      <td>289.898671</td>\n",
       "      <td>0.002170</td>\n",
       "      <td>0.196676</td>\n",
       "      <td>0.158423</td>\n",
       "      <td>0.999974</td>\n",
       "      <td>3.381990e-09</td>\n",
       "      <td>1.429000e-12</td>\n",
       "      <td>1.463000e-12</td>\n",
       "      <td>2.556547</td>\n",
       "      <td>47.251977</td>\n",
       "      <td>0.885</td>\n",
       "    </tr>\n",
       "    <tr>\n",
       "      <th>4642</th>\n",
       "      <td>0.123</td>\n",
       "      <td>5.010000e-27</td>\n",
       "      <td>11.475386</td>\n",
       "      <td>-593.576021</td>\n",
       "      <td>291.236917</td>\n",
       "      <td>0.051757</td>\n",
       "      <td>0.151187</td>\n",
       "      <td>0.116687</td>\n",
       "      <td>0.999973</td>\n",
       "      <td>4.950748e-09</td>\n",
       "      <td>3.541000e-11</td>\n",
       "      <td>3.624000e-11</td>\n",
       "      <td>2.986588</td>\n",
       "      <td>58.612604</td>\n",
       "      <td>0.883</td>\n",
       "    </tr>\n",
       "    <tr>\n",
       "      <th>4857</th>\n",
       "      <td>0.119</td>\n",
       "      <td>2.490000e-27</td>\n",
       "      <td>16.484300</td>\n",
       "      <td>-442.182412</td>\n",
       "      <td>306.019129</td>\n",
       "      <td>0.120608</td>\n",
       "      <td>0.391413</td>\n",
       "      <td>0.318580</td>\n",
       "      <td>0.999966</td>\n",
       "      <td>1.610653e-09</td>\n",
       "      <td>9.453000e-11</td>\n",
       "      <td>9.680000e-11</td>\n",
       "      <td>1.848679</td>\n",
       "      <td>47.621433</td>\n",
       "      <td>0.888</td>\n",
       "    </tr>\n",
       "    <tr>\n",
       "      <th>5325</th>\n",
       "      <td>0.118</td>\n",
       "      <td>1.030000e-27</td>\n",
       "      <td>22.720514</td>\n",
       "      <td>-417.035662</td>\n",
       "      <td>340.842118</td>\n",
       "      <td>0.035409</td>\n",
       "      <td>0.592726</td>\n",
       "      <td>0.509754</td>\n",
       "      <td>0.999945</td>\n",
       "      <td>1.046237e-09</td>\n",
       "      <td>2.795000e-11</td>\n",
       "      <td>2.864000e-11</td>\n",
       "      <td>1.387593</td>\n",
       "      <td>34.727468</td>\n",
       "      <td>0.890</td>\n",
       "    </tr>\n",
       "    <tr>\n",
       "      <th>5476</th>\n",
       "      <td>0.116</td>\n",
       "      <td>8.420000e-28</td>\n",
       "      <td>24.228668</td>\n",
       "      <td>421.504281</td>\n",
       "      <td>352.902525</td>\n",
       "      <td>0.041538</td>\n",
       "      <td>0.514300</td>\n",
       "      <td>0.587892</td>\n",
       "      <td>0.999937</td>\n",
       "      <td>9.698006e-10</td>\n",
       "      <td>3.400000e-11</td>\n",
       "      <td>3.484000e-11</td>\n",
       "      <td>1.332987</td>\n",
       "      <td>25.147235</td>\n",
       "      <td>0.890</td>\n",
       "    </tr>\n",
       "    <tr>\n",
       "      <th>6001</th>\n",
       "      <td>0.117</td>\n",
       "      <td>1.440000e-27</td>\n",
       "      <td>20.524235</td>\n",
       "      <td>510.826932</td>\n",
       "      <td>398.253880</td>\n",
       "      <td>0.096702</td>\n",
       "      <td>0.436421</td>\n",
       "      <td>0.481964</td>\n",
       "      <td>0.999906</td>\n",
       "      <td>1.168453e-09</td>\n",
       "      <td>7.838000e-11</td>\n",
       "      <td>8.030000e-11</td>\n",
       "      <td>1.851137</td>\n",
       "      <td>31.932467</td>\n",
       "      <td>0.889</td>\n",
       "    </tr>\n",
       "    <tr>\n",
       "      <th>6147</th>\n",
       "      <td>0.120</td>\n",
       "      <td>1.720000e-27</td>\n",
       "      <td>19.016328</td>\n",
       "      <td>-545.608226</td>\n",
       "      <td>411.871248</td>\n",
       "      <td>0.126803</td>\n",
       "      <td>0.440938</td>\n",
       "      <td>0.378279</td>\n",
       "      <td>0.999897</td>\n",
       "      <td>1.260531e-09</td>\n",
       "      <td>1.038000e-10</td>\n",
       "      <td>1.063000e-10</td>\n",
       "      <td>2.070253</td>\n",
       "      <td>57.193692</td>\n",
       "      <td>0.889</td>\n",
       "    </tr>\n",
       "    <tr>\n",
       "      <th>6445</th>\n",
       "      <td>0.123</td>\n",
       "      <td>1.710000e-27</td>\n",
       "      <td>18.860616</td>\n",
       "      <td>583.778626</td>\n",
       "      <td>441.127829</td>\n",
       "      <td>0.121768</td>\n",
       "      <td>0.382590</td>\n",
       "      <td>0.416667</td>\n",
       "      <td>0.999880</td>\n",
       "      <td>1.270443e-09</td>\n",
       "      <td>9.886000e-11</td>\n",
       "      <td>1.013000e-10</td>\n",
       "      <td>2.211742</td>\n",
       "      <td>37.713221</td>\n",
       "      <td>0.889</td>\n",
       "    </tr>\n",
       "    <tr>\n",
       "      <th>6470</th>\n",
       "      <td>0.121</td>\n",
       "      <td>6.230000e-28</td>\n",
       "      <td>25.968981</td>\n",
       "      <td>-514.472985</td>\n",
       "      <td>443.674743</td>\n",
       "      <td>0.072648</td>\n",
       "      <td>0.573892</td>\n",
       "      <td>0.499754</td>\n",
       "      <td>0.999879</td>\n",
       "      <td>8.885111e-10</td>\n",
       "      <td>6.384000e-11</td>\n",
       "      <td>6.542000e-11</td>\n",
       "      <td>1.507389</td>\n",
       "      <td>44.569992</td>\n",
       "      <td>0.890</td>\n",
       "    </tr>\n",
       "    <tr>\n",
       "      <th>6538</th>\n",
       "      <td>0.118</td>\n",
       "      <td>8.610000e-28</td>\n",
       "      <td>24.005873</td>\n",
       "      <td>-539.774499</td>\n",
       "      <td>450.676992</td>\n",
       "      <td>0.055246</td>\n",
       "      <td>0.556448</td>\n",
       "      <td>0.486726</td>\n",
       "      <td>0.999875</td>\n",
       "      <td>9.807307e-10</td>\n",
       "      <td>4.567000e-11</td>\n",
       "      <td>4.680000e-11</td>\n",
       "      <td>1.715786</td>\n",
       "      <td>45.852469</td>\n",
       "      <td>0.890</td>\n",
       "    </tr>\n",
       "    <tr>\n",
       "      <th>6541</th>\n",
       "      <td>0.116</td>\n",
       "      <td>1.030000e-27</td>\n",
       "      <td>22.877344</td>\n",
       "      <td>-552.235228</td>\n",
       "      <td>450.988447</td>\n",
       "      <td>0.038810</td>\n",
       "      <td>0.528612</td>\n",
       "      <td>0.463772</td>\n",
       "      <td>0.999874</td>\n",
       "      <td>1.038016e-09</td>\n",
       "      <td>3.084000e-11</td>\n",
       "      <td>3.160000e-11</td>\n",
       "      <td>1.838384</td>\n",
       "      <td>45.961054</td>\n",
       "      <td>0.890</td>\n",
       "    </tr>\n",
       "    <tr>\n",
       "      <th>6580</th>\n",
       "      <td>0.117</td>\n",
       "      <td>8.300000e-28</td>\n",
       "      <td>24.277355</td>\n",
       "      <td>-543.627390</td>\n",
       "      <td>455.057008</td>\n",
       "      <td>0.000806</td>\n",
       "      <td>0.555027</td>\n",
       "      <td>0.492555</td>\n",
       "      <td>0.999872</td>\n",
       "      <td>9.674284e-10</td>\n",
       "      <td>6.332000e-13</td>\n",
       "      <td>6.489000e-13</td>\n",
       "      <td>1.709365</td>\n",
       "      <td>38.286979</td>\n",
       "      <td>0.890</td>\n",
       "    </tr>\n",
       "    <tr>\n",
       "      <th>6831</th>\n",
       "      <td>0.119</td>\n",
       "      <td>2.560000e-27</td>\n",
       "      <td>16.299700</td>\n",
       "      <td>-703.621786</td>\n",
       "      <td>482.134619</td>\n",
       "      <td>0.063561</td>\n",
       "      <td>0.313979</td>\n",
       "      <td>0.276113</td>\n",
       "      <td>0.999857</td>\n",
       "      <td>1.668446e-09</td>\n",
       "      <td>4.667000e-11</td>\n",
       "      <td>4.779000e-11</td>\n",
       "      <td>2.954543</td>\n",
       "      <td>69.976869</td>\n",
       "      <td>0.888</td>\n",
       "    </tr>\n",
       "    <tr>\n",
       "      <th>6910</th>\n",
       "      <td>0.121</td>\n",
       "      <td>2.060000e-27</td>\n",
       "      <td>17.672964</td>\n",
       "      <td>-676.766529</td>\n",
       "      <td>490.985998</td>\n",
       "      <td>0.091264</td>\n",
       "      <td>0.366237</td>\n",
       "      <td>0.322526</td>\n",
       "      <td>0.999852</td>\n",
       "      <td>1.348656e-09</td>\n",
       "      <td>7.036000e-11</td>\n",
       "      <td>7.206000e-11</td>\n",
       "      <td>2.688038</td>\n",
       "      <td>69.095964</td>\n",
       "      <td>0.889</td>\n",
       "    </tr>\n",
       "    <tr>\n",
       "      <th>7227</th>\n",
       "      <td>0.120</td>\n",
       "      <td>6.900000e-28</td>\n",
       "      <td>25.335925</td>\n",
       "      <td>618.563060</td>\n",
       "      <td>528.168234</td>\n",
       "      <td>0.051996</td>\n",
       "      <td>0.493241</td>\n",
       "      <td>0.540083</td>\n",
       "      <td>0.999835</td>\n",
       "      <td>9.172609e-10</td>\n",
       "      <td>4.406000e-11</td>\n",
       "      <td>4.516000e-11</td>\n",
       "      <td>1.859562</td>\n",
       "      <td>35.040823</td>\n",
       "      <td>0.890</td>\n",
       "    </tr>\n",
       "    <tr>\n",
       "      <th>7382</th>\n",
       "      <td>0.119</td>\n",
       "      <td>1.120000e-27</td>\n",
       "      <td>22.091360</td>\n",
       "      <td>-676.805103</td>\n",
       "      <td>547.360971</td>\n",
       "      <td>0.150165</td>\n",
       "      <td>0.478101</td>\n",
       "      <td>0.422345</td>\n",
       "      <td>0.999826</td>\n",
       "      <td>1.079879e-09</td>\n",
       "      <td>1.330000e-10</td>\n",
       "      <td>1.362000e-10</td>\n",
       "      <td>2.302840</td>\n",
       "      <td>70.200000</td>\n",
       "      <td>0.890</td>\n",
       "    </tr>\n",
       "    <tr>\n",
       "      <th>7400</th>\n",
       "      <td>0.117</td>\n",
       "      <td>1.150000e-27</td>\n",
       "      <td>22.058465</td>\n",
       "      <td>-683.743505</td>\n",
       "      <td>549.634528</td>\n",
       "      <td>0.000176</td>\n",
       "      <td>0.467259</td>\n",
       "      <td>0.423420</td>\n",
       "      <td>0.999825</td>\n",
       "      <td>1.081667e-09</td>\n",
       "      <td>1.321000e-13</td>\n",
       "      <td>1.354000e-13</td>\n",
       "      <td>2.336490</td>\n",
       "      <td>50.275230</td>\n",
       "      <td>0.890</td>\n",
       "    </tr>\n",
       "    <tr>\n",
       "      <th>7477</th>\n",
       "      <td>0.124</td>\n",
       "      <td>8.320000e-28</td>\n",
       "      <td>23.832182</td>\n",
       "      <td>667.122131</td>\n",
       "      <td>559.467390</td>\n",
       "      <td>0.147609</td>\n",
       "      <td>0.470987</td>\n",
       "      <td>0.505791</td>\n",
       "      <td>0.999821</td>\n",
       "      <td>9.893371e-10</td>\n",
       "      <td>1.348000e-10</td>\n",
       "      <td>1.381000e-10</td>\n",
       "      <td>2.104952</td>\n",
       "      <td>35.559599</td>\n",
       "      <td>0.890</td>\n",
       "    </tr>\n",
       "    <tr>\n",
       "      <th>7556</th>\n",
       "      <td>0.123</td>\n",
       "      <td>1.070000e-27</td>\n",
       "      <td>22.167168</td>\n",
       "      <td>-700.111944</td>\n",
       "      <td>569.738500</td>\n",
       "      <td>0.114986</td>\n",
       "      <td>0.478654</td>\n",
       "      <td>0.426499</td>\n",
       "      <td>0.999817</td>\n",
       "      <td>1.075769e-09</td>\n",
       "      <td>9.791000e-11</td>\n",
       "      <td>1.003000e-10</td>\n",
       "      <td>2.351125</td>\n",
       "      <td>69.270309</td>\n",
       "      <td>0.890</td>\n",
       "    </tr>\n",
       "    <tr>\n",
       "      <th>7680</th>\n",
       "      <td>0.124</td>\n",
       "      <td>1.760000e-27</td>\n",
       "      <td>18.580725</td>\n",
       "      <td>781.375819</td>\n",
       "      <td>586.241836</td>\n",
       "      <td>0.137632</td>\n",
       "      <td>0.350361</td>\n",
       "      <td>0.374174</td>\n",
       "      <td>0.999810</td>\n",
       "      <td>1.288457e-09</td>\n",
       "      <td>1.133000e-10</td>\n",
       "      <td>1.161000e-10</td>\n",
       "      <td>2.983732</td>\n",
       "      <td>50.219428</td>\n",
       "      <td>0.889</td>\n",
       "    </tr>\n",
       "    <tr>\n",
       "      <th>8011</th>\n",
       "      <td>0.120</td>\n",
       "      <td>5.410000e-28</td>\n",
       "      <td>26.899388</td>\n",
       "      <td>726.154194</td>\n",
       "      <td>632.674190</td>\n",
       "      <td>0.005129</td>\n",
       "      <td>0.489101</td>\n",
       "      <td>0.534328</td>\n",
       "      <td>0.999794</td>\n",
       "      <td>8.478847e-10</td>\n",
       "      <td>4.294000e-12</td>\n",
       "      <td>4.401000e-12</td>\n",
       "      <td>2.050340</td>\n",
       "      <td>44.234073</td>\n",
       "      <td>0.890</td>\n",
       "    </tr>\n",
       "    <tr>\n",
       "      <th>8122</th>\n",
       "      <td>0.120</td>\n",
       "      <td>1.370000e-27</td>\n",
       "      <td>20.601447</td>\n",
       "      <td>-827.369225</td>\n",
       "      <td>649.054594</td>\n",
       "      <td>0.116523</td>\n",
       "      <td>0.419849</td>\n",
       "      <td>0.379287</td>\n",
       "      <td>0.999789</td>\n",
       "      <td>1.163923e-09</td>\n",
       "      <td>9.669000e-11</td>\n",
       "      <td>9.906000e-11</td>\n",
       "      <td>2.961295</td>\n",
       "      <td>83.199441</td>\n",
       "      <td>0.889</td>\n",
       "    </tr>\n",
       "    <tr>\n",
       "      <th>8185</th>\n",
       "      <td>0.122</td>\n",
       "      <td>4.780000e-28</td>\n",
       "      <td>27.558719</td>\n",
       "      <td>-747.318249</td>\n",
       "      <td>658.539543</td>\n",
       "      <td>0.178971</td>\n",
       "      <td>0.545237</td>\n",
       "      <td>0.484195</td>\n",
       "      <td>0.999786</td>\n",
       "      <td>8.202246e-10</td>\n",
       "      <td>1.845000e-10</td>\n",
       "      <td>1.891000e-10</td>\n",
       "      <td>2.049375</td>\n",
       "      <td>83.613419</td>\n",
       "      <td>0.890</td>\n",
       "    </tr>\n",
       "    <tr>\n",
       "      <th>8931</th>\n",
       "      <td>0.122</td>\n",
       "      <td>7.820000e-28</td>\n",
       "      <td>24.351983</td>\n",
       "      <td>-928.151226</td>\n",
       "      <td>781.968608</td>\n",
       "      <td>0.019529</td>\n",
       "      <td>0.476555</td>\n",
       "      <td>0.440045</td>\n",
       "      <td>0.999755</td>\n",
       "      <td>9.638034e-10</td>\n",
       "      <td>1.567000e-11</td>\n",
       "      <td>1.606000e-11</td>\n",
       "      <td>2.877495</td>\n",
       "      <td>72.151149</td>\n",
       "      <td>0.890</td>\n",
       "    </tr>\n",
       "    <tr>\n",
       "      <th>9091</th>\n",
       "      <td>0.117</td>\n",
       "      <td>4.340000e-28</td>\n",
       "      <td>28.401141</td>\n",
       "      <td>-914.813792</td>\n",
       "      <td>811.317641</td>\n",
       "      <td>0.170548</td>\n",
       "      <td>0.526414</td>\n",
       "      <td>0.475399</td>\n",
       "      <td>0.999749</td>\n",
       "      <td>7.861924e-10</td>\n",
       "      <td>1.778000e-10</td>\n",
       "      <td>1.823000e-10</td>\n",
       "      <td>2.447844</td>\n",
       "      <td>99.987668</td>\n",
       "      <td>0.890</td>\n",
       "    </tr>\n",
       "  </tbody>\n",
       "</table>\n",
       "<p>104 rows × 15 columns</p>\n",
       "</div>"
      ],
      "text/plain": [
       "      Omega_h2        sigmav      Chi_1       Chi_2         Fre  \\\n",
       "103      0.118  7.320000e-27   9.290680 -442.504616  102.400253   \n",
       "226      0.117  5.680000e-27  10.998815 -240.915531  105.342170   \n",
       "235      0.118  5.670000e-27  10.966001  245.829119  105.560722   \n",
       "299      0.124  7.310000e-27   8.999038 -471.681713  107.127998   \n",
       "485      0.123  7.190000e-27   9.130613 -446.362231  111.816231   \n",
       "556      0.116  6.600000e-27  10.088407 -333.191213  113.659453   \n",
       "566      0.119  6.020000e-27  10.492953 -287.180095  113.921491   \n",
       "689      0.124  6.800000e-27   9.442659 -385.809282  117.194408   \n",
       "819      0.123  6.450000e-27   9.849348 -344.335995  120.755853   \n",
       "972      0.121  5.990000e-27  10.432837 -310.302431  125.086293   \n",
       "991      0.119  7.130000e-27   9.447707 -471.636182  125.634788   \n",
       "1109     0.123  7.190000e-27   9.132469 -511.401437  129.095496   \n",
       "1212     0.120  6.410000e-27  10.038386 -371.692380  132.194115   \n",
       "1341     0.124  6.470000e-27   9.743785 -394.531658  136.180026   \n",
       "1350     0.117  6.770000e-27   9.868883 -425.714121  136.462556   \n",
       "1527     0.118  6.950000e-27   9.662032 -481.975715  142.139660   \n",
       "1589     0.119  7.050000e-27   9.510502 -517.368039  144.183609   \n",
       "1783     0.118  6.740000e-27   9.865411 -468.454377  150.771006   \n",
       "1854     0.117  6.880000e-27   9.794049 -502.363540  153.256373   \n",
       "1970     0.118  6.520000e-27  10.031401 -451.634568  157.405427   \n",
       "2033     0.121  5.770000e-27  10.666332 -377.812873  159.705669   \n",
       "2222     0.116  5.290000e-27  11.516397 -355.409386  166.810054   \n",
       "2313     0.119  2.190000e-27  17.357194 -237.698661  170.342545   \n",
       "2498     0.121  3.850000e-27  13.357430 -301.891259  177.756292   \n",
       "2776     0.121  3.250000e-27  14.474095 -300.749399  189.508094   \n",
       "2790     0.123  5.570000e-27  10.766070 -432.072064  190.120043   \n",
       "2941     0.122  6.350000e-27   9.971143 -540.262054  196.847278   \n",
       "3052     0.122  5.980000e-27  10.375199 -504.243119  201.943799   \n",
       "3089     0.122  1.640000e-27  19.238591 -266.337362  203.671796   \n",
       "3305     0.121  5.880000e-28  26.307010 -245.988014  214.058784   \n",
       "...        ...           ...        ...         ...         ...   \n",
       "3332     0.117  4.720000e-27  12.236860 -417.464192  215.393862   \n",
       "3358     0.118  5.780000e-27  10.815517 -510.303649  216.687362   \n",
       "3503     0.119  6.020000e-27  10.505636 -560.721080  224.044885   \n",
       "3895     0.122  5.320000e-27  11.141019 -527.923003  245.210438   \n",
       "4116     0.120  5.160000e-27  11.477038 -540.537729  258.012748   \n",
       "4622     0.120  4.320000e-27  12.599815 -530.801621  289.898671   \n",
       "4642     0.123  5.010000e-27  11.475386 -593.576021  291.236917   \n",
       "4857     0.119  2.490000e-27  16.484300 -442.182412  306.019129   \n",
       "5325     0.118  1.030000e-27  22.720514 -417.035662  340.842118   \n",
       "5476     0.116  8.420000e-28  24.228668  421.504281  352.902525   \n",
       "6001     0.117  1.440000e-27  20.524235  510.826932  398.253880   \n",
       "6147     0.120  1.720000e-27  19.016328 -545.608226  411.871248   \n",
       "6445     0.123  1.710000e-27  18.860616  583.778626  441.127829   \n",
       "6470     0.121  6.230000e-28  25.968981 -514.472985  443.674743   \n",
       "6538     0.118  8.610000e-28  24.005873 -539.774499  450.676992   \n",
       "6541     0.116  1.030000e-27  22.877344 -552.235228  450.988447   \n",
       "6580     0.117  8.300000e-28  24.277355 -543.627390  455.057008   \n",
       "6831     0.119  2.560000e-27  16.299700 -703.621786  482.134619   \n",
       "6910     0.121  2.060000e-27  17.672964 -676.766529  490.985998   \n",
       "7227     0.120  6.900000e-28  25.335925  618.563060  528.168234   \n",
       "7382     0.119  1.120000e-27  22.091360 -676.805103  547.360971   \n",
       "7400     0.117  1.150000e-27  22.058465 -683.743505  549.634528   \n",
       "7477     0.124  8.320000e-28  23.832182  667.122131  559.467390   \n",
       "7556     0.123  1.070000e-27  22.167168 -700.111944  569.738500   \n",
       "7680     0.124  1.760000e-27  18.580725  781.375819  586.241836   \n",
       "8011     0.120  5.410000e-28  26.899388  726.154194  632.674190   \n",
       "8122     0.120  1.370000e-27  20.601447 -827.369225  649.054594   \n",
       "8185     0.122  4.780000e-28  27.558719 -747.318249  658.539543   \n",
       "8931     0.122  7.820000e-28  24.351983 -928.151226  781.968608   \n",
       "9091     0.117  4.340000e-28  28.401141 -914.813792  811.317641   \n",
       "\n",
       "      h0 ->  Chi_1 Chi_1  Chi_2 ->  Chi_1 Z0  Chi_3 ->  Chi_1 Z0  \\\n",
       "103             0.003108            0.050054            0.010317   \n",
       "226             0.181832            0.188085            0.071620   \n",
       "235             0.000393            0.084611            0.173617   \n",
       "299             0.070210            0.046995            0.009026   \n",
       "485             0.118148            0.053979            0.012447   \n",
       "556             0.142106            0.095392            0.032050   \n",
       "566             0.019874            0.132635            0.059322   \n",
       "689             0.034643            0.073682            0.026040   \n",
       "819             0.092329            0.096904            0.038451   \n",
       "972             0.110250            0.130921            0.059270   \n",
       "991             0.065119            0.057201            0.017609   \n",
       "1109            0.182589            0.051289            0.014113   \n",
       "1212            0.031241            0.095842            0.043706   \n",
       "1341            0.016884            0.088416            0.041671   \n",
       "1350            0.184428            0.077681            0.029387   \n",
       "1527            0.118896            0.065287            0.024800   \n",
       "1589            0.048781            0.058439            0.022590   \n",
       "1783            0.083277            0.075065            0.033442   \n",
       "1854            0.072355            0.067577            0.029272   \n",
       "1970            0.119570            0.086334            0.041645   \n",
       "2033            0.047378            0.129703            0.074917   \n",
       "2222            0.058079            0.166192            0.101932   \n",
       "2313            0.055242            0.711147            0.577740   \n",
       "2498            0.179339            0.334107            0.221007   \n",
       "2776            0.002301            0.412836            0.318157   \n",
       "2790            0.038441            0.132772            0.086146   \n",
       "2941            0.186822            0.087714            0.049779   \n",
       "3052            0.021570            0.105494            0.068000   \n",
       "3089            0.156845            0.679002            0.555379   \n",
       "3305            0.130381            0.717836            0.564870   \n",
       "...                  ...                 ...                 ...   \n",
       "3332            0.029165            0.189569            0.136126   \n",
       "3358            0.105693            0.118099            0.077028   \n",
       "3503            0.072221            0.102493            0.067012   \n",
       "3895            0.087505            0.139314            0.099513   \n",
       "4116            0.002867            0.146028            0.110531   \n",
       "4622            0.002170            0.196676            0.158423   \n",
       "4642            0.051757            0.151187            0.116687   \n",
       "4857            0.120608            0.391413            0.318580   \n",
       "5325            0.035409            0.592726            0.509754   \n",
       "5476            0.041538            0.514300            0.587892   \n",
       "6001            0.096702            0.436421            0.481964   \n",
       "6147            0.126803            0.440938            0.378279   \n",
       "6445            0.121768            0.382590            0.416667   \n",
       "6470            0.072648            0.573892            0.499754   \n",
       "6538            0.055246            0.556448            0.486726   \n",
       "6541            0.038810            0.528612            0.463772   \n",
       "6580            0.000806            0.555027            0.492555   \n",
       "6831            0.063561            0.313979            0.276113   \n",
       "6910            0.091264            0.366237            0.322526   \n",
       "7227            0.051996            0.493241            0.540083   \n",
       "7382            0.150165            0.478101            0.422345   \n",
       "7400            0.000176            0.467259            0.423420   \n",
       "7477            0.147609            0.470987            0.505791   \n",
       "7556            0.114986            0.478654            0.426499   \n",
       "7680            0.137632            0.350361            0.374174   \n",
       "8011            0.005129            0.489101            0.534328   \n",
       "8122            0.116523            0.419849            0.379287   \n",
       "8185            0.178971            0.545237            0.484195   \n",
       "8931            0.019529            0.476555            0.440045   \n",
       "9091            0.170548            0.526414            0.475399   \n",
       "\n",
       "      Fre ->  Chi_1 W-        lux_SI     proton_SI    neutron_SI    lambda  \\\n",
       "103           1.000000  1.939738e-08  1.971000e-12  2.017000e-12  2.487868   \n",
       "226           1.000000  6.345360e-09  1.434000e-10  1.467000e-10  1.283975   \n",
       "235           1.000000  6.454726e-09  2.534000e-13  2.593000e-13  1.276968   \n",
       "299           1.000000  2.523718e-08  4.756000e-11  4.865000e-11  2.718981   \n",
       "485           1.000000  2.241171e-08  8.453000e-11  8.647000e-11  2.571289   \n",
       "556           1.000000  1.019441e-08  1.058000e-10  1.082000e-10  1.853207   \n",
       "566           1.000000  8.257839e-09  1.301000e-11  1.331000e-11  1.528036   \n",
       "689           1.000000  1.691145e-08  2.273000e-11  2.325000e-11  2.142112   \n",
       "819           1.000000  1.171643e-08  6.476000e-11  6.625000e-11  1.892032   \n",
       "972           1.000000  8.520455e-09  7.943000e-11  8.127000e-11  1.664969   \n",
       "991           1.000000  1.683459e-08  4.413000e-11  4.514000e-11  2.667079   \n",
       "1109          1.000000  2.237421e-08  1.409000e-10  1.442000e-10  2.956518   \n",
       "1212          1.000000  1.046346e-08  2.058000e-11  2.105000e-11  2.016896   \n",
       "1341          1.000000  1.288744e-08  1.092000e-11  1.117000e-11  2.143403   \n",
       "1350          1.000000  1.151170e-08  1.440000e-10  1.473000e-10  2.387750   \n",
       "1527          1.000000  1.387415e-08  8.571000e-11  8.768000e-11  2.709569   \n",
       "1589          1.000000  1.590716e-08  3.251000e-11  3.326000e-11  2.897590   \n",
       "1783          1.000000  1.154781e-08  5.784000e-11  5.918000e-11  2.591768   \n",
       "1854          1.000000  1.231593e-08  4.962000e-11  5.077000e-11  2.793284   \n",
       "1970          1.000000  1.050159e-08  8.665000e-11  8.865000e-11  2.478085   \n",
       "2033          1.000000  7.544902e-09  3.197000e-11  3.271000e-11  1.986163   \n",
       "2222          1.000000  4.846133e-09  4.002000e-11  4.096000e-11  1.820636   \n",
       "2313          1.000000  1.370249e-09  4.079000e-11  4.177000e-11  0.961648   \n",
       "2498          1.000000  2.926425e-09  1.449000e-10  1.483000e-10  1.425170   \n",
       "2776          1.000000  2.364415e-09  1.549000e-12  1.586000e-12  1.343512   \n",
       "2790          1.000000  7.163017e-09  2.573000e-11  2.633000e-11  2.244824   \n",
       "2941          1.000000  1.049693e-08  1.465000e-10  1.499000e-10  2.945807   \n",
       "3052          1.000000  8.780084e-09  1.412000e-11  1.445000e-11  2.668131   \n",
       "3089          1.000000  1.246516e-09  1.334000e-10  1.366000e-10  1.001985   \n",
       "3305          1.000000  8.735306e-10  1.231000e-10  1.262000e-10  0.711271   \n",
       "...                ...           ...           ...           ...       ...   \n",
       "3332          0.999999  3.624724e-09  1.966000e-11  2.012000e-11  2.064733   \n",
       "3358          0.999999  6.980918e-09  7.610000e-11  7.787000e-11  2.683759   \n",
       "3503          0.999998  8.203479e-09  4.994000e-11  5.110000e-11  2.979558   \n",
       "3895          0.999993  5.892426e-09  6.198000e-11  6.343000e-11  2.708385   \n",
       "4116          0.999989  4.946491e-09  1.865000e-12  1.909000e-12  2.731953   \n",
       "4622          0.999974  3.381990e-09  1.429000e-12  1.463000e-12  2.556547   \n",
       "4642          0.999973  4.950748e-09  3.541000e-11  3.624000e-11  2.986588   \n",
       "4857          0.999966  1.610653e-09  9.453000e-11  9.680000e-11  1.848679   \n",
       "5325          0.999945  1.046237e-09  2.795000e-11  2.864000e-11  1.387593   \n",
       "5476          0.999937  9.698006e-10  3.400000e-11  3.484000e-11  1.332987   \n",
       "6001          0.999906  1.168453e-09  7.838000e-11  8.030000e-11  1.851137   \n",
       "6147          0.999897  1.260531e-09  1.038000e-10  1.063000e-10  2.070253   \n",
       "6445          0.999880  1.270443e-09  9.886000e-11  1.013000e-10  2.211742   \n",
       "6470          0.999879  8.885111e-10  6.384000e-11  6.542000e-11  1.507389   \n",
       "6538          0.999875  9.807307e-10  4.567000e-11  4.680000e-11  1.715786   \n",
       "6541          0.999874  1.038016e-09  3.084000e-11  3.160000e-11  1.838384   \n",
       "6580          0.999872  9.674284e-10  6.332000e-13  6.489000e-13  1.709365   \n",
       "6831          0.999857  1.668446e-09  4.667000e-11  4.779000e-11  2.954543   \n",
       "6910          0.999852  1.348656e-09  7.036000e-11  7.206000e-11  2.688038   \n",
       "7227          0.999835  9.172609e-10  4.406000e-11  4.516000e-11  1.859562   \n",
       "7382          0.999826  1.079879e-09  1.330000e-10  1.362000e-10  2.302840   \n",
       "7400          0.999825  1.081667e-09  1.321000e-13  1.354000e-13  2.336490   \n",
       "7477          0.999821  9.893371e-10  1.348000e-10  1.381000e-10  2.104952   \n",
       "7556          0.999817  1.075769e-09  9.791000e-11  1.003000e-10  2.351125   \n",
       "7680          0.999810  1.288457e-09  1.133000e-10  1.161000e-10  2.983732   \n",
       "8011          0.999794  8.478847e-10  4.294000e-12  4.401000e-12  2.050340   \n",
       "8122          0.999789  1.163923e-09  9.669000e-11  9.906000e-11  2.961295   \n",
       "8185          0.999786  8.202246e-10  1.845000e-10  1.891000e-10  2.049375   \n",
       "8931          0.999755  9.638034e-10  1.567000e-11  1.606000e-11  2.877495   \n",
       "9091          0.999749  7.861924e-10  1.778000e-10  1.823000e-10  2.447844   \n",
       "\n",
       "           tanb  ID_br:~chi,~chi > b b~  \n",
       "103   22.718408                   0.878  \n",
       "226   25.955958                   0.883  \n",
       "235   18.988941                   0.883  \n",
       "299   28.302810                   0.877  \n",
       "485   31.060117                   0.877  \n",
       "556   29.109257                   0.881  \n",
       "566   23.566320                   0.882  \n",
       "689   27.848437                   0.879  \n",
       "819   29.994150                   0.880  \n",
       "972   29.950673                   0.881  \n",
       "991   31.236123                   0.879  \n",
       "1109  38.924593                   0.878  \n",
       "1212  29.293184                   0.880  \n",
       "1341  30.216955                   0.880  \n",
       "1350  37.686003                   0.880  \n",
       "1527  37.070926                   0.879  \n",
       "1589  34.756583                   0.879  \n",
       "1783  36.776068                   0.880  \n",
       "1854  37.070201                   0.880  \n",
       "1970  39.594175                   0.880  \n",
       "2033  34.269501                   0.882  \n",
       "2222  33.586320                   0.884  \n",
       "2313  22.959132                   0.888  \n",
       "2498  36.349042                   0.886  \n",
       "2776  26.901777                   0.887  \n",
       "2790  39.879400                   0.882  \n",
       "2941  54.467909                   0.880  \n",
       "3052  42.521336                   0.881  \n",
       "3089  29.303884                   0.889  \n",
       "3305  24.215051                   0.890  \n",
       "...         ...                     ...  \n",
       "3332  38.957234                   0.885  \n",
       "3358  49.655990                   0.882  \n",
       "3503  50.609526                   0.882  \n",
       "3895  53.469102                   0.883  \n",
       "4116  46.346818                   0.884  \n",
       "4622  47.251977                   0.885  \n",
       "4642  58.612604                   0.883  \n",
       "4857  47.621433                   0.888  \n",
       "5325  34.727468                   0.890  \n",
       "5476  25.147235                   0.890  \n",
       "6001  31.932467                   0.889  \n",
       "6147  57.193692                   0.889  \n",
       "6445  37.713221                   0.889  \n",
       "6470  44.569992                   0.890  \n",
       "6538  45.852469                   0.890  \n",
       "6541  45.961054                   0.890  \n",
       "6580  38.286979                   0.890  \n",
       "6831  69.976869                   0.888  \n",
       "6910  69.095964                   0.889  \n",
       "7227  35.040823                   0.890  \n",
       "7382  70.200000                   0.890  \n",
       "7400  50.275230                   0.890  \n",
       "7477  35.559599                   0.890  \n",
       "7556  69.270309                   0.890  \n",
       "7680  50.219428                   0.889  \n",
       "8011  44.234073                   0.890  \n",
       "8122  83.199441                   0.889  \n",
       "8185  83.613419                   0.890  \n",
       "8931  72.151149                   0.890  \n",
       "9091  99.987668                   0.890  \n",
       "\n",
       "[104 rows x 15 columns]"
      ]
     },
     "execution_count": 29,
     "metadata": {},
     "output_type": "execute_result"
    }
   ],
   "source": [
    "opf[['Omega_h2','sigmav','Chi_1','Chi_2','Fre','h0 ->  Chi_1 Chi_1','Chi_2 ->  Chi_1 Z0',\\\n",
    "     'Chi_3 ->  Chi_1 Z0','Fre ->  Chi_1 W-','lux_SI','proton_SI','neutron_SI','lambda','tanb',\\\n",
    "    'ID_br:~chi,~chi > b b~']]"
   ]
  },
  {
   "cell_type": "code",
   "execution_count": 171,
   "metadata": {
    "collapsed": false
   },
   "outputs": [
    {
     "name": "stderr",
     "output_type": "stream",
     "text": [
      "/usr/local/lib/python2.7/dist-packages/IPython/kernel/__main__.py:1: SettingWithCopyWarning: \n",
      "A value is trying to be set on a copy of a slice from a DataFrame.\n",
      "Try using .loc[row_indexer,col_indexer] = value instead\n",
      "\n",
      "See the caveats in the documentation: http://pandas.pydata.org/pandas-docs/stable/indexing.html#indexing-view-versus-copy\n",
      "  if __name__ == '__main__':\n"
     ]
    },
    {
     "data": {
      "text/html": [
       "<div>\n",
       "<table border=\"1\" class=\"dataframe\">\n",
       "  <thead>\n",
       "    <tr style=\"text-align: right;\">\n",
       "      <th></th>\n",
       "      <th>Chi_1</th>\n",
       "      <th>Chi_2</th>\n",
       "      <th>tanb</th>\n",
       "      <th>Omega_h2</th>\n",
       "    </tr>\n",
       "  </thead>\n",
       "  <tbody>\n",
       "    <tr>\n",
       "      <th>605</th>\n",
       "      <td>37.384525</td>\n",
       "      <td>-569.264016</td>\n",
       "      <td>25.976318</td>\n",
       "      <td>0.003740</td>\n",
       "    </tr>\n",
       "    <tr>\n",
       "      <th>608</th>\n",
       "      <td>107.860519</td>\n",
       "      <td>520.671280</td>\n",
       "      <td>4.028808</td>\n",
       "      <td>0.038100</td>\n",
       "    </tr>\n",
       "    <tr>\n",
       "      <th>612</th>\n",
       "      <td>40.698616</td>\n",
       "      <td>621.749055</td>\n",
       "      <td>19.427396</td>\n",
       "      <td>0.000620</td>\n",
       "    </tr>\n",
       "    <tr>\n",
       "      <th>615</th>\n",
       "      <td>24.768280</td>\n",
       "      <td>623.956635</td>\n",
       "      <td>31.557791</td>\n",
       "      <td>0.034700</td>\n",
       "    </tr>\n",
       "    <tr>\n",
       "      <th>619</th>\n",
       "      <td>28.239962</td>\n",
       "      <td>-628.046158</td>\n",
       "      <td>30.466414</td>\n",
       "      <td>0.021200</td>\n",
       "    </tr>\n",
       "    <tr>\n",
       "      <th>632</th>\n",
       "      <td>70.106061</td>\n",
       "      <td>578.876152</td>\n",
       "      <td>8.633591</td>\n",
       "      <td>0.032500</td>\n",
       "    </tr>\n",
       "    <tr>\n",
       "      <th>639</th>\n",
       "      <td>121.795815</td>\n",
       "      <td>486.255817</td>\n",
       "      <td>2.809403</td>\n",
       "      <td>0.043400</td>\n",
       "    </tr>\n",
       "    <tr>\n",
       "      <th>651</th>\n",
       "      <td>26.368979</td>\n",
       "      <td>-580.335355</td>\n",
       "      <td>34.176419</td>\n",
       "      <td>0.051100</td>\n",
       "    </tr>\n",
       "    <tr>\n",
       "      <th>665</th>\n",
       "      <td>32.524200</td>\n",
       "      <td>-565.152296</td>\n",
       "      <td>33.211961</td>\n",
       "      <td>0.026700</td>\n",
       "    </tr>\n",
       "    <tr>\n",
       "      <th>682</th>\n",
       "      <td>49.057502</td>\n",
       "      <td>686.689471</td>\n",
       "      <td>16.579969</td>\n",
       "      <td>0.001490</td>\n",
       "    </tr>\n",
       "    <tr>\n",
       "      <th>697</th>\n",
       "      <td>82.484912</td>\n",
       "      <td>630.544123</td>\n",
       "      <td>6.577358</td>\n",
       "      <td>0.060500</td>\n",
       "    </tr>\n",
       "    <tr>\n",
       "      <th>702</th>\n",
       "      <td>24.275205</td>\n",
       "      <td>-632.276214</td>\n",
       "      <td>43.755032</td>\n",
       "      <td>0.082200</td>\n",
       "    </tr>\n",
       "    <tr>\n",
       "      <th>707</th>\n",
       "      <td>19.679402</td>\n",
       "      <td>-682.420586</td>\n",
       "      <td>68.079079</td>\n",
       "      <td>0.106000</td>\n",
       "    </tr>\n",
       "    <tr>\n",
       "      <th>709</th>\n",
       "      <td>26.367206</td>\n",
       "      <td>-660.231950</td>\n",
       "      <td>41.631405</td>\n",
       "      <td>0.052200</td>\n",
       "    </tr>\n",
       "    <tr>\n",
       "      <th>730</th>\n",
       "      <td>27.636686</td>\n",
       "      <td>741.394197</td>\n",
       "      <td>32.562655</td>\n",
       "      <td>0.031200</td>\n",
       "    </tr>\n",
       "    <tr>\n",
       "      <th>744</th>\n",
       "      <td>69.730775</td>\n",
       "      <td>674.446703</td>\n",
       "      <td>6.762108</td>\n",
       "      <td>0.048700</td>\n",
       "    </tr>\n",
       "    <tr>\n",
       "      <th>753</th>\n",
       "      <td>31.298972</td>\n",
       "      <td>-696.696740</td>\n",
       "      <td>47.665077</td>\n",
       "      <td>0.031800</td>\n",
       "    </tr>\n",
       "    <tr>\n",
       "      <th>758</th>\n",
       "      <td>47.503652</td>\n",
       "      <td>754.507271</td>\n",
       "      <td>22.379977</td>\n",
       "      <td>0.000953</td>\n",
       "    </tr>\n",
       "    <tr>\n",
       "      <th>759</th>\n",
       "      <td>114.523865</td>\n",
       "      <td>734.678590</td>\n",
       "      <td>5.717768</td>\n",
       "      <td>0.042500</td>\n",
       "    </tr>\n",
       "    <tr>\n",
       "      <th>766</th>\n",
       "      <td>29.335227</td>\n",
       "      <td>-730.759602</td>\n",
       "      <td>52.095544</td>\n",
       "      <td>0.039400</td>\n",
       "    </tr>\n",
       "    <tr>\n",
       "      <th>779</th>\n",
       "      <td>32.372865</td>\n",
       "      <td>752.392392</td>\n",
       "      <td>31.347881</td>\n",
       "      <td>0.023400</td>\n",
       "    </tr>\n",
       "    <tr>\n",
       "      <th>780</th>\n",
       "      <td>66.617074</td>\n",
       "      <td>728.319992</td>\n",
       "      <td>9.387423</td>\n",
       "      <td>0.046800</td>\n",
       "    </tr>\n",
       "    <tr>\n",
       "      <th>806</th>\n",
       "      <td>60.340564</td>\n",
       "      <td>820.344177</td>\n",
       "      <td>16.497758</td>\n",
       "      <td>0.002230</td>\n",
       "    </tr>\n",
       "    <tr>\n",
       "      <th>815</th>\n",
       "      <td>106.363321</td>\n",
       "      <td>749.068659</td>\n",
       "      <td>5.233133</td>\n",
       "      <td>0.075800</td>\n",
       "    </tr>\n",
       "    <tr>\n",
       "      <th>830</th>\n",
       "      <td>33.237451</td>\n",
       "      <td>-831.687601</td>\n",
       "      <td>51.363108</td>\n",
       "      <td>0.022200</td>\n",
       "    </tr>\n",
       "    <tr>\n",
       "      <th>831</th>\n",
       "      <td>95.617748</td>\n",
       "      <td>792.729446</td>\n",
       "      <td>6.182038</td>\n",
       "      <td>0.076000</td>\n",
       "    </tr>\n",
       "    <tr>\n",
       "      <th>838</th>\n",
       "      <td>66.601383</td>\n",
       "      <td>825.456719</td>\n",
       "      <td>10.186087</td>\n",
       "      <td>0.050100</td>\n",
       "    </tr>\n",
       "    <tr>\n",
       "      <th>840</th>\n",
       "      <td>255.549064</td>\n",
       "      <td>701.501719</td>\n",
       "      <td>1.326970</td>\n",
       "      <td>0.003880</td>\n",
       "    </tr>\n",
       "    <tr>\n",
       "      <th>855</th>\n",
       "      <td>191.589644</td>\n",
       "      <td>743.521853</td>\n",
       "      <td>1.866391</td>\n",
       "      <td>0.005870</td>\n",
       "    </tr>\n",
       "    <tr>\n",
       "      <th>865</th>\n",
       "      <td>104.363989</td>\n",
       "      <td>827.402702</td>\n",
       "      <td>5.676646</td>\n",
       "      <td>0.087700</td>\n",
       "    </tr>\n",
       "  </tbody>\n",
       "</table>\n",
       "</div>"
      ],
      "text/plain": [
       "          Chi_1       Chi_2       tanb  Omega_h2\n",
       "605   37.384525 -569.264016  25.976318  0.003740\n",
       "608  107.860519  520.671280   4.028808  0.038100\n",
       "612   40.698616  621.749055  19.427396  0.000620\n",
       "615   24.768280  623.956635  31.557791  0.034700\n",
       "619   28.239962 -628.046158  30.466414  0.021200\n",
       "632   70.106061  578.876152   8.633591  0.032500\n",
       "639  121.795815  486.255817   2.809403  0.043400\n",
       "651   26.368979 -580.335355  34.176419  0.051100\n",
       "665   32.524200 -565.152296  33.211961  0.026700\n",
       "682   49.057502  686.689471  16.579969  0.001490\n",
       "697   82.484912  630.544123   6.577358  0.060500\n",
       "702   24.275205 -632.276214  43.755032  0.082200\n",
       "707   19.679402 -682.420586  68.079079  0.106000\n",
       "709   26.367206 -660.231950  41.631405  0.052200\n",
       "730   27.636686  741.394197  32.562655  0.031200\n",
       "744   69.730775  674.446703   6.762108  0.048700\n",
       "753   31.298972 -696.696740  47.665077  0.031800\n",
       "758   47.503652  754.507271  22.379977  0.000953\n",
       "759  114.523865  734.678590   5.717768  0.042500\n",
       "766   29.335227 -730.759602  52.095544  0.039400\n",
       "779   32.372865  752.392392  31.347881  0.023400\n",
       "780   66.617074  728.319992   9.387423  0.046800\n",
       "806   60.340564  820.344177  16.497758  0.002230\n",
       "815  106.363321  749.068659   5.233133  0.075800\n",
       "830   33.237451 -831.687601  51.363108  0.022200\n",
       "831   95.617748  792.729446   6.182038  0.076000\n",
       "838   66.601383  825.456719  10.186087  0.050100\n",
       "840  255.549064  701.501719   1.326970  0.003880\n",
       "855  191.589644  743.521853   1.866391  0.005870\n",
       "865  104.363989  827.402702   5.676646  0.087700"
      ]
     },
     "execution_count": 171,
     "metadata": {},
     "output_type": "execute_result"
    }
   ],
   "source": [
    "hpf['tanb']=hpf.lamuINPUT/hpf.lamdINPUT\n",
    "hpf[np.logical_and(hpf.Fre>400,hpf.sigmav>1E-27)][['Chi_1','Chi_2','tanb','Omega_h2']]"
   ]
  },
  {
   "cell_type": "code",
   "execution_count": 53,
   "metadata": {
    "collapsed": false
   },
   "outputs": [
    {
     "name": "stdout",
     "output_type": "stream",
     "text": [
      "0.334 2.027e-10 8.08e-29\n"
     ]
    }
   ],
   "source": [
    "\n",
    "#mo=run_feynrules_SDFDM(MDF = eval(a.LHA.blocks['MINPAR'][2]),MN = eval(a.LHA.blocks['MINPAR'][3]),\\\n",
    "#                        lu = eval(a.LHA.blocks['MINPAR'][4]),ld = eval(a.LHA.blocks['MINPAR'][5]),v=a.vev)\n",
    "\n"
   ]
  },
  {
   "cell_type": "code",
   "execution_count": 51,
   "metadata": {
    "collapsed": false
   },
   "outputs": [
    {
     "data": {
      "text/plain": [
       "[4, 6, 13, 15, 1, 3, 5, 23, 24, 25, 1014, 1016, 210000601, 2, 11, 1012]"
      ]
     },
     "execution_count": 51,
     "metadata": {},
     "output_type": "execute_result"
    }
   ],
   "source": []
  },
  {
   "cell_type": "code",
   "execution_count": 73,
   "metadata": {
    "collapsed": false
   },
   "outputs": [
    {
     "data": {
      "text/plain": [
       "Fre ->  Chi_1 W-             1.000000e+00\n",
       "Chi_3 ->  Frep D UBAR        1.414900e-06\n",
       "Chi_3 ->  Fre TAU+ NUT       4.404919e-07\n",
       "Chi_3 ->  Fre SBAR C         1.365783e-06\n",
       "Chi_3 ->  Frep S CBAR        1.365783e-06\n",
       "Chi_3 ->  Frep MU- ANUM      4.715199e-07\n",
       "Chi_3 ->  Fre E+ NUE         4.716334e-07\n",
       "Chi_3 ->  Fre DBAR U         1.414900e-06\n",
       "Chi_3 ->  Chi_2 TAU+ TAU-    2.306475e-11\n",
       "Chi_3 ->  Chi_2 UBAR U       7.506597e-10\n",
       "Chi_3 ->  Chi_2 SBAR S       9.593106e-10\n",
       "Chi_3 ->  Chi_2 DBAR D       9.634054e-10\n",
       "Chi_3 ->  Chi_2 ANUT NUT     4.302990e-10\n",
       "Chi_3 ->  Chi_1 Z0           5.539797e-01\n",
       "Chi_3 ->  Fre MU+ NUM        4.715199e-07\n",
       "Chi_3 ->  Frep TAU- ANUT     4.404919e-07\n",
       "Chi_3 ->  Chi_2 CBAR C       3.349277e-10\n",
       "Chi_3 ->  Chi_1 h0           4.460119e-01\n",
       "Chi_3 ->  Chi_2 ANUM NUM     4.302990e-10\n",
       "Chi_3 ->  Chi_2 MU+ MU-      2.168401e-10\n",
       "Chi_3 ->  Frep E- ANUE       4.716334e-07\n",
       "Chi_3 ->  Chi_2 ANUE NUE     4.302990e-10\n",
       "Chi_3 ->  Chi_2 E+ E-        2.175491e-10\n",
       "Chi_2 ->  Chi_1 Z0           8.340722e-01\n",
       "Chi_2 ->  Chi_1 h0           1.659261e-01\n",
       "Chi_2 ->  Frep D UBAR        2.965126e-07\n",
       "Chi_2 ->  Fre E+ NUE         9.883759e-08\n",
       "Chi_2 ->  Fre TAU+ NUT       8.648280e-08\n",
       "Chi_2 ->  Frep S CBAR        2.766778e-07\n",
       "Chi_2 ->  Frep MU- ANUM      9.878957e-08\n",
       "Chi_2 ->  Fre MU+ NUM        9.878957e-08\n",
       "Chi_2 ->  Fre SBAR C         2.766778e-07\n",
       "Chi_2 ->  Fre DBAR U         2.965126e-07\n",
       "Chi_2 ->  Frep E- ANUE       9.883759e-08\n",
       "Chi_2 ->  Frep TAU- ANUT     8.648280e-08\n",
       "h0 ->  SBAR S                1.609090e-04\n",
       "h0 ->  DBAR D                4.473534e-07\n",
       "h0 ->  W- W+                 1.726064e-01\n",
       "h0 ->  GLUE GLUE             6.689525e-02\n",
       "h0 ->  PHOT PHOT             1.820262e-03\n",
       "h0 ->  Chi_1 Chi_1           2.380456e-01\n",
       "h0 ->  Z0 Z0                 1.892190e-02\n",
       "h0 ->  E+ E-                 3.880973e-09\n",
       "h0 ->  CBAR C                2.033045e-02\n",
       "h0 ->  UBAR U                8.558956e-08\n",
       "h0 ->  BBAR B                4.310010e-01\n",
       "h0 ->  MU+ MU-               1.733709e-04\n",
       "h0 ->  TAU+ TAU-             5.004422e-02\n",
       "dtype: float64"
      ]
     },
     "execution_count": 73,
     "metadata": {},
     "output_type": "execute_result"
    }
   ],
   "source": [
    "a.Br_names"
   ]
  },
  {
   "cell_type": "code",
   "execution_count": 12,
   "metadata": {
    "collapsed": false
   },
   "outputs": [
    {
     "data": {
      "text/plain": [
       "0.99984755599999997"
      ]
     },
     "execution_count": 12,
     "metadata": {},
     "output_type": "execute_result"
    }
   ],
   "source": [
    "a.Br_names['Fre ->  Chi_1 W-']"
   ]
  },
  {
   "cell_type": "markdown",
   "metadata": {},
   "source": [
    "## Scan"
   ]
  },
  {
   "cell_type": "code",
   "execution_count": 14,
   "metadata": {
    "collapsed": false
   },
   "outputs": [
    {
     "name": "stdout",
     "output_type": "stream",
     "text": [
      "\n",
      "Dark matter candidate is '~chi2' with spin=1/2 mass=1.62E+01\n",
      "\n",
      "=== MASSES OF HIGGS AND ODD PARTICLES: ===\n",
      "Higgs masses and widths\n",
      "      H   125.00 8.79E-03\n",
      "\n",
      "Masses of odd sector Particles:\n",
      "~chi : Mchi2 =    16.2 || ~X1n : MDF   =   500.0 || ~chi : Mchi1 =   744.8 \n",
      "~chi : Mchi3 =   752.6 || ~sk  : Msk   =  3000.0 || \n",
      "\n",
      "==== Calculation of relic density =====\n",
      "Xf=2.24e+01 Omega=1.12e-01\n",
      "# Channels which contribute to 1/(omega) more than 1%.\n",
      "# Relative contributions in % are displayed\n",
      "   23% ~chi2 ~chi2 ->b b~ \n",
      "   14% ~chi2 ~chi2 ->s s~ \n",
      "   14% ~chi2 ~chi2 ->d d~ \n",
      "   11% ~chi2 ~chi2 ->c c~ \n",
      "   11% ~chi2 ~chi2 ->u u~ \n",
      "    6% ~chi2 ~chi2 ->ve ve~ \n",
      "    6% ~chi2 ~chi2 ->vm vm~ \n",
      "    6% ~chi2 ~chi2 ->vt vt~ \n",
      "    4% ~chi2 ~chi2 ->ta- ta+ \n",
      "    3% ~chi2 ~chi2 ->mu- mu+ \n",
      "    3% ~chi2 ~chi2 ->e- e+ \n",
      "omega_h^2 = 1.12E-01\n",
      "\n",
      "==== Indirect detection =======\n",
      "    Channel          vcs[cm^3/s]\n",
      "==================================\n",
      " annihilation cross section 2.77E-27 cm^3/s\n",
      " contribution of processes\n",
      "  ~chi2,~chi2 -> b b~   8.88E-01\n",
      "  ~chi2,~chi2 -> c c~   6.75E-02\n",
      "  ~chi2,~chi2 -> ta- t  4.39E-02\n",
      "  ~chi2,~chi2 -> s s~   4.38E-04\n",
      "  ~chi2,~chi2 -> mu- m  1.58E-04\n",
      "Photon flux  for angle of sight f=0.10[rad]\n",
      "and spherical region described by cone with angle 0.10[rad]\n",
      "Photon flux = 1.89E-12[cm^2 s GeV]^{-1} for E=8.1[GeV]\n",
      "Positron flux  =  9.78E-10[cm^2 sr s GeV]^{-1} for E=8.1[GeV] \n",
      "Antiproton flux  =  2.25E-09[cm^2 sr s GeV]^{-1} for E=8.1[GeV] \n",
      "\n",
      "==== Calculation of CDM-nucleons amplitudes  =====\n",
      "CDM[antiCDM]-nucleon micrOMEGAs amplitudes for ~chi2 \n",
      "proton:  SI  -1.024E-09 [-1.024E-09]  SD  -3.092E-06 [-3.092E-06]\n",
      "neutron: SI  -1.035E-09 [-1.035E-09]  SD  2.704E-06 [2.704E-06]\n",
      "CDM[antiCDM]-nucleon cross sections[pb]:\n",
      " proton  SI 4.100E-10 [4.100E-10] SD 1.121E-02 [1.121E-02]\n",
      " neutron SI 4.182E-10 [4.182E-10] SD 8.568E-03 [8.568E-03]\n",
      "\n",
      "===============Neutrino Telescope=======  for  Sun\n",
      " E>1.0E+00 GeV neutrino flux       3.78E+14 [1/Year/km^2] \n",
      " E>1.0E+00 GeV anti-neutrino flux  3.50E+14 [1/Year/km^2]\n",
      " E>1.0E+00 GeV Upward muon flux    5.29E+03 [1/Year/km^2]\n",
      " E>1.0E+00 GeV Contained muon flux 8.40E+05 [1/Year/km^3]\n",
      "\n",
      "H :   total width=8.794238E-03 \n",
      " and Branchings:\n",
      "1.170929E-02 H -> Z,Z\n",
      "9.954016E-02 H -> W+,W-\n",
      "2.435931E-09 H -> e-,e+\n",
      "1.041460E-04 H -> mu-,mu+\n",
      "2.942193E-02 H -> ta-,ta+\n",
      "1.819805E-07 H -> u,u~\n",
      "4.511105E-02 H -> c,c~\n",
      "7.108952E-07 H -> d,d~\n",
      "2.854865E-04 H -> s,s~\n",
      "6.129794E-01 H -> b,b~\n",
      "2.008476E-01 H -> ~chi2,~chi2\n",
      "\n",
      "W+ :   total width=2.002524E+00 \n",
      " and Branchings:\n",
      "1.111345E-01 W+ -> ve,e+\n",
      "1.111342E-01 W+ -> vm,mu+\n",
      "1.110519E-01 W+ -> vt,ta+\n",
      "3.164088E-01 W+ -> u,d~\n",
      "1.698820E-02 W+ -> c,d~\n",
      "1.699461E-02 W+ -> u,s~\n",
      "3.162879E-01 W+ -> c,s~\n"
     ]
    }
   ],
   "source": [
    "print mof['Full']"
   ]
  },
  {
   "cell_type": "code",
   "execution_count": 11,
   "metadata": {
    "collapsed": false
   },
   "outputs": [],
   "source": [
    "if 1==1:\n",
    "#def pdgf():\n",
    "    import pandas as pd\n",
    "    import pdg as pdgtmp\n",
    "    #pdg=pd.Series()\n",
    "    pdg_id=pdgtmp.pdgid_names\n",
    "    pdg_name=pd.Series( dict((v,k) for k,v in pdgtmp.pdgid_names.iteritems()) )\n",
    "    def pdg_add(id)"
   ]
  },
  {
   "cell_type": "code",
   "execution_count": 15,
   "metadata": {
    "collapsed": false
   },
   "outputs": [
    {
     "data": {
      "text/plain": [
       "36"
      ]
     },
     "execution_count": 15,
     "metadata": {},
     "output_type": "execute_result"
    }
   ],
   "source": [
    "#Design:\n",
    "pdg_name.A0 -> 34\n",
    "pdg_id[36] -> 'A0'\n",
    "pdg_add(8)='T' -> update:  pdg.name.T ; pdg.id[36]"
   ]
  },
  {
   "cell_type": "code",
   "execution_count": 2,
   "metadata": {
    "collapsed": false
   },
   "outputs": [
    {
     "ename": "NameError",
     "evalue": "name 'pdg' is not defined",
     "output_type": "error",
     "traceback": [
      "\u001b[1;31m---------------------------------------------------------------------------\u001b[0m",
      "\u001b[1;31mNameError\u001b[0m                                 Traceback (most recent call last)",
      "\u001b[1;32m<ipython-input-2-520f256a94ab>\u001b[0m in \u001b[0;36m<module>\u001b[1;34m()\u001b[0m\n\u001b[0;32m    140\u001b[0m \u001b[1;33m\u001b[0m\u001b[0m\n\u001b[0;32m    141\u001b[0m \u001b[1;33m\u001b[0m\u001b[0m\n\u001b[1;32m--> 142\u001b[1;33m \u001b[0mpdg\u001b[0m\u001b[1;33m.\u001b[0m\u001b[0mpdgid_names\u001b[0m\u001b[1;33m[\u001b[0m\u001b[1;36m210000601\u001b[0m\u001b[1;33m]\u001b[0m\u001b[1;33m=\u001b[0m\u001b[1;34m'Fre'\u001b[0m\u001b[1;33m\u001b[0m\u001b[0m\n\u001b[0m",
      "\u001b[1;31mNameError\u001b[0m: name 'pdg' is not defined"
     ]
    }
   ],
   "source": [
    "self.pdg\n",
    "\n",
    "\n",
    "\n",
    "\n",
    "\n",
    "\n",
    "\n",
    "\n",
    "\n",
    "\n",
    "\n",
    "\n",
    "\n",
    "\n",
    "\n",
    "\n",
    "\n",
    "\n",
    "\n",
    "\n",
    "\n",
    "\n",
    "\n",
    "\n",
    "\n",
    "\n",
    "\n",
    "\n",
    "\n",
    "\n",
    "\n",
    "\n",
    "\n",
    "\n",
    "\n",
    "\n",
    "\n",
    "\n",
    "\n",
    "\n",
    "\n",
    "\n",
    "\n",
    "\n",
    "\n",
    "\n",
    "\n",
    "\n",
    "\n",
    "\n",
    "\n",
    "\n",
    "\n",
    "\n",
    "\n",
    "\n",
    "class hep(model):\n",
    "class hep(model):\n",
    "\n",
    "\n",
    "\n",
    "\n",
    "\n",
    "\n",
    "\n",
    "\n",
    "\n",
    "\n",
    "\n",
    "\n",
    "\n",
    "\n",
    "\n",
    "\n",
    "\n",
    "\n",
    "\n",
    "\n",
    "\n",
    "\n",
    "\n",
    "\n",
    "\n",
    "\n",
    "\n",
    "\n",
    "\n",
    "\n",
    "\n",
    "\n",
    "\n",
    "\n",
    "\n",
    "\n",
    "\n",
    "\n",
    "\n",
    "\n",
    "\n",
    "\n",
    "\n",
    "\n",
    "\n",
    "\n",
    "\n",
    "\n",
    "\n",
    "\n",
    "\n",
    "\n",
    "\n",
    "\n",
    "\n",
    "\n",
    "\n",
    "\n",
    "\n",
    "\n",
    "\n",
    "\n",
    "\n",
    "\n",
    "\n",
    "\n",
    "\n",
    "\n",
    "\n",
    "\n",
    "\n",
    "\n",
    "\n",
    "\n",
    "\n",
    "\n",
    "\n",
    "\n",
    "\n",
    "\n",
    "\n",
    "\n",
    "pdg.pdgid_names[210000601]='Fre'"
   ]
  },
  {
   "cell_type": "code",
   "execution_count": 31,
   "metadata": {
    "collapsed": false
   },
   "outputs": [
    {
     "data": {
      "text/plain": [
       "{-9900042: 'Higgs_minus_minus_R',\n",
       " -9900041: 'Higgs_minus_minus_L',\n",
       " -2000015: 's_tau_plus_2',\n",
       " -2000013: 's_mu_plus_R',\n",
       " -2000011: 's_e_plus_R',\n",
       " -2000006: 's_tbar_2',\n",
       " -2000005: 's_bbar_2',\n",
       " -2000004: 's_cbar_R',\n",
       " -2000003: 's_sbar_R',\n",
       " -2000002: 's_ubar_R',\n",
       " -2000001: 's_dbar_R',\n",
       " -1000037: 's_chi_minus_2',\n",
       " -1000024: 's_chi_minus_1',\n",
       " -1000016: 's_anti_nu_tau_L',\n",
       " -1000015: 's_tau_plus_1',\n",
       " -1000014: 's_anti_nu_mu_L',\n",
       " -1000013: 's_mu_plus_L',\n",
       " -1000012: 's_anti_nu_e_L',\n",
       " -1000011: 's_e_plus_L',\n",
       " -1000006: 's_tbar_1',\n",
       " -1000005: 's_bbar_1',\n",
       " -1000004: 's_cbar_L',\n",
       " -1000003: 's_sbar_L',\n",
       " -1000002: 's_ubar_L',\n",
       " -1000001: 's_dbar_L',\n",
       " -40213: 'rho_3S_minus',\n",
       " -30213: 'rho_2S_minus',\n",
       " -20543: 'B_prime_c1_minus',\n",
       " -20533: 'anti_B_prime_s10',\n",
       " -20523: 'B_prime_1_minus',\n",
       " -20513: 'anti_B_prime_10',\n",
       " -20433: 'D_prime_s1_minus',\n",
       " -20423: 'anti_D_prime_10',\n",
       " -20413: 'D_prime_1_minus',\n",
       " -20323: 'K_prime_1_minus',\n",
       " -20313: 'anti_K_prime_10',\n",
       " -20213: 'a_1_minus',\n",
       " -20211: 'pi_2S_minus',\n",
       " -10543: 'B_c1_minus',\n",
       " -10541: 'B_c0_star_minus',\n",
       " -10533: 'anti_B_s10',\n",
       " -10531: 'anti_B_s0_star0',\n",
       " -10523: 'B_1_minus',\n",
       " -10521: 'B_0_star_minus',\n",
       " -10513: 'anti_B_10',\n",
       " -10511: 'anti_B_0_star0',\n",
       " -10433: 'D_s1_minus',\n",
       " -10431: 'D_s0_star_minus',\n",
       " -10423: 'anti_D_10',\n",
       " -10421: 'anti_D_0_star0',\n",
       " -10413: 'D_1_minus',\n",
       " -10411: 'D_0_star_minus',\n",
       " -10323: 'K_1_minus',\n",
       " -10321: 'K_0_star_minus',\n",
       " -10313: 'anti_K_10',\n",
       " -10311: 'anti_K_0_star0',\n",
       " -10213: 'b_1_minus',\n",
       " -10211: 'a_0_minus',\n",
       " -5503: 'anti_bb_1',\n",
       " -5501: 'anti_bb_0',\n",
       " -5403: 'anti_bc_1',\n",
       " -5401: 'anti_bc_0',\n",
       " -5334: 'anti_Omega_b_star_plus',\n",
       " -5332: 'anti_Omega_b_plus',\n",
       " -5324: 'anti_Xi_b_star0',\n",
       " -5322: 'anti_Xi_prime_b0',\n",
       " -5314: 'anti_Xi_b_star_plus',\n",
       " -5312: 'anti_Xi_prime_b_plus',\n",
       " -5303: 'anti_bs_1',\n",
       " -5301: 'anti_bs_0',\n",
       " -5232: '#bar{#Xi}_b^{0}',\n",
       " -5224: 'anti_Sigma_b_star_minus',\n",
       " -5222: 'anti_Sigma_b_minus',\n",
       " -5214: 'anti_Sigma_b_star0',\n",
       " -5212: '#bar{#Sigma}_{b}^{0}',\n",
       " -5203: 'anti_bu_1',\n",
       " -5201: 'anti_bu_0',\n",
       " -5132: 'anti_Xi_b_plus',\n",
       " -5122: '#bar{#Lambda}_{b}^0',\n",
       " -5114: 'anti_Sigma_b_star_plus',\n",
       " -5112: \"#Sigma_{b}^{+}'\",\n",
       " -5103: 'anti_bd_1',\n",
       " -5101: 'anti_bd_0',\n",
       " -4444: '#Omega_{ccc}^{--}',\n",
       " -4434: '#Omega_{cc}^{*-}',\n",
       " -4432: '#Omega_{cc}^{-}',\n",
       " -4424: '#Xi_{cc}^{*--}',\n",
       " -4422: '#Xi_{cc}^{--}',\n",
       " -4414: '#Xi_{cc}^{*-}',\n",
       " -4412: '#Xi_{cc}^{-}',\n",
       " -4403: 'anti_cc_1',\n",
       " -4401: 'anti_cc_0',\n",
       " -4334: '#bar{#Omega}_{c}^{*0}',\n",
       " -4332: '#bar{#Omega}_{c}^{0}',\n",
       " -4324: '#Xi_{c}^{*-}',\n",
       " -4322: '#Xi_{c}^{-}',\n",
       " -4314: '#bar{#Xi}_{c}^{*0}',\n",
       " -4312: \"#bar{#Xi}'_{c}^{0}\",\n",
       " -4303: 'anti_cs_1',\n",
       " -4301: 'anti_cs_0',\n",
       " -4232: \"#Xi'_{c}^{-}\",\n",
       " -4224: '#Sigma_{c}^{*--}',\n",
       " -4222: '#Sigma_{c}^{--}',\n",
       " -4214: '#Sigma_{c}^{*-}',\n",
       " -4212: '#Sigma_{c}^{-}',\n",
       " -4203: 'anti_cu_1',\n",
       " -4201: 'anti_cu_0',\n",
       " -4132: '#bar{#Xi}_{c}^{0}',\n",
       " -4122: '#Lambda_{c}^{-}',\n",
       " -4114: '#bar{#Sigma}_{c}^{*0}',\n",
       " -4112: 'anti_Sigma_c0',\n",
       " -4103: 'anti_cd_1',\n",
       " -4101: 'anti_cd_0',\n",
       " -3334: 'anti_Omega_plus',\n",
       " -3324: 'anti_Xi_star0',\n",
       " -3322: '#bar{Xi}^{0}',\n",
       " -3314: 'anti_Xi_star_plus',\n",
       " -3312: '#Xi^{+}',\n",
       " -3303: 'anti_ss_1',\n",
       " -3301: 'anti_ss_0',\n",
       " -3224: 'anti_Sigma_star_minus',\n",
       " -3222: '#bar{#Sigma}^{-}',\n",
       " -3214: 'anti_Sigma_star0',\n",
       " -3212: 'anti_Sigma0',\n",
       " -3203: 'anti_su_1',\n",
       " -3201: 'anti_su_0',\n",
       " -3122: '#bar{#Lambda}^{0}',\n",
       " -3114: 'anti_Sigma_star_plus',\n",
       " -3112: '#bar{#Sigma}^{+}',\n",
       " -3103: 'anti_sd_1',\n",
       " -3101: 'anti_sd_0',\n",
       " -2224: 'anti_Delta_minus_minus',\n",
       " -2214: 'anti_Delta_minus',\n",
       " -2212: 'p^{-}',\n",
       " -2210: 'anti_p_diffr_minus',\n",
       " -2203: 'anti_uu_1',\n",
       " -2201: 'anti_uu_0',\n",
       " -2114: 'anti_Delta0',\n",
       " -2112: '#bar{n}',\n",
       " -2110: 'anti_n_diffr',\n",
       " -2103: 'anti_ud_1',\n",
       " -2101: 'UD0BAR',\n",
       " -1114: '#Delta^{+}',\n",
       " -1103: 'anti_dd_1',\n",
       " -1101: 'anti_dd_0',\n",
       " -545: 'B_c2_star_minus',\n",
       " -543: 'B_{c}^{*-}',\n",
       " -541: 'B_{c}^{-}',\n",
       " -535: 'anti_B_s2_star0',\n",
       " -533: 'anti_B_s_star0',\n",
       " -531: '#bar{B}_{s}^{0}',\n",
       " -525: 'B_2_star_minus',\n",
       " -523: 'B_star_minus',\n",
       " -521: 'B^{-}',\n",
       " -515: 'anti_B_2_star0',\n",
       " -513: 'anti_B_star0',\n",
       " -511: '#bar{B}^{0}',\n",
       " -435: 'D_s2_star_minus',\n",
       " -433: 'D_s_star_minus',\n",
       " -431: 'D_{s}^{-}',\n",
       " -425: 'anti_D_2_star0',\n",
       " -423: 'anti_D_star0',\n",
       " -421: '#bar{D}^{0}',\n",
       " -415: 'D_2_star_minus',\n",
       " -413: 'D_star_minus',\n",
       " -411: 'D^{-}',\n",
       " -325: 'K_{2}^{*-}',\n",
       " -323: 'K_star_minus',\n",
       " -321: 'K^{-}',\n",
       " -315: 'anti_K_2_star0',\n",
       " -313: '#bar{K}^{*}',\n",
       " -311: '#bar{K}^0',\n",
       " -215: 'a_{2}^{-}',\n",
       " -213: '#rho^{-}',\n",
       " -211: '#pi^{-}',\n",
       " -210: 'pi_diffr_minus',\n",
       " -90: 'anti_diquark',\n",
       " -89: 'Wvirt_minus',\n",
       " -86: 'anti_t_minushadron',\n",
       " -85: 'anti_b_minushadron',\n",
       " -84: 'anti_c_minushadron',\n",
       " -82: 'anti_rndmflav',\n",
       " -40: 'anti_R0',\n",
       " -37: 'Higgs_minus',\n",
       " -34: 'W_prime_minus',\n",
       " -24: 'W^{-}',\n",
       " -18: 'anti_nu_L',\n",
       " -17: 'L_plus',\n",
       " -16: '#bar{nu}_{#tau}',\n",
       " -15: '#tau^{+}',\n",
       " -14: '#bar{#nu}_{#mu}',\n",
       " -13: '#mu^{+}',\n",
       " -12: '#bar{#nu}_{e}',\n",
       " -11: 'e^{+}',\n",
       " -8: 'anti_h',\n",
       " -7: 'LPRIMEBAR',\n",
       " -6: '#bar{t}',\n",
       " -5: '#bar{b}',\n",
       " -4: '#bar{c}',\n",
       " -3: '#bar{s}',\n",
       " -2: '#bar{u}',\n",
       " -1: '#bar{d}',\n",
       " 0: 'deuteron',\n",
       " 1: 'd',\n",
       " 2: 'u',\n",
       " 3: 's',\n",
       " 4: 'c',\n",
       " 5: 'b',\n",
       " 6: 't',\n",
       " 7: 'LPRIME',\n",
       " 8: 'h',\n",
       " 11: 'e^{-}',\n",
       " 12: '#nu_{e}',\n",
       " 13: '#mu^{-}',\n",
       " 14: '#nu_{#mu}',\n",
       " 15: '#tau^{-}',\n",
       " 16: '#nu_{#tau}',\n",
       " 17: 'L_minus',\n",
       " 18: 'nu_L',\n",
       " 21: 'g',\n",
       " 22: '#gamma',\n",
       " 23: 'Z',\n",
       " 24: 'W^{+}',\n",
       " 25: 'h^{0}',\n",
       " 28: 'reggeon',\n",
       " 29: 'pomeron',\n",
       " 32: 'Z_prime0',\n",
       " 33: 'Z_prime_prime0',\n",
       " 34: 'W_prime_plus',\n",
       " 35: 'Higgs_prime0',\n",
       " 36: 'A0',\n",
       " 37: 'Higgs_plus',\n",
       " 40: 'R0',\n",
       " 81: 'specflav',\n",
       " 82: 'rndmflav',\n",
       " 83: 'phasespa',\n",
       " 84: 'c_minushadron',\n",
       " 85: 'b_minushadron',\n",
       " 86: 't_minushadron',\n",
       " 89: 'Wvirt_plus',\n",
       " 90: 'diquark',\n",
       " 91: 'cluster',\n",
       " 92: 'string',\n",
       " 93: 'indep',\n",
       " 94: 'CMshower',\n",
       " 95: 'SPHEaxis',\n",
       " 96: 'THRUaxis',\n",
       " 97: 'CLUSjet',\n",
       " 98: 'CELLjet',\n",
       " 99: 'table',\n",
       " 111: '#pi^{0}',\n",
       " 113: '#rho^{0}',\n",
       " 115: 'a_20',\n",
       " 130: 'K_{L}^{0}',\n",
       " 210: 'pi_diffr_plus',\n",
       " 211: '#pi^{+}',\n",
       " 213: '#rho^{+}',\n",
       " 215: 'a_{2}^{+}',\n",
       " 221: '#eta',\n",
       " 223: 'omega',\n",
       " 225: 'f_2',\n",
       " 310: 'K_{S}^{0}',\n",
       " 311: 'K^{0}',\n",
       " 313: 'K^{*}',\n",
       " 315: 'K_2_star0',\n",
       " 321: 'K^{+}',\n",
       " 323: 'K_star_plus',\n",
       " 325: 'K_{2}^{*+}',\n",
       " 331: 'eta_prime',\n",
       " 333: '#phi',\n",
       " 335: 'f_prime_2',\n",
       " 411: 'D^{+}',\n",
       " 413: 'D_star_plus',\n",
       " 415: 'D_2_star_plus',\n",
       " 421: 'D^{0}',\n",
       " 423: 'D_star0',\n",
       " 425: 'D_2_star0',\n",
       " 431: 'D_{s}^{+}',\n",
       " 433: 'D_s_star_plus',\n",
       " 435: 'D_s2_star_plus',\n",
       " 441: 'eta_c',\n",
       " 443: 'J/#psi',\n",
       " 445: 'chi_c2',\n",
       " 511: 'B^{0}',\n",
       " 513: 'B_star0',\n",
       " 515: 'B_2_star0',\n",
       " 521: 'B^{+}',\n",
       " 523: 'B_star_plus',\n",
       " 525: 'B_2_star_plus',\n",
       " 531: 'B_{s}^{0}',\n",
       " 533: 'B_s_star0',\n",
       " 535: 'B_s2_star0',\n",
       " 541: 'B_{c}^{+}',\n",
       " 543: 'B_{c}^{*+}',\n",
       " 545: 'B_c2_star_plus',\n",
       " 551: 'chi_b0',\n",
       " 553: 'Upsilon',\n",
       " 555: 'chi_b2',\n",
       " 557: 'Upsilon_3_1D',\n",
       " 1101: 'dd_0',\n",
       " 1103: 'dd_1',\n",
       " 1114: '#Delta^{-}',\n",
       " 2101: 'UD0',\n",
       " 2103: 'ud_1',\n",
       " 2110: 'n_diffr',\n",
       " 2112: 'n',\n",
       " 2114: 'Delta0',\n",
       " 2201: 'uu_0',\n",
       " 2203: 'uu_1',\n",
       " 2210: 'p_diffr_plus',\n",
       " 2212: 'p^{+}',\n",
       " 2214: 'Delta_plus',\n",
       " 2224: 'Delta_plus_plus',\n",
       " 3101: 'sd_0',\n",
       " 3103: 'sd_1',\n",
       " 3112: '#Sigma^{-}',\n",
       " 3114: 'Sigma_star_minus',\n",
       " 3122: '#Lambda^{0}',\n",
       " 3201: 'su_0',\n",
       " 3203: 'su_1',\n",
       " 3212: 'Sigma0',\n",
       " 3214: 'Sigma_star0',\n",
       " 3222: '#Sigma^{+}',\n",
       " 3224: 'Sigma_star_plus',\n",
       " 3301: 'ss_0',\n",
       " 3303: 'ss_1',\n",
       " 3312: '#Xi^{-}',\n",
       " 3314: 'Xi_star_minus',\n",
       " 3322: '#Xi^{0}',\n",
       " 3324: 'Xi_star0',\n",
       " 3334: 'Omega_minus',\n",
       " 4101: 'cd_0',\n",
       " 4103: 'cd_1',\n",
       " 4112: 'Sigma_c0',\n",
       " 4114: '#Sigma_{c}^{*0}',\n",
       " 4122: '#Lambda_{c}^{+}',\n",
       " 4132: '#Xi_{c}^{0}',\n",
       " 4201: 'cu_0',\n",
       " 4203: 'cu_1',\n",
       " 4212: '#Sigma_{c}^{+}',\n",
       " 4214: '#Sigma_{c}^{*+}',\n",
       " 4222: '#Sigma_{c}^{++}',\n",
       " 4224: '#Sigma_{c}^{*++}',\n",
       " 4232: \"#Xi'_{c}^{+}\",\n",
       " 4301: 'cs_0',\n",
       " 4303: 'cs_1',\n",
       " 4312: \"#Xi'_{c}^{0}\",\n",
       " 4314: '#Xi_{c}^{*0}',\n",
       " 4322: '#Xi_{c}^{+}',\n",
       " 4324: '#Xi_{c}^{*+}',\n",
       " 4332: '#Omega_{c}^{0}',\n",
       " 4334: '#Omega_{c}^{*0}',\n",
       " 4401: 'cc_0',\n",
       " 4403: 'cc_1',\n",
       " 4412: '#Xi_{cc}^{+}',\n",
       " 4414: '#Xi_{cc}^{*+}',\n",
       " 4422: '#Xi_{cc}^{++}',\n",
       " 4424: '#Xi_{cc}^{*++}',\n",
       " 4432: '#Omega_{cc}^{+}',\n",
       " 4434: '#Omega_{cc}^{*+}',\n",
       " 4444: '#Omega_{ccc}^{++}',\n",
       " 5101: 'bd_0',\n",
       " 5103: 'bd_1',\n",
       " 5112: \"#Sigma_{b}^{-}'\",\n",
       " 5114: 'Sigma_b_star_minus',\n",
       " 5122: '#Lambda_{b}^{0}',\n",
       " 5132: 'Xi_b_minus',\n",
       " 5201: 'bu_0',\n",
       " 5203: 'bu_1',\n",
       " 5212: '#Sigma_{b}^{0}',\n",
       " 5214: 'Sigma_b_star0',\n",
       " 5222: 'Sigma_b_plus',\n",
       " 5224: 'Sigma_star_',\n",
       " 5232: '#Xi_b^{0}',\n",
       " 5301: 'bs_0',\n",
       " 5303: 'bs_1',\n",
       " 5312: 'Xi_prime_b_minus',\n",
       " 5314: 'Xi_b_star_minus',\n",
       " 5322: 'Xi_prime_b0',\n",
       " 5324: 'Xi_b_star0',\n",
       " 5332: 'Omega_b_minus',\n",
       " 5334: 'Omega_b_star_minus',\n",
       " 5401: 'bc_0',\n",
       " 5403: 'bc_1',\n",
       " 5501: 'bb_0',\n",
       " 5503: 'bb_1',\n",
       " 10111: 'a_00',\n",
       " 10113: 'b_10',\n",
       " 10211: 'a_0_plus',\n",
       " 10213: 'b_1_plus',\n",
       " 10221: 'f_0',\n",
       " 10223: 'h_{1}',\n",
       " 10311: 'K_0_star0',\n",
       " 10313: 'K_10',\n",
       " 10321: 'K_0_star_plus',\n",
       " 10323: 'K_1_plus',\n",
       " 10331: 'f_prime_0',\n",
       " 10333: 'h_prime_1',\n",
       " 10411: 'D_0_star_plus',\n",
       " 10413: 'D_1_plus',\n",
       " 10421: 'D_0_star0',\n",
       " 10423: 'D_10',\n",
       " 10431: 'D_s0_star_plus',\n",
       " 10433: 'D_s1_plus',\n",
       " 10441: 'chi_c0',\n",
       " 10443: 'chi_c1',\n",
       " 10511: 'B_0_star0',\n",
       " 10513: 'B_10',\n",
       " 10521: 'B_0_star_plus',\n",
       " 10523: 'B_1_plus',\n",
       " 10531: 'B_s0_star0',\n",
       " 10533: 'B_s10',\n",
       " 10541: 'B_c0_star_plus',\n",
       " 10543: 'B_c1_plus',\n",
       " 10553: 'h_b',\n",
       " 10555: 'chi_b2_2P',\n",
       " 10557: 'Upsilon_3_2D',\n",
       " 20111: 'pi_2S0',\n",
       " 20113: 'a_10',\n",
       " 20211: 'pi_2S_plus',\n",
       " 20213: 'a_1_plus',\n",
       " 20221: 'eta_2S',\n",
       " 20223: 'f_1',\n",
       " 20313: 'K_prime_10',\n",
       " 20323: 'K_prime_1_plus',\n",
       " 20333: 'f_prime_1',\n",
       " 20413: 'D_prime_1_plus',\n",
       " 20423: 'D_prime_10',\n",
       " 20433: 'D_prime_s1_plus',\n",
       " 20441: 'eta_c_2S',\n",
       " 20443: 'psi_2S',\n",
       " 20513: 'B_prime_10',\n",
       " 20523: 'B_prime_1_plus',\n",
       " 20533: 'B_prime_s10',\n",
       " 20543: 'B_prime_c1_plus',\n",
       " 20551: 'eta_b_2S',\n",
       " 20553: 'Upsilon_2S',\n",
       " 20555: 'chi_b2_3P',\n",
       " 30113: 'rho_2S0',\n",
       " 30213: 'rho_2S_plus',\n",
       " 30223: 'omega_2S',\n",
       " 30551: 'chi_b0_2P',\n",
       " 30555: 'Upsilon_2_1D',\n",
       " 40113: 'rho_3S0',\n",
       " 40213: 'rho_3S_plus',\n",
       " 40551: 'eta_b_3S',\n",
       " 40553: 'h_b_2P',\n",
       " 40555: 'eta_b2_1D',\n",
       " 50551: 'chi_b0_3P',\n",
       " 50553: 'chi_b1_2P',\n",
       " 50555: 'Upsilon_2_2D',\n",
       " 60553: 'Upsilon_3S',\n",
       " 60555: 'eta_b2_2D',\n",
       " 70553: 'Upsilon_4S',\n",
       " 80553: 'Upsilon_5S',\n",
       " 100553: 'h_b_3P',\n",
       " 110553: 'chi_b1_3P',\n",
       " 120553: 'Upsilon_1_1D',\n",
       " 130553: 'Upsilon_1_2D',\n",
       " 1000001: 's_d_L',\n",
       " 1000002: 's_u_L',\n",
       " 1000003: 's_s_L',\n",
       " 1000004: 's_c_L',\n",
       " 1000005: 's_b_1',\n",
       " 1000006: 's_t_1',\n",
       " 1000011: 's_e_minus_L',\n",
       " 1000012: 's_nu_e_L',\n",
       " 1000013: 's_mu_minus_L',\n",
       " 1000014: 's_nu_mu_L',\n",
       " 1000015: 's_tau_minus_1',\n",
       " 1000016: 's_nu_tau_L',\n",
       " 1000021: 's_g',\n",
       " 1000022: 's_chi_0_1',\n",
       " 1000023: 's_chi_0_2',\n",
       " 1000024: 's_chi_plus_1',\n",
       " 1000025: 's_chi_0_3',\n",
       " 1000035: 's_chi_0_4',\n",
       " 1000037: 's_chi_plus_2',\n",
       " 1000039: 's_G',\n",
       " 2000001: 's_d_R',\n",
       " 2000002: 's_u_R',\n",
       " 2000003: 's_s_R',\n",
       " 2000004: 's_c_R',\n",
       " 2000005: 's_b_2',\n",
       " 2000006: 's_t_2',\n",
       " 2000011: 's_e_minus_R',\n",
       " 2000013: 's_mu_minus_R',\n",
       " 2000015: 's_tau_minus_2',\n",
       " 9900041: 'Higgs_plus_plus_L',\n",
       " 9900042: 'Higgs_plus_plus_R'}"
      ]
     },
     "execution_count": 31,
     "metadata": {},
     "output_type": "execute_result"
    }
   ],
   "source": [
    "pdg."
   ]
  },
  {
   "cell_type": "code",
   "execution_count": 15,
   "metadata": {
    "collapsed": false
   },
   "outputs": [
    {
     "data": {
      "text/plain": [
       "MASS { 25 :  126; 23 :  91.2; 24 :  80.3; 1 :  0.005; 3 :  0.095; 5 :  4.18; 2 :  0.0025; 4 :  1.27; 6 :  174; 11 :  0.000511; 13 :  0.106; 15 :  1.78; 210000601 :  500; 1012 :  16.2; 1014 : -745; 1016 :  753 }"
      ]
     },
     "execution_count": 15,
     "metadata": {},
     "output_type": "execute_result"
    }
   ],
   "source": [
    "a.LHA_out.blocks['MASS']"
   ]
  },
  {
   "cell_type": "code",
   "execution_count": 16,
   "metadata": {
    "collapsed": false
   },
   "outputs": [
    {
     "name": "stdout",
     "output_type": "stream",
     "text": [
      "# SUSY Les Houches Accord 2 - SimplifiedDM/SDFDM Spectrum + Decays + Flavor Observables\r\n",
      "# SPheno module generated by SARAH\r\n",
      "# ----------------------------------------------------------------------\r\n",
      "# SPheno v3.3.8  \r\n",
      "#   W. Porod, Comput. Phys. Commun. 153 (2003) 275-315, hep-ph/0301101\r\n",
      "#   W. Porod, F.Staub, Comput.Phys.Commun.183 (2012) 2458-2469, arXiv:1104.1573\r\n",
      "# SARAH: 4.8.5   \r\n",
      "#   F. Staub; arXiv:0806.0538 (online manual)\r\n",
      "#   F. Staub; Comput. Phys. Commun. 181 (2010) 1077-1086; arXiv:0909.2863\r\n",
      "#   F. Staub; Comput. Phys. Commun. 182 (2011)  808-833; arXiv:1002.0840\r\n",
      "#   F. Staub; Comput. Phys. Commun. 184 (2013)  1792-1809; arXiv:1207.0906\r\n",
      "#   F. Staub; Comput. Phys. Commun. 185 (2014)  1773-1790; arXiv:1309.7223 \r\n",
      "# Including the calculation of flavor observables based on the FlavorKit \r\n",
      "#   W. Porod, F. Staub, A. Vicente; Eur.Phys.J. C74 (2014) 8, 2992; arXiv:1405.1434 \r\n",
      "# Two-loop masss corrections to Higgs fields based on \r\n",
      "#   M. D. Goodsell, K. Nickel, F. Staub; arXiv:1411.0675 \r\n",
      "#   M. D. Goodsell, K. Nickel, F. Staub; arXiv:1503.03098\r\n",
      "#  \r\n",
      "# in case of problems send email to florian.staub@cern.ch and goodsell@lpthe.jussieu.fr \r\n",
      "# ----------------------------------------------------------------------\r\n",
      "# Created: 12.07.2016,  19:19\r\n",
      "Block SPINFO         # Program information\r\n",
      "     1   SPhenoSARAH      # spectrum calculator\r\n",
      "     2   v3.3.8      # version number of SPheno\r\n",
      "     9   4.8.5       # version number of SARAH\r\n",
      "Block MODSEL  # Input parameters\r\n",
      "     1  1   #  GUT scale input\r\n",
      "     2  1   #  Boundary conditions \r\n",
      "     6  1   #  switching on flavour violation\r\n",
      "Block MINPAR  # Input parameters\r\n",
      "    1    1.30000000E-01  # lambda1INPUT\r\n",
      "    2   -5.00000000E+02  # MDFINPUT\r\n",
      "    3    2.40000000E+01  # MnINPUT\r\n",
      "    4    3.19984001E+00  # lamuINPUT\r\n",
      "    5    3.19984001E-02  # lamdINPUT\r\n",
      "Block gaugeGUT Q= -1.00000000E+00  # (GUT scale)\r\n",
      "   1    0.00000000E+00  # g1(Q)^DRbar\r\n",
      "   2    0.00000000E+00  # g2(Q)^DRbar\r\n",
      "   3    0.00000000E+00  # g3(Q)^DRbar\r\n",
      "Block SMINPUTS  # SM parameters\r\n",
      "         2     1.16637000E-05  # G_mu [GeV^-2]\r\n",
      "         3     1.18700000E-01  # alpha_s(MZ)^MSbar\r\n",
      "         4     9.11887000E+01  # m_Z(pole)\r\n",
      "         5     4.18000000E+00  # m_b(m_b), MSbar\r\n",
      "         6     1.73500000E+02  # m_t(pole)\r\n",
      "         7     1.77669000E+00  # m_tau(pole)\r\n",
      "Block GAUGE Q=  1.60000000E+02  # (Renormalization Scale)\r\n",
      "   1    3.55734740E-01  # g1\r\n",
      "   2    6.62881508E-01  # g2\r\n",
      "   3    1.22132231E+00  # g3\r\n",
      "Block HDM Q=  1.60000000E+02  # (Renormalization Scale)\r\n",
      "   2    1.30000000E-01  # lam1\r\n",
      "Block FDMMIX Q=  1.60000000E+02  # (Renormalization Scale)\r\n",
      "   1    3.19984001E-02  # lamd\r\n",
      "   2    3.19984001E+00  # lamu\r\n",
      "Block MN Q=  1.60000000E+02  # (Renormalization Scale)\r\n",
      "   1    2.40000000E+01  # Mn\r\n",
      "Block FDM Q=  1.60000000E+02  # (Renormalization Scale)\r\n",
      "   1   -5.00000000E+02  # MDF\r\n",
      "Block SM Q=  1.60000000E+02  # (Renormalization Scale)\r\n",
      "   3   -7.88119392E+03  # mH2\r\n",
      "Block HMIX Q=  1.60000000E+02  # (Renormalization Scale)\r\n",
      "   3    2.46220569E+02  # v\r\n",
      "Block TREESM Q=  1.60000000E+02  # (Renormalization Scale)\r\n",
      "   3   -7.88119392E+03  # mH2\r\n",
      "Block LOOPSM Q=  1.60000000E+02  # (Renormalization Scale)\r\n",
      "   3    0.00000000E+00  # mH2\r\n",
      "Block Yu Q=  1.60000000E+02  # (Renormalization Scale)\r\n",
      "  1  1     1.43592143E-05   # Real(Yu(1,1),dp)\r\n",
      "  1  2     0.00000000E+00   # Real(Yu(1,2),dp)\r\n",
      "  1  3     0.00000000E+00   # Real(Yu(1,3),dp)\r\n",
      "  2  1     0.00000000E+00   # Real(Yu(2,1),dp)\r\n",
      "  2  2     7.29448084E-03   # Real(Yu(2,2),dp)\r\n",
      "  2  3     0.00000000E+00   # Real(Yu(2,3),dp)\r\n",
      "  3  1     0.00000000E+00   # Real(Yu(3,1),dp)\r\n",
      "  3  2     0.00000000E+00   # Real(Yu(3,2),dp)\r\n",
      "  3  3     9.96529469E-01   # Real(Yu(3,3),dp)\r\n",
      "Block Yd Q=  1.60000000E+02  # (Renormalization Scale)\r\n",
      "  1  1     2.87184285E-05   # Real(Yd(1,1),dp)\r\n",
      "  1  2     0.00000000E+00   # Real(Yd(1,2),dp)\r\n",
      "  1  3     0.00000000E+00   # Real(Yd(1,3),dp)\r\n",
      "  2  1     0.00000000E+00   # Real(Yd(2,1),dp)\r\n",
      "  2  2     5.45650142E-04   # Real(Yd(2,2),dp)\r\n",
      "  2  3     0.00000000E+00   # Real(Yd(2,3),dp)\r\n",
      "  3  1     0.00000000E+00   # Real(Yd(3,1),dp)\r\n",
      "  3  2     0.00000000E+00   # Real(Yd(3,2),dp)\r\n",
      "  3  3     2.40086062E-02   # Real(Yd(3,3),dp)\r\n",
      "Block Ye Q=  1.60000000E+02  # (Renormalization Scale)\r\n",
      "  1  1     2.93501725E-06   # Real(Ye(1,1),dp)\r\n",
      "  1  2     0.00000000E+00   # Real(Ye(1,2),dp)\r\n",
      "  1  3     0.00000000E+00   # Real(Ye(1,3),dp)\r\n",
      "  2  1     0.00000000E+00   # Real(Ye(2,1),dp)\r\n",
      "  2  2     6.06868478E-04   # Real(Ye(2,2),dp)\r\n",
      "  2  3     0.00000000E+00   # Real(Ye(2,3),dp)\r\n",
      "  3  1     0.00000000E+00   # Real(Ye(3,1),dp)\r\n",
      "  3  2     0.00000000E+00   # Real(Ye(3,2),dp)\r\n",
      "  3  3     1.02047490E-02   # Real(Ye(3,3),dp)\r\n",
      "Block MASS  # Mass spectrum\r\n",
      "#   PDG code      mass          particle\r\n",
      "        25     1.25548349E+02  # hh\r\n",
      "        23     9.11887000E+01  # VZ\r\n",
      "        24     8.03497269E+01  # VWp\r\n",
      "         1     5.00000000E-03  # Fd_1\r\n",
      "         3     9.50000000E-02  # Fd_2\r\n",
      "         5     4.18000000E+00  # Fd_3\r\n",
      "         2     2.50000000E-03  # Fu_1\r\n",
      "         4     1.27000000E+00  # Fu_2\r\n",
      "         6     1.73500000E+02  # Fu_3\r\n",
      "        11     5.10998930E-04  # Fe_1\r\n",
      "        13     1.05658372E-01  # Fe_2\r\n",
      "        15     1.77669000E+00  # Fe_3\r\n",
      " 210000601     5.00000000E+02  # Fre\r\n",
      "      1012     1.62413577E+01  # Chi_1\r\n",
      "      1014    -7.44812105E+02  # Chi_2\r\n",
      "      1016     7.52570747E+02  # Chi_3\r\n",
      "Block UDLMIX Q=  1.60000000E+02  # ()\r\n",
      "  1  1    -1.00000000E+00   # Real(ZDL(1,1),dp)\r\n",
      "  1  2     0.00000000E+00   # Real(ZDL(1,2),dp)\r\n",
      "  1  3     0.00000000E+00   # Real(ZDL(1,3),dp)\r\n",
      "  2  1     0.00000000E+00   # Real(ZDL(2,1),dp)\r\n",
      "  2  2    -1.00000000E+00   # Real(ZDL(2,2),dp)\r\n",
      "  2  3     0.00000000E+00   # Real(ZDL(2,3),dp)\r\n",
      "  3  1     0.00000000E+00   # Real(ZDL(3,1),dp)\r\n",
      "  3  2     0.00000000E+00   # Real(ZDL(3,2),dp)\r\n",
      "  3  3    -1.00000000E+00   # Real(ZDL(3,3),dp)\r\n",
      "Block UDRMIX Q=  1.60000000E+02  # ()\r\n",
      "  1  1     1.00000000E+00   # Real(ZDR(1,1),dp)\r\n",
      "  1  2     0.00000000E+00   # Real(ZDR(1,2),dp)\r\n",
      "  1  3     0.00000000E+00   # Real(ZDR(1,3),dp)\r\n",
      "  2  1     0.00000000E+00   # Real(ZDR(2,1),dp)\r\n",
      "  2  2     1.00000000E+00   # Real(ZDR(2,2),dp)\r\n",
      "  2  3     0.00000000E+00   # Real(ZDR(2,3),dp)\r\n",
      "  3  1     0.00000000E+00   # Real(ZDR(3,1),dp)\r\n",
      "  3  2     0.00000000E+00   # Real(ZDR(3,2),dp)\r\n",
      "  3  3     1.00000000E+00   # Real(ZDR(3,3),dp)\r\n",
      "Block UULMIX Q=  1.60000000E+02  # ()\r\n",
      "  1  1     1.00000000E+00   # Real(ZUL(1,1),dp)\r\n",
      "  1  2     0.00000000E+00   # Real(ZUL(1,2),dp)\r\n",
      "  1  3     0.00000000E+00   # Real(ZUL(1,3),dp)\r\n",
      "  2  1     0.00000000E+00   # Real(ZUL(2,1),dp)\r\n",
      "  2  2     1.00000000E+00   # Real(ZUL(2,2),dp)\r\n",
      "  2  3     0.00000000E+00   # Real(ZUL(2,3),dp)\r\n",
      "  3  1     0.00000000E+00   # Real(ZUL(3,1),dp)\r\n",
      "  3  2     0.00000000E+00   # Real(ZUL(3,2),dp)\r\n",
      "  3  3     1.00000000E+00   # Real(ZUL(3,3),dp)\r\n",
      "Block UURMIX Q=  1.60000000E+02  # ()\r\n",
      "  1  1     1.00000000E+00   # Real(ZUR(1,1),dp)\r\n",
      "  1  2     0.00000000E+00   # Real(ZUR(1,2),dp)\r\n",
      "  1  3     0.00000000E+00   # Real(ZUR(1,3),dp)\r\n",
      "  2  1     0.00000000E+00   # Real(ZUR(2,1),dp)\r\n",
      "  2  2     1.00000000E+00   # Real(ZUR(2,2),dp)\r\n",
      "  2  3     0.00000000E+00   # Real(ZUR(2,3),dp)\r\n",
      "  3  1     0.00000000E+00   # Real(ZUR(3,1),dp)\r\n",
      "  3  2     0.00000000E+00   # Real(ZUR(3,2),dp)\r\n",
      "  3  3     1.00000000E+00   # Real(ZUR(3,3),dp)\r\n",
      "Block UELMIX Q=  1.60000000E+02  # ()\r\n",
      "  1  1    -1.00000000E+00   # Real(ZEL(1,1),dp)\r\n",
      "  1  2     0.00000000E+00   # Real(ZEL(1,2),dp)\r\n",
      "  1  3     0.00000000E+00   # Real(ZEL(1,3),dp)\r\n",
      "  2  1     0.00000000E+00   # Real(ZEL(2,1),dp)\r\n",
      "  2  2    -1.00000000E+00   # Real(ZEL(2,2),dp)\r\n",
      "  2  3     0.00000000E+00   # Real(ZEL(2,3),dp)\r\n",
      "  3  1     0.00000000E+00   # Real(ZEL(3,1),dp)\r\n",
      "  3  2     0.00000000E+00   # Real(ZEL(3,2),dp)\r\n",
      "  3  3    -1.00000000E+00   # Real(ZEL(3,3),dp)\r\n",
      "Block UERMIX Q=  1.60000000E+02  # ()\r\n",
      "  1  1     1.00000000E+00   # Real(ZER(1,1),dp)\r\n",
      "  1  2     0.00000000E+00   # Real(ZER(1,2),dp)\r\n",
      "  1  3     0.00000000E+00   # Real(ZER(1,3),dp)\r\n",
      "  2  1     0.00000000E+00   # Real(ZER(2,1),dp)\r\n",
      "  2  2     1.00000000E+00   # Real(ZER(2,2),dp)\r\n",
      "  2  3     0.00000000E+00   # Real(ZER(2,3),dp)\r\n",
      "  3  1     0.00000000E+00   # Real(ZER(3,1),dp)\r\n",
      "  3  2     0.00000000E+00   # Real(ZER(3,2),dp)\r\n",
      "  3  3     1.00000000E+00   # Real(ZER(3,3),dp)\r\n",
      "Block ZXMIX Q=  1.60000000E+02  # ()\r\n",
      "  1  1     6.67570466E-01   # Real(ZX(1,1),dp)\r\n",
      "  1  2    -7.44358397E-01   # Real(ZX(1,2),dp)\r\n",
      "  1  3    -1.67406358E-02   # Real(ZX(1,3),dp)\r\n",
      "  2  1     5.17123572E-01   # Real(ZX(2,1),dp)\r\n",
      "  2  2     4.79718968E-01   # Real(ZX(2,2),dp)\r\n",
      "  2  3    -7.08839138E-01   # Real(ZX(2,3),dp)\r\n",
      "  3  1     5.35661165E-01   # Real(ZX(3,1),dp)\r\n",
      "  3  2     4.64543097E-01   # Real(ZX(3,2),dp)\r\n",
      "  3  3     7.05171488E-01   # Real(ZX(3,3),dp)\r\n",
      "Block SPheno # SPheno internal parameters \r\n",
      "         1    -1.00000000E+00  # ErrorLevel\r\n",
      "         2     0.00000000E+00  # SPA_conventions\r\n",
      "        11     1.00000000E+00  # Branching ratios\r\n",
      "        13     1.00000000E+00  # 3 Body decays\r\n",
      "        31    -1.00000000E+00  # GUT scale\r\n",
      "        33     1.60000000E+02  # Renormalization scale\r\n",
      "        34     1.00000000E-04  # Precision\r\n",
      "        35     4.00000000E+01  # Iterations\r\n",
      "        38     2.00000000E+00  # RGE level\r\n",
      "        40     7.29735257E-03  # Alpha\r\n",
      "        41     2.49520000E+00  # Gamma_Z\r\n",
      "        42     2.06000000E+00  # Gamma_W\r\n",
      "        50     0.00000000E+00  # Rotate negative fermion masses\r\n",
      "        51     0.00000000E+00  # Switch to SCKM matrix\r\n",
      "        52     1.00000000E+00  # Ignore negative masses\r\n",
      "        53     0.00000000E+00  # Ignore negative masses at MZ\r\n",
      "        55     0.00000000E+00  # Calculate one loop masses\r\n",
      "        56     1.00000000E+00  # Calculate two-loop Higgs masses\r\n",
      "        57     1.00000000E+00  # Calculate low energy\r\n",
      "        60     1.00000000E+00  # Include kinetic mixing\r\n",
      "        65     1.00000000E+00  # Solution of tadpole equation\r\n",
      "Block HiggsBoundsInputHiggsCouplingsFermions # \r\n",
      "    1.00000000E+00    0.00000000E+00        3             25         5         5 # h_1 b b coupling \r\n",
      "    1.00000000E+00    0.00000000E+00        3             25         3         3 # h_1 s s coupling \r\n",
      "    1.00000000E+00    6.19546037E-33        3             25         6         6 # h_1 t t coupling  \r\n",
      "    1.00000000E+00    7.59574061E-33        3             25         4         4 # h_1 c c coupling \r\n",
      "    1.00000000E+00    0.00000000E+00        3             25        15        15 # h_1 tau tau coupling \r\n",
      "    1.00000000E+00    0.00000000E+00        3             25        13        13 # h_1 mu mu coupling  \r\n",
      "Block HiggsBoundsInputHiggsCouplingsBosons # \r\n",
      "    1.00000000E+00        3             25        24        24 # h_1 W W coupling \r\n",
      "    1.00000000E+00        3             25        23        23 # h_1 Z Z coupling  \r\n",
      "    0.00000000E+00        3             25        23        22 # h_1 Z gamma coupling \r\n",
      "    1.00000000E+00        3             25        22        22 # h_1 gamma gamma coupling \r\n",
      "    1.00000000E+00        3             25        21        21 # h_1 g g coupling \r\n",
      "    0.00000000E+00        4             25        21        21        23 # h_1 g g Z coupling \r\n",
      "    0.00000000E+00        3             25        25        23 # h_1 h_1 Z coupling  \r\n",
      "Block EFFHIGGSCOUPLINGS # values of loop-induced couplings \r\n",
      "        25           22           22     0.30948651E-04 # H-Photon-Photon \r\n",
      "        25           21           21     0.66332659E-04 # H-Gluon-Gluon \r\n",
      "        25           22           23     0.00000000E+00 # H-Photon-Z (not yet calculated by SPheno) \r\n",
      "Block SPhenoLowEnergy # low energy observables \r\n",
      "      20    2.14084886E-23  # (g-2)_e\r\n",
      "      21    2.14925631E-14  # (g-2)_mu\r\n",
      "      22    9.72561162E-10  # (g-2)_tau\r\n",
      "      23    0.00000000E+00  # EDM(e)\r\n",
      "      24    0.00000000E+00  # EDM(mu)\r\n",
      "      25    0.00000000E+00  # EDM(tau)\r\n",
      "      39    2.44065970E-02  # delta(rho)\r\n",
      "Block FlavorKitQFV # quark flavor violating observables \r\n",
      "     200    3.15000000E-04  # BR(B->X_s gamma)\r\n",
      "     201    1.00000000E+00  # BR(B->X_s gamma)/BR(B->X_s gamma)_SM\r\n",
      "     300    2.63388992E-03  # BR(D->mu nu)\r\n",
      "     301    9.98906512E-01  # BR(D->mu nu)/BR(D->mu nu)_SM\r\n",
      "     400    2.49265971E-02  # BR(Ds->mu nu)\r\n",
      "     401    9.98787370E-01  # BR(Ds->mu nu)/BR(Ds->mu nu)_SM\r\n",
      "     402    2.43609487E-01  # BR(Ds->tau nu)\r\n",
      "     403    9.98787281E-01  # BR(Ds->tau nu)/BR(Ds->tau nu)_SM\r\n",
      "     500    2.28834415E-06  # BR(B->mu nu)\r\n",
      "     501    9.91294580E-01  # BR(B->mu nu)/BR(B->mu nu)_SM\r\n",
      "     502    5.09186110E-04  # BR(B->tau nu)\r\n",
      "     503    9.91293940E-01  # BR(B->tau nu)/BR(B->tau nu)_SM\r\n",
      "     600    2.82863360E+00  # BR(K->mu nu)\r\n",
      "     601    9.99923708E-01  # BR(K->mu nu)/BR(K->mu nu)_SM\r\n",
      "     602    2.47647734E-05  # R_K = BR(K->e nu)/(K->mu nu)\r\n",
      "     603    2.47609948E-05  # R_K^SM = BR(K->e nu)_SM/(K->mu nu)_SM\r\n",
      "    1900    1.78773019E+01  # Delta(M_Bs)\r\n",
      "    1901    1.00076509E+00  # Delta(M_Bs)/Delta(M_Bs)_SM\r\n",
      "    1902    3.99640977E-01  # Delta(M_Bd)\r\n",
      "    1903    1.00091018E+00  # Delta(M_Bd)/Delta(M_Bd)_SM\r\n",
      "    4000    2.48195823E-15  # BR(B^0_d->e e)\r\n",
      "    4001    1.00000291E+00  # BR(B^0_d->e e)/BR(B^0_d->e e)_SM\r\n",
      "    4002    7.70658095E-14  # BR(B^0_s->e e)\r\n",
      "    4003    1.00000287E+00  # BR(B^0_s->e e)/BR(B^0_s->e e)_SM\r\n",
      "    4004    1.06026463E-10  # BR(B^0_d->mu mu)\r\n",
      "    4005    1.00000291E+00  # BR(B^0_d->mu mu)/BR(B^0_d->mu mu)_SM\r\n",
      "    4006    3.29224980E-09  # BR(B^0_s->mu mu)\r\n",
      "    4007    1.00000287E+00  # BR(B^0_s->mu mu)/BR(B^0_s->mu mu)_SM\r\n",
      "    4008    2.21925762E-08  # BR(B^0_d->tau tau)\r\n",
      "    4009    1.00000159E+00  # BR(B^0_d->tau tau)/BR(B^0_d->tau tau)_SM\r\n",
      "    4010    6.98223420E-07  # BR(B^0_s->tau tau)\r\n",
      "    4011    1.00000161E+00  # BR(B^0_s->tau tau)/BR(B^0_s->tau tau)_SM\r\n",
      "    5000    1.64140935E-06  # BR(B-> s e e)\r\n",
      "    5001    9.91614369E-01  # BR(B-> s e e)/BR(B-> s e e)_SM\r\n",
      "    5002    1.59101138E-06  # BR(B-> s mu mu)\r\n",
      "    5003    9.91414065E-01  # BR(B-> s mu mu)/BR(B-> s mu mu)_SM\r\n",
      "    6000    1.10138940E-07  # BR(B -> K mu mu)\r\n",
      "    6001    9.92242700E-01  # BR(B -> K mu mu)/BR(B -> K mu mu)_SM\r\n",
      "    7000    4.10417023E-05  # BR(B->s nu nu)\r\n",
      "    7001    1.00000000E+00  # BR(B->s nu nu)/BR(B->s nu nu)_SM\r\n",
      "    7002    1.90034270E-06  # BR(B->D nu nu)\r\n",
      "    7003    1.00000000E+00  # BR(B->D nu nu)/BR(B->D nu nu)_SM\r\n",
      "    8000    1.30079702E-10  # BR(K^+ -> pi^+ nu nu)\r\n",
      "    8001    1.00000000E+00  # BR(K^+ -> pi^+ nu nu)/BR(K^+ -> pi^+ nu nu)_SM\r\n",
      "    8002    3.03209489E-11  # BR(K_L -> pi^0 nu nu)\r\n",
      "    8003    1.00000000E+00  # BR(K_L -> pi^0 nu nu)/BR(K_L -> pi^0 nu nu)_SM\r\n",
      "    9100    2.12126936E-15  # Delta(M_K)\r\n",
      "    9102    1.00000027E+00  # Delta(M_K)/Delta(M_K)_SM\r\n",
      "    9103    3.29704991E-03  # epsilon_K\r\n",
      "    9104    1.00000383E+00  # epsilon_K/epsilon_K^SM\r\n",
      "Block FlavorKitLFV # lepton flavor violating observables \r\n",
      "     701    0.00000000E+00  # BR(mu->e gamma)\r\n",
      "     702    0.00000000E+00  # BR(tau->e gamma)\r\n",
      "     703    0.00000000E+00  # BR(tau->mu gamma)\r\n",
      "     800    0.00000000E+00  # CR(mu-e, Al)\r\n",
      "     801    0.00000000E+00  # CR(mu-e, Ti)\r\n",
      "     802    0.00000000E+00  # CR(mu-e, Sr)\r\n",
      "     803    0.00000000E+00  # CR(mu-e, Sb)\r\n",
      "     804    0.00000000E+00  # CR(mu-e, Au)\r\n",
      "     805    0.00000000E+00  # CR(mu-e, Pb)\r\n",
      "     901    0.00000000E+00  # BR(mu->3e)\r\n",
      "     902    0.00000000E+00  # BR(tau->3e)\r\n",
      "     903    0.00000000E+00  # BR(tau->3mu)\r\n",
      "     904    0.00000000E+00  # BR(tau- -> e- mu+ mu-)\r\n",
      "     905    0.00000000E+00  # BR(tau- -> mu- e+ e-)\r\n",
      "     906    0.00000000E+00  # BR(tau- -> e+ mu- mu-)\r\n",
      "     907    0.00000000E+00  # BR(tau- -> mu+ e- e-)\r\n",
      "    1001    0.00000000E+00  # BR(Z->e mu)\r\n",
      "    1002    0.00000000E+00  # BR(Z->e tau)\r\n",
      "    1003    0.00000000E+00  # BR(Z->mu tau)\r\n",
      "    1101    0.00000000E+00  # BR(h->e mu)\r\n",
      "    1102    0.00000000E+00  # BR(h->e tau)\r\n",
      "    1103    0.00000000E+00  # BR(h->mu tau)\r\n",
      "    2001    0.00000000E+00  # BR(tau->e pi)\r\n",
      "    2002    0.00000000E+00  # BR(tau->e eta)\r\n",
      "    2003    0.00000000E+00  # BR(tau->e eta')\r\n",
      "    2004    0.00000000E+00  # BR(tau->mu pi)\r\n",
      "    2005    0.00000000E+00  # BR(tau->mu eta)\r\n",
      "    2006    0.00000000E+00  # BR(tau->mu eta')\r\n",
      "Block FWCOEF Q=  1.60000000E+02  # Wilson coefficients at scale Q \r\n",
      "      030 4422   00   0    -0.17249277E-08    # coeffC7sm\r\n",
      "      030 4422   00   2    -0.17249277E-08    # coeffC7\r\n",
      "      030 4322   00   2    -0.33221735E-10    # coeffC7p\r\n",
      "      030 4422   00   1     0.00000000E+00    # coeffC7NP\r\n",
      "      030 4322   00   1    -0.33221735E-10    # coeffC7pNP\r\n",
      "      030 6421   00   0    -0.86399912E-09    # coeffC8sm\r\n",
      "      030 6421   00   2    -0.86399912E-09    # coeffC8\r\n",
      "      030 6321   00   2    -0.16633466E-10    # coeffC8p\r\n",
      "      030 6421   00   1     0.00000000E+00    # coeffC8NP\r\n",
      "      030 6321   00   1    -0.16633466E-10    # coeffC8pNP\r\n",
      "  0305111 4133   00   0     0.10365840E-08    # coeffC9eeSM\r\n",
      "  0305111 4133   00   2     0.10365840E-08    # coeffC9ee\r\n",
      "  0305111 4233   00   2    -0.79932048E-15    # coeffC9Pee\r\n",
      "  0305111 4133   00   1     0.00000000E+00    # coeffC9eeNP\r\n",
      "  0305111 4233   00   1    -0.79932048E-15    # coeffC9PeeNP\r\n",
      "  0305111 4137   00   0    -0.39462981E-08    # coeffC10eeSM\r\n",
      "  0305111 4137   00   2    -0.39462981E-08    # coeffC10ee\r\n",
      "  0305111 4237   00   2    -0.80615661E-14    # coeffC10Pee\r\n",
      "  0305111 4137   00   1     0.00000000E+00    # coeffC10eeNP\r\n",
      "  0305111 4237   00   1    -0.80615661E-14    # coeffC10PeeNP\r\n",
      "  0305131 4133   00   0     0.10365835E-08    # coeffC9mumuSM\r\n",
      "  0305131 4133   00   2     0.10365835E-08    # coeffC9mumu\r\n",
      "  0305131 4233   00   2    -0.79931358E-15    # coeffC9Pmumu\r\n",
      "  0305131 4133   00   1     0.00000000E+00    # coeffC9mumuNP\r\n",
      "  0305131 4233   00   1    -0.79931358E-15    # coeffC9PmumuNP\r\n",
      "  0305131 4137   00   0    -0.39462987E-08    # coeffC10mumuSM\r\n",
      "  0305131 4137   00   2    -0.39462987E-08    # coeffC10mumu\r\n",
      "  0305131 4237   00   2    -0.80615730E-14    # coeffC10Pmumu\r\n",
      "  0305131 4137   00   1     0.00000000E+00    # coeffC10mumuNP\r\n",
      "  0305131 4237   00   1    -0.80615730E-14    # coeffC10PmumuNP\r\n",
      "  0305121 4141   00   0    -0.12190551E-07    # coeffCLnu1nu1SM\r\n",
      "  0305121 4141   00   2    -0.12190551E-07    # coeffCLnu1nu1\r\n",
      "  0305121 4241   00   2     0.16123132E-13    # coeffCLPnu1nu1\r\n",
      "  0305121 4141   00   1     0.00000000E+00    # coeffCLnu1nu1NP\r\n",
      "  0305121 4241   00   1     0.16123132E-13    # coeffCLPnu1nu1NP\r\n",
      "  0305141 4141   00   0    -0.12190434E-07    # coeffCLnu2nu2SM\r\n",
      "  0305141 4141   00   2    -0.12190434E-07    # coeffCLnu2nu2\r\n",
      "  0305141 4241   00   2     0.16123118E-13    # coeffCLPnu2nu2\r\n",
      "  0305141 4141   00   1     0.00000000E+00    # coeffCLnu2nu2NP\r\n",
      "  0305141 4241   00   1     0.16123118E-13    # coeffCLPnu2nu2NP\r\n",
      "  0305161 4141   00   0    -0.12165638E-07    # coeffCLnu3nu3SM\r\n",
      "  0305161 4141   00   2    -0.12165638E-07    # coeffCLnu3nu3\r\n",
      "  0305161 4241   00   2     0.16119246E-13    # coeffCLPnu3nu3\r\n",
      "  0305161 4141   00   1     0.00000000E+00    # coeffCLnu3nu3NP\r\n",
      "  0305161 4241   00   1     0.16119246E-13    # coeffCLPnu3nu3NP\r\n",
      "  0305121 4142   00   0     0.00000000E+00    # coeffCRnu1nu1SM\r\n",
      "  0305121 4142   00   2     0.00000000E+00    # coeffCRnu1nu1\r\n",
      "  0305121 4242   00   2     0.00000000E+00    # coeffCRPnu1nu1\r\n",
      "  0305121 4142   00   1     0.00000000E+00    # coeffCRnu1nu1NP\r\n",
      "  0305121 4242   00   1     0.00000000E+00    # coeffCRPnu1nu1NP\r\n",
      "  0305141 4142   00   0     0.00000000E+00    # coeffCRnu2nu2SM\r\n",
      "  0305141 4142   00   2     0.00000000E+00    # coeffCRnu2nu2\r\n",
      "  0305141 4242   00   2     0.00000000E+00    # coeffCRPnu2nu2\r\n",
      "  0305141 4142   00   1     0.00000000E+00    # coeffCRnu2nu2NP\r\n",
      "  0305141 4242   00   1     0.00000000E+00    # coeffCRPnu2nu2NP\r\n",
      "  0305161 4142   00   0     0.00000000E+00    # coeffCRnu3nu3SM\r\n",
      "  0305161 4142   00   2     0.00000000E+00    # coeffCRnu3nu3\r\n",
      "  0305161 4242   00   2     0.00000000E+00    # coeffCRPnu3nu3\r\n",
      "  0305161 4142   00   1     0.00000000E+00    # coeffCRnu3nu3NP\r\n",
      "  0305161 4242   00   1     0.00000000E+00    # coeffCRPnu3nu3NP\r\n",
      "Block IMFWCOEF Q=  1.60000000E+02  # Im(Wilson coefficients) at scale Q \r\n",
      "      030 4422   00   0     0.64291917E-10    # coeffC7sm\r\n",
      "      030 4422   00   2     0.64291917E-10    # coeffC7\r\n",
      "      030 4322   00   2     0.23223838E-11    # coeffC7p\r\n",
      "      030 4422   00   1     0.00000000E+00    # coeffC7NP\r\n",
      "      030 4322   00   1     0.23223838E-11    # coeffC7pNP\r\n",
      "      030 6421   00   0     0.74456423E-10    # coeffC8sm\r\n",
      "      030 6421   00   2     0.74456423E-10    # coeffC8\r\n",
      "      030 6321   00   2     0.14350099E-11    # coeffC8p\r\n",
      "      030 6421   00   1     0.00000000E+00    # coeffC8NP\r\n",
      "      030 6321   00   1     0.14350099E-11    # coeffC8pNP\r\n",
      "  0305111 4133   00   0    -0.18508864E-10    # coeffC9eeSM\r\n",
      "  0305111 4133   00   2    -0.18508864E-10    # coeffC9ee\r\n",
      "  0305111 4233   00   2     0.14276932E-16    # coeffC9Pee\r\n",
      "  0305111 4133   00   1     0.00000000E+00    # coeffC9eeNP\r\n",
      "  0305111 4233   00   1     0.14276932E-16    # coeffC9PeeNP\r\n",
      "  0305111 4137   00   0     0.70426534E-10    # coeffC10eeSM\r\n",
      "  0305111 4137   00   2     0.70426534E-10    # coeffC10ee\r\n",
      "  0305111 4237   00   2     0.14399034E-15    # coeffC10Pee\r\n",
      "  0305111 4137   00   1     0.00000000E+00    # coeffC10eeNP\r\n",
      "  0305111 4237   00   1     0.14399034E-15    # coeffC10PeeNP\r\n",
      "  0305131 4133   00   0    -0.18508855E-10    # coeffC9mumuSM\r\n",
      "  0305131 4133   00   2    -0.18508855E-10    # coeffC9mumu\r\n",
      "  0305131 4233   00   2     0.14276809E-16    # coeffC9Pmumu\r\n",
      "  0305131 4133   00   1     0.00000000E+00    # coeffC9mumuNP\r\n",
      "  0305131 4233   00   1     0.14276809E-16    # coeffC9PmumuNP\r\n",
      "  0305131 4137   00   0     0.70426543E-10    # coeffC10mumuSM\r\n",
      "  0305131 4137   00   2     0.70426543E-10    # coeffC10mumu\r\n",
      "  0305131 4237   00   2     0.14399046E-15    # coeffC10Pmumu\r\n",
      "  0305131 4137   00   1     0.00000000E+00    # coeffC10mumuNP\r\n",
      "  0305131 4237   00   1     0.14399046E-15    # coeffC10PmumuNP\r\n",
      "  0305121 4141   00   0     0.21762028E-09    # coeffCLnu1nu1SM\r\n",
      "  0305121 4141   00   2     0.21762028E-09    # coeffCLnu1nu1\r\n",
      "  0305121 4241   00   2    -0.28798068E-15    # coeffCLPnu1nu1\r\n",
      "  0305121 4141   00   1     0.00000000E+00    # coeffCLnu1nu1NP\r\n",
      "  0305121 4241   00   1    -0.28798068E-15    # coeffCLPnu1nu1NP\r\n",
      "  0305141 4141   00   0     0.21761728E-09    # coeffCLnu2nu2SM\r\n",
      "  0305141 4141   00   2     0.21761728E-09    # coeffCLnu2nu2\r\n",
      "  0305141 4241   00   2    -0.28798044E-15    # coeffCLPnu2nu2\r\n",
      "  0305141 4141   00   1     0.00000000E+00    # coeffCLnu2nu2NP\r\n",
      "  0305141 4241   00   1    -0.28798044E-15    # coeffCLPnu2nu2NP\r\n",
      "  0305161 4141   00   0     0.21715240E-09    # coeffCLnu3nu3SM\r\n",
      "  0305161 4141   00   2     0.21715240E-09    # coeffCLnu3nu3\r\n",
      "  0305161 4241   00   2    -0.28791130E-15    # coeffCLPnu3nu3\r\n",
      "  0305161 4141   00   1     0.00000000E+00    # coeffCLnu3nu3NP\r\n",
      "  0305161 4241   00   1    -0.28791130E-15    # coeffCLPnu3nu3NP\r\n",
      "  0305121 4142   00   0     0.00000000E+00    # coeffCRnu1nu1SM\r\n",
      "  0305121 4142   00   2     0.00000000E+00    # coeffCRnu1nu1\r\n",
      "  0305121 4242   00   2     0.00000000E+00    # coeffCRPnu1nu1\r\n",
      "  0305121 4142   00   1     0.00000000E+00    # coeffCRnu1nu1NP\r\n",
      "  0305121 4242   00   1     0.00000000E+00    # coeffCRPnu1nu1NP\r\n",
      "  0305141 4142   00   0     0.00000000E+00    # coeffCRnu2nu2SM\r\n",
      "  0305141 4142   00   2     0.00000000E+00    # coeffCRnu2nu2\r\n",
      "  0305141 4242   00   2     0.00000000E+00    # coeffCRPnu2nu2\r\n",
      "  0305141 4142   00   1     0.00000000E+00    # coeffCRnu2nu2NP\r\n",
      "  0305141 4242   00   1     0.00000000E+00    # coeffCRPnu2nu2NP\r\n",
      "  0305161 4142   00   0     0.00000000E+00    # coeffCRnu3nu3SM\r\n",
      "  0305161 4142   00   2     0.00000000E+00    # coeffCRnu3nu3\r\n",
      "  0305161 4242   00   2     0.00000000E+00    # coeffCRPnu3nu3\r\n",
      "  0305161 4142   00   1     0.00000000E+00    # coeffCRnu3nu3NP\r\n",
      "  0305161 4242   00   1     0.00000000E+00    # coeffCRPnu3nu3NP\r\n",
      "DECAY         4     3.82452319E-13   # Fu_2\r\n",
      "#    BR                NDA      ID1      ID2\r\n",
      "#    BR                NDA      ID1      ID2       ID3\r\n",
      "     3.05502575E-02    3            2         -1          1   # BR(Fu_2 -> Fu_1 Fd_1^* Fd_1 )\r\n",
      "     5.45954987E-01    3            2         -1          3   # BR(Fu_2 -> Fu_1 Fd_1^* Fd_2 )\r\n",
      "     1.56486313E-03    3            2         -3          1   # BR(Fu_2 -> Fu_1 Fd_2^* Fd_1 )\r\n",
      "     2.79270154E-02    3            2         -3          3   # BR(Fu_2 -> Fu_1 Fd_2^* Fd_2 )\r\n",
      "     1.07295183E-02    3            1        -11         12   # BR(Fu_2 -> Fd_1 Fe_1^* Fv_1 )\r\n",
      "     1.01645236E-02    3            1        -13         14   # BR(Fu_2 -> Fd_1 Fe_2^* Fv_2 )\r\n",
      "     1.91744771E-01    3            3        -11         12   # BR(Fu_2 -> Fd_2 Fe_1^* Fv_1 )\r\n",
      "     1.81364064E-01    3            3        -13         14   # BR(Fu_2 -> Fd_2 Fe_2^* Fv_2 )\r\n",
      "DECAY         6     1.55565288E+00   # Fu_3\r\n",
      "#    BR                NDA      ID1      ID2\r\n",
      "     1.00000000E+00    2            5         24   # BR(Fu_3 -> Fd_3 VWp )\r\n",
      "DECAY        13     1.22051868E-18   # Fe_2\r\n",
      "#    BR                NDA      ID1      ID2\r\n",
      "#    BR                NDA      ID1      ID2       ID3\r\n",
      "     2.63969808E-01    3           11        -12         14   # BR(Fe_2 -> Fe_1 Fv_1^* Fv_2 )\r\n",
      "     7.36026661E-01    3           14         -2          1   # BR(Fe_2 -> Fv_2 Fu_1^* Fd_1 )\r\n",
      "     3.53089510E-06    3           14         -2          3   # BR(Fe_2 -> Fv_2 Fu_1^* Fd_2 )\r\n",
      "DECAY        15     2.17022111E-12   # Fe_3\r\n",
      "#    BR                NDA      ID1      ID2\r\n",
      "#    BR                NDA      ID1      ID2       ID3\r\n",
      "     1.99664865E-01    3           11        -12         16   # BR(Fe_3 -> Fe_1 Fv_1^* Fv_3 )\r\n",
      "     1.94368619E-01    3           13        -14         16   # BR(Fe_3 -> Fe_2 Fv_2^* Fv_3 )\r\n",
      "     5.68537963E-01    3           16         -2          1   # BR(Fe_3 -> Fv_3 Fu_1^* Fd_1 )\r\n",
      "     2.97768355E-02    3           16         -2          3   # BR(Fe_3 -> Fv_3 Fu_1^* Fd_2 )\r\n",
      "     4.57258365E-04    3           16         -4          1   # BR(Fe_3 -> Fv_3 Fu_2^* Fd_1 )\r\n",
      "     7.19445852E-03    3           16         -4          3   # BR(Fe_3 -> Fv_3 Fu_2^* Fd_2 )\r\n",
      "DECAY         1     9.46175152E-27   # Fd_1\r\n",
      "#    BR                NDA      ID1      ID2\r\n",
      "#    BR                NDA      ID1      ID2       ID3\r\n",
      "     1.00000000E+00    3            2        -12         11   # BR(Fd_1 -> Fu_1 Fv_1^* Fe_1 )\r\n",
      "DECAY         3     3.60747440E-20   # Fd_2\r\n",
      "#    BR                NDA      ID1      ID2\r\n",
      "#    BR                NDA      ID1      ID2       ID3\r\n",
      "     7.34967004E-01    3            1         -2          2   # BR(Fd_2 -> Fd_1 Fu_1^* Fu_1 )\r\n",
      "     2.65032996E-01    3            2        -12         11   # BR(Fd_2 -> Fu_1 Fv_1^* Fe_1 )\r\n",
      "DECAY         5     1.70442232E-13   # Fd_3\r\n",
      "#    BR                NDA      ID1      ID2\r\n",
      "#    BR                NDA      ID1      ID2       ID3\r\n",
      "     6.12951287E-03    3            1         -2          2   # BR(Fd_3 -> Fd_1 Fu_1^* Fu_1 )\r\n",
      "     4.52963796E-01    3            1         -2          4   # BR(Fd_3 -> Fd_1 Fu_1^* Fu_2 )\r\n",
      "     1.67717286E-04    3            1         -4          2   # BR(Fd_3 -> Fd_1 Fu_2^* Fu_1 )\r\n",
      "     8.80823256E-03    3            1         -4          4   # BR(Fd_3 -> Fd_1 Fu_2^* Fu_2 )\r\n",
      "     3.27013500E-04    3            3         -2          2   # BR(Fd_3 -> Fd_2 Fu_1^* Fu_1 )\r\n",
      "     2.41186489E-02    3            3         -2          4   # BR(Fd_3 -> Fd_2 Fu_1^* Fu_2 )\r\n",
      "     3.11230926E-03    3            3         -4          2   # BR(Fd_3 -> Fd_2 Fu_2^* Fu_1 )\r\n",
      "     1.62627665E-01    3            3         -4          4   # BR(Fd_3 -> Fd_2 Fu_2^* Fu_2 )\r\n",
      "     2.15252618E-03    3            2        -12         11   # BR(Fd_3 -> Fu_1 Fv_1^* Fe_1 )\r\n",
      "     2.14490780E-03    3            2        -14         13   # BR(Fd_3 -> Fu_1 Fv_2^* Fe_2 )\r\n",
      "     5.83957751E-04    3            2        -16         15   # BR(Fd_3 -> Fu_1 Fv_3^* Fe_3 )\r\n",
      "     1.59069889E-01    3            4        -12         11   # BR(Fd_3 -> Fu_2 Fv_1^* Fe_1 )\r\n",
      "     1.58104211E-01    3            4        -14         13   # BR(Fd_3 -> Fu_2 Fv_2^* Fe_2 )\r\n",
      "     1.96896118E-02    3            4        -16         15   # BR(Fd_3 -> Fu_2 Fv_3^* Fe_3 )\r\n",
      "DECAY        23     2.56607399E+00   # VZ\r\n",
      "#    BR                NDA      ID1      ID2\r\n",
      "     1.67223188E-02    2         1012       1012   # BR(VZ -> Chi_1 Chi_1 )\r\n",
      "     1.49769700E-01    2           -1          1   # BR(VZ -> Fd_1^* Fd_1 )\r\n",
      "     1.49769049E-01    2           -3          3   # BR(VZ -> Fd_2^* Fd_2 )\r\n",
      "     1.48507136E-01    2           -5          5   # BR(VZ -> Fd_3^* Fd_3 )\r\n",
      "     3.38101069E-02    2          -11         11   # BR(VZ -> Fe_1^* Fe_1 )\r\n",
      "     3.38098377E-02    2          -13         13   # BR(VZ -> Fe_2^* Fe_2 )\r\n",
      "     3.37340213E-02    2          -15         15   # BR(VZ -> Fe_3^* Fe_3 )\r\n",
      "     1.16744942E-01    2           -2          2   # BR(VZ -> Fu_1^* Fu_1 )\r\n",
      "     1.16628288E-01    2           -4          4   # BR(VZ -> Fu_2^* Fu_2 )\r\n",
      "     6.68348667E-02    2          -12         12   # BR(VZ -> Fv_1^* Fv_1 )\r\n",
      "     6.68348667E-02    2          -14         14   # BR(VZ -> Fv_2^* Fv_2 )\r\n",
      "     6.68348667E-02    2          -16         16   # BR(VZ -> Fv_3^* Fv_3 )\r\n",
      "DECAY        24     2.11336238E+00   # VWp\r\n",
      "#    BR                NDA      ID1      ID2\r\n",
      "     3.16468443E-01    2           -1          2   # BR(VWp -> Fd_1^* Fu_1 )\r\n",
      "     1.69166709E-02    2           -1          4   # BR(VWp -> Fd_1^* Fu_2 )\r\n",
      "     1.69308572E-02    2           -3          2   # BR(VWp -> Fd_2^* Fu_1 )\r\n",
      "     3.15795683E-01    2           -3          4   # BR(VWp -> Fd_2^* Fu_2 )\r\n",
      "     3.89513722E-06    2           -5          2   # BR(VWp -> Fd_3^* Fu_1 )\r\n",
      "     5.62997720E-04    2           -5          4   # BR(VWp -> Fd_3^* Fu_2 )\r\n",
      "     1.11134416E-01    2          -11         12   # BR(VWp -> Fe_1^* Fv_1 )\r\n",
      "     1.11134128E-01    2          -13         14   # BR(VWp -> Fe_2^* Fv_2 )\r\n",
      "     1.11052909E-01    2          -15         16   # BR(VWp -> Fe_3^* Fv_3 )\r\n",
      "DECAY        25     5.72195370E-03   # hh\r\n",
      "#    BR                NDA      ID1      ID2\r\n",
      "     1.64756394E-03    2           22         22   # BR(hh -> VP VP )\r\n",
      "     6.05485327E-02    2           21         21   # BR(hh -> VG VG )\r\n",
      "     1.71266716E-02    2           23         23   # BR(hh -> VZ VZ )\r\n",
      "     1.56230311E-01    2          -24         24   # BR(hh -> VWp^* VWp_virt )\r\n",
      "     3.10336424E-01    2         1012       1012   # BR(hh -> Chi_1 Chi_1 )\r\n",
      "     4.04910514E-07    2           -1          1   # BR(hh -> Fd_1^* Fd_1 )\r\n",
      "     1.45642719E-04    2           -3          3   # BR(hh -> Fd_2^* Fd_2 )\r\n",
      "     3.90109602E-01    2           -5          5   # BR(hh -> Fd_3^* Fd_3 )\r\n",
      "     3.51276402E-09    2          -11         11   # BR(hh -> Fe_1^* Fe_1 )\r\n",
      "     1.56922281E-04    2          -13         13   # BR(hh -> Fe_2^* Fe_2 )\r\n",
      "     4.52962515E-02    2          -15         15   # BR(hh -> Fe_3^* Fe_3 )\r\n",
      "     7.74692062E-08    2           -2          2   # BR(hh -> Fu_1^* Fu_1 )\r\n",
      "     1.84015914E-02    2           -4          4   # BR(hh -> Fu_2^* Fu_2 )\r\n",
      "DECAY      1014     6.40035855E+01   # Chi_2\r\n",
      "#    BR                NDA      ID1      ID2\r\n",
      "     2.47447801E-01    2         1012         25   # BR(Chi_2 -> Chi_1 hh )\r\n",
      "     2.96272309E-01    2         1012         23   # BR(Chi_2 -> Chi_1 VZ )\r\n",
      "     2.27868084E-01    2    210000601         24   # BR(Chi_2 -> Fre VWp )\r\n",
      "     2.27868084E-01    2   -210000601        -24   # BR(Chi_2 -> Fre^* VWp^* )\r\n",
      "#    BR                NDA      ID1      ID2       ID3\r\n",
      "     5.34306797E-04    3         1012         -6          6   # BR(Chi_2 -> Chi_1 Fu_3^* Fu_3 )\r\n",
      "     4.70805243E-06    3    210000601         -5          6   # BR(Chi_2 -> Fre Fd_3^* Fu_3 )\r\n",
      "     4.70805243E-06    3   -210000601          5         -6   # BR(Chi_2 -> Fre^* Fd_3 Fu_3^* )\r\n",
      "DECAY      1016     6.34748162E+01   # Chi_3\r\n",
      "#    BR                NDA      ID1      ID2\r\n",
      "     2.55137819E-01    2         1012         25   # BR(Chi_3 -> Chi_1 hh )\r\n",
      "     2.53505260E-01    2         1012         23   # BR(Chi_3 -> Chi_1 VZ )\r\n",
      "     2.45358974E-01    2    210000601         24   # BR(Chi_3 -> Fre VWp )\r\n",
      "     2.45358974E-01    2   -210000601        -24   # BR(Chi_3 -> Fre^* VWp^* )\r\n",
      "#    BR                NDA      ID1      ID2       ID3\r\n",
      "     3.98488430E-11    3         1014         -1          1   # BR(Chi_3 -> Chi_2 Fd_1^* Fd_1 )\r\n",
      "     3.97997709E-11    3         1014         -3          3   # BR(Chi_3 -> Chi_2 Fd_2^* Fd_2 )\r\n",
      "     8.99834182E-12    3         1014        -11         11   # BR(Chi_3 -> Chi_2 Fe_1^* Fe_1 )\r\n",
      "     8.98992704E-12    3         1014        -13         13   # BR(Chi_3 -> Chi_2 Fe_2^* Fe_2 )\r\n",
      "     6.33744137E-12    3         1014        -15         15   # BR(Chi_3 -> Chi_2 Fe_3^* Fe_3 )\r\n",
      "     6.26506085E-04    3         1012         -6          6   # BR(Chi_3 -> Chi_1 Fu_3^* Fu_3 )\r\n",
      "     3.10490577E-11    3         1014         -2          2   # BR(Chi_3 -> Chi_2 Fu_1^* Fu_1 )\r\n",
      "     2.57408610E-11    3         1014         -4          4   # BR(Chi_3 -> Chi_2 Fu_2^* Fu_2 )\r\n",
      "     1.77981766E-11    3         1014        -12         12   # BR(Chi_3 -> Chi_2 Fv_1^* Fv_1 )\r\n",
      "     1.77981766E-11    3         1014        -14         14   # BR(Chi_3 -> Chi_2 Fv_2^* Fv_2 )\r\n",
      "     1.77981766E-11    3         1014        -16         16   # BR(Chi_3 -> Chi_2 Fv_3^* Fv_3 )\r\n",
      "     6.23385219E-06    3    210000601         -5          6   # BR(Chi_3 -> Fre Fd_3^* Fu_3 )\r\n",
      "     6.23385219E-06    3   -210000601          5         -6   # BR(Chi_3 -> Fre^* Fd_3 Fu_3^* )\r\n",
      "DECAY 210000601     2.33347528E+01   # Fre\r\n",
      "#    BR                NDA      ID1      ID2\r\n",
      "     9.99847556E-01    2         1012        -24   # BR(Fre -> Chi_1 VWp^* )\r\n",
      "#    BR                NDA      ID1      ID2       ID3\r\n",
      "     1.52443758E-04    3         1012         -6          5   # BR(Fre -> Chi_1 Fu_3^* Fd_3 )\r\n"
     ]
    }
   ],
   "source": [
    "cat SPheno.spc.SimplifiedDMSDFDM"
   ]
  },
  {
   "cell_type": "code",
   "execution_count": 64,
   "metadata": {
    "collapsed": false
   },
   "outputs": [
    {
     "name": "stdout",
     "output_type": "stream",
     "text": [
      "None\n"
     ]
    }
   ],
   "source": [
    "print re.search('^[0-9\\.eE\\-\\+]*$','a')"
   ]
  },
  {
   "cell_type": "code",
   "execution_count": 159,
   "metadata": {
    "collapsed": false
   },
   "outputs": [],
   "source": [
    "idc='0'\n",
    "br=re.search('[0-9]\\.[0-9eE\\-\\+]+',idc)\n",
    "if br:\n",
    "    br=br.group(0)\n",
    "    if re.search(fltchk,br):\n",
    "        print br"
   ]
  },
  {
   "cell_type": "code",
   "execution_count": 156,
   "metadata": {
    "collapsed": true
   },
   "outputs": [],
   "source": [
    "kk"
   ]
  },
  {
   "cell_type": "code",
   "execution_count": 127,
   "metadata": {
    "collapsed": false
   },
   "outputs": [
    {
     "data": {
      "text/plain": [
       "ID                     2.770000e-27\n",
       "ID:~chi,~chi > b b~    8.880000e-01\n",
       "ID:~chi,~chi > c c~    6.750000e-02\n",
       "ID:~chi,~chi > ta t    4.390000e-02\n",
       "ID:~chi,~chi > s s~    4.380000e-04\n",
       "ID:~chi,~chi > mu m    1.580000e-04\n",
       "dtype: float64"
      ]
     },
     "execution_count": 127,
     "metadata": {},
     "output_type": "execute_result"
    }
   ],
   "source": [
    "micromegas"
   ]
  },
  {
   "cell_type": "code",
   "execution_count": 136,
   "metadata": {
    "collapsed": false
   },
   "outputs": [],
   "source": [
    "df=pd.DataFrame()\n",
    "df=df.append(micromegas,ignore_index=True)"
   ]
  },
  {
   "cell_type": "code",
   "execution_count": 138,
   "metadata": {
    "collapsed": false
   },
   "outputs": [
    {
     "data": {
      "text/html": [
       "<div>\n",
       "<table border=\"1\" class=\"dataframe\">\n",
       "  <thead>\n",
       "    <tr style=\"text-align: right;\">\n",
       "      <th></th>\n",
       "      <th>ID</th>\n",
       "      <th>ID:~chi,~chi &gt; b b~</th>\n",
       "      <th>ID:~chi,~chi &gt; c c~</th>\n",
       "      <th>ID:~chi,~chi &gt; mu m</th>\n",
       "      <th>ID:~chi,~chi &gt; s s~</th>\n",
       "      <th>ID:~chi,~chi &gt; ta t</th>\n",
       "      <th>ID:aa</th>\n",
       "    </tr>\n",
       "  </thead>\n",
       "  <tbody>\n",
       "    <tr>\n",
       "      <th>0</th>\n",
       "      <td>2.770000e-27</td>\n",
       "      <td>0.888</td>\n",
       "      <td>0.0675</td>\n",
       "      <td>0.000158</td>\n",
       "      <td>0.000438</td>\n",
       "      <td>0.0439</td>\n",
       "      <td>0</td>\n",
       "    </tr>\n",
       "    <tr>\n",
       "      <th>1</th>\n",
       "      <td>3.000000e+00</td>\n",
       "      <td>0.000</td>\n",
       "      <td>0.0000</td>\n",
       "      <td>0.000000</td>\n",
       "      <td>0.000000</td>\n",
       "      <td>0.0000</td>\n",
       "      <td>4</td>\n",
       "    </tr>\n",
       "  </tbody>\n",
       "</table>\n",
       "</div>"
      ],
      "text/plain": [
       "             ID  ID:~chi,~chi > b b~  ID:~chi,~chi > c c~  \\\n",
       "0  2.770000e-27                0.888               0.0675   \n",
       "1  3.000000e+00                0.000               0.0000   \n",
       "\n",
       "   ID:~chi,~chi > mu m  ID:~chi,~chi > s s~  ID:~chi,~chi > ta t  ID:aa  \n",
       "0             0.000158             0.000438               0.0439      0  \n",
       "1             0.000000             0.000000               0.0000      4  "
      ]
     },
     "execution_count": 138,
     "metadata": {},
     "output_type": "execute_result"
    }
   ],
   "source": [
    "df.append({'ID':3,'ID:aa':4},ignore_index=True).fillna(0)"
   ]
  },
  {
   "cell_type": "code",
   "execution_count": 134,
   "metadata": {
    "collapsed": false
   },
   "outputs": [
    {
     "data": {
      "text/html": [
       "<div>\n",
       "<table border=\"1\" class=\"dataframe\">\n",
       "  <thead>\n",
       "    <tr style=\"text-align: right;\">\n",
       "      <th></th>\n",
       "      <th>ID</th>\n",
       "      <th>ID:~chi,~chi &gt; b b~</th>\n",
       "      <th>ID:~chi,~chi &gt; c c~</th>\n",
       "      <th>ID:~chi,~chi &gt; mu m</th>\n",
       "      <th>ID:~chi,~chi &gt; s s~</th>\n",
       "      <th>ID:~chi,~chi &gt; ta t</th>\n",
       "    </tr>\n",
       "  </thead>\n",
       "  <tbody>\n",
       "    <tr>\n",
       "      <th>0</th>\n",
       "      <td>2.770000e-27</td>\n",
       "      <td>0.888</td>\n",
       "      <td>0.0675</td>\n",
       "      <td>0.000158</td>\n",
       "      <td>0.000438</td>\n",
       "      <td>0.0439</td>\n",
       "    </tr>\n",
       "  </tbody>\n",
       "</table>\n",
       "</div>"
      ],
      "text/plain": [
       "             ID  ID:~chi,~chi > b b~  ID:~chi,~chi > c c~  \\\n",
       "0  2.770000e-27                0.888               0.0675   \n",
       "\n",
       "   ID:~chi,~chi > mu m  ID:~chi,~chi > s s~  ID:~chi,~chi > ta t  \n",
       "0             0.000158             0.000438               0.0439  "
      ]
     },
     "execution_count": 134,
     "metadata": {},
     "output_type": "execute_result"
    }
   ],
   "source": [
    "df"
   ]
  },
  {
   "cell_type": "code",
   "execution_count": 94,
   "metadata": {
    "collapsed": true
   },
   "outputs": [],
   "source": [
    "cc=re.finditer('[0-9\\.eE\\-\\+]+',c)\n",
    "[g.group(0) for g in cc]"
   ]
  },
  {
   "cell_type": "code",
   "execution_count": 104,
   "metadata": {
    "collapsed": false
   },
   "outputs": [
    {
     "data": {
      "text/plain": [
       "'  ~chi2,~chi2 -> mu- m  1.58E-04'"
      ]
     },
     "execution_count": 104,
     "metadata": {},
     "output_type": "execute_result"
    }
   ],
   "source": [
    "c"
   ]
  },
  {
   "cell_type": "code",
   "execution_count": 115,
   "metadata": {
    "collapsed": false
   },
   "outputs": [
    {
     "data": {
      "text/plain": [
       "'~chi,~chi > mu m'"
      ]
     },
     "execution_count": 115,
     "metadata": {},
     "output_type": "execute_result"
    }
   ],
   "source": [
    "re.sub('\\s+$','',re.sub('^\\s+','',re.sub('[0-9\\.eE\\-\\+]+','',c)))"
   ]
  },
  {
   "cell_type": "code",
   "execution_count": 120,
   "metadata": {
    "collapsed": false
   },
   "outputs": [
    {
     "data": {
      "text/plain": [
       "'1.58E-04'"
      ]
     },
     "execution_count": 120,
     "metadata": {},
     "output_type": "execute_result"
    }
   ],
   "source": []
  },
  {
   "cell_type": "markdown",
   "metadata": {},
   "source": [
    "## Scan $m_{DM}$\n",
    "### Higgsilino-like"
   ]
  },
  {
   "cell_type": "code",
   "execution_count": 9,
   "metadata": {
    "collapsed": false,
    "scrolled": true
   },
   "outputs": [
    {
     "name": "stdout",
     "output_type": "stream",
     "text": [
      "0\n",
      "10\n",
      "20\n",
      "30\n",
      "40\n",
      "50\n",
      "60\n",
      "70\n",
      "80\n",
      "90\n"
     ]
    }
   ],
   "source": [
    "df=pd.DataFrame()\n",
    "a.LHA.blocks['SPHENOINPUT'].entries[55]='0               # Calculate one loop masses'\n",
    "dm_masses=np.linspace(100,1200,100)\n",
    "for MDM in dm_masses:\n",
    "    if np.where(dm_masses==MDM)[0][0]%10==0: #find the index of the array entry\n",
    "        print np.where(dm_masses==MDM)[0][0]\n",
    "    a.LHA.blocks['MINPAR'][2]='%0.8E       #MDF' %MDM  # -> Fill a.Series.MDF\n",
    "    a.runmicromegas(Direct_Detection=True)\n",
    "    mo=run_feynrules_SDFDM(MDF = -a.Series.MDF,MN = a.Series.MnINPUT,\\\n",
    "                        lu = a.Series.lamuINPUT,ld = a.Series.lamdINPUT ,v=a.vev)\n",
    "    mo=a.micromegas_output(mo['Full'])\n",
    "    a.Series['Omega_h2_official']=mo.Omega_h2\n",
    "    a.Series['proton_SI_official']=mo.proton.SI\n",
    "    a.Series['neutron_SI_official']=mo.neutron.SI\n",
    "    df=df.append(a.Series,ignore_index=True)"
   ]
  },
  {
   "cell_type": "markdown",
   "metadata": {},
   "source": [
    "### Relic density"
   ]
  },
  {
   "cell_type": "code",
   "execution_count": 10,
   "metadata": {
    "collapsed": false
   },
   "outputs": [
    {
     "data": {
      "image/png": "[encoded data removed]",
      "text/plain": [
       "<matplotlib.figure.Figure at 0x7f8d3007e1d0>"
      ]
     },
     "metadata": {},
     "output_type": "display_data"
    }
   ],
   "source": [
    "plt.semilogy(df.MDF,df.Omega_h2,'ko',label='SARAH')\n",
    "plt.semilogy(df.MDF,df.Omega_h2_official,'r-',label='micromegas/SDFDM')\n",
    "plt.xlabel(r'$m_{\\rm DM}$ [GeV]',size=20)\n",
    "plt.ylabel(r'$\\Omega h^2$',size=20)\n",
    "plt.grid()\n",
    "plt.legend(loc='best')\n",
    "plt.savefig('omega.pdf')\n"
   ]
  },
  {
   "cell_type": "code",
   "execution_count": 11,
   "metadata": {
    "collapsed": false
   },
   "outputs": [
    {
     "data": {
      "image/png": "[encoded data removed]",
      "text/plain": [
       "<matplotlib.figure.Figure at 0x7f8d2da68050>"
      ]
     },
     "metadata": {},
     "output_type": "display_data"
    }
   ],
   "source": [
    "plt.semilogy(df.MDF,df.proton_SI,'k-',label='SARAH')\n",
    "plt.semilogy(df.MDF,df.proton_SI_official,'r--',label='micromegas/IDM')\n",
    "plt.xlabel(r'$m_{\\rm DM}$ [GeV]',size=20)\n",
    "plt.ylabel(r'Direct Detection [pb]' ,size=20)\n",
    "plt.legend(loc='best')\n",
    "plt.savefig('dd.pdf')"
   ]
  },
  {
   "cell_type": "markdown",
   "metadata": {},
   "source": [
    "### Singlet-like"
   ]
  },
  {
   "cell_type": "code",
   "execution_count": 12,
   "metadata": {
    "collapsed": false
   },
   "outputs": [
    {
     "name": "stdout",
     "output_type": "stream",
     "text": [
      "0\n",
      "10\n",
      "20\n",
      "30\n",
      "40\n",
      "50\n",
      "60\n",
      "70\n",
      "80\n",
      "90\n"
     ]
    }
   ],
   "source": [
    "dn=pd.DataFrame()\n",
    "a.LHA.blocks['SPHENOINPUT'].entries[55]='0               # Calculate one loop masses'\n",
    "a.LHA.blocks['MINPAR'][2]='%0.8E       #MDF' %1200  # -> Fill a.Series.MDF\n",
    "\n",
    "\n",
    "dm_masses=np.linspace(100,1200,100)\n",
    "for MDM in dm_masses:\n",
    "    if np.where(dm_masses==MDM)[0][0]%10==0: #find the index of the array entry\n",
    "        print np.where(dm_masses==MDM)[0][0]\n",
    "    a.LHA.blocks['MINPAR'][3]='%0.8E       #MN' %MDM  # -> Fill a.Series.MN\n",
    "    a.runmicromegas(Direct_Detection=True)\n",
    "    mo=run_feynrules_SDFDM(MDF = -a.Series.MDF,MN = a.Series.MN,\\\n",
    "                        lu = a.Series.lamuINPUT,ld = a.Series.lamdINPUT ,v=a.vev)\n",
    "    mo=a.micromegas_output(mo['Full'])\n",
    "    a.Series['Omega_h2_official']=mo.Omega_h2\n",
    "    a.Series['proton_SI_official']=mo.proton.SI\n",
    "    a.Series['neutron_SI_official']=mo.neutron.SI\n",
    "    dn=dn.append(a.Series,ignore_index=True)"
   ]
  },
  {
   "cell_type": "code",
   "execution_count": 13,
   "metadata": {
    "collapsed": false
   },
   "outputs": [
    {
     "data": {
      "image/png": "[encoded data removed]",
      "text/plain": [
       "<matplotlib.figure.Figure at 0x7f8d2d924e10>"
      ]
     },
     "metadata": {},
     "output_type": "display_data"
    }
   ],
   "source": [
    "plt.semilogy(dn.MN,dn.Omega_h2,'ko',label='SARAH')\n",
    "plt.semilogy(dn.MN,dn.Omega_h2_official,'r-',label='micromegas/SDFDM')\n",
    "plt.xlabel(r'$m_{\\rm DM}$ [GeV]',size=20)\n",
    "plt.ylabel(r'$\\Omega h^2$',size=20)\n",
    "plt.grid()\n",
    "plt.legend(loc='best')\n",
    "plt.savefig('omega.pdf')"
   ]
  },
  {
   "cell_type": "code",
   "execution_count": 14,
   "metadata": {
    "collapsed": false
   },
   "outputs": [
    {
     "data": {
      "image/png": "[encoded data removed]",
      "text/plain": [
       "<matplotlib.figure.Figure at 0x7f8d2d972750>"
      ]
     },
     "metadata": {},
     "output_type": "display_data"
    }
   ],
   "source": [
    "plt.semilogy(dn.MN,dn.proton_SI,'k-',label='SARAH')\n",
    "plt.semilogy(dn.MN,dn.proton_SI_official,'r--',label='micromegas/IDM')\n",
    "plt.xlabel(r'$m_{\\rm DM}$ [GeV]',size=20)\n",
    "plt.ylabel(r'Direct Detection [pb]' ,size=20)\n",
    "plt.legend(loc='best')\n",
    "plt.savefig('dd.pdf')"
   ]
  },
  {
   "cell_type": "markdown",
   "metadata": {},
   "source": [
    "## Pure higssino limit"
   ]
  },
  {
   "cell_type": "code",
   "execution_count": 15,
   "metadata": {
    "collapsed": false
   },
   "outputs": [
    {
     "name": "stdout",
     "output_type": "stream",
     "text": [
      "Omega h^2, SI proton, neutron = 0.00103 2.47e-24 2.536e-24\n"
     ]
    }
   ],
   "source": [
    "v=a.vev\n",
    "#lambda_1=0.13\n",
    "mdf=100\n",
    "mn=2000\n",
    "lambdau=1E-4\n",
    "lambdad=1E-4\n",
    "devnull=commands.getoutput('rm -f SPheno.spc.%s' %a.MODEL)\n",
    "a.LHA.blocks['SPHENOINPUT'].entries[55]='0               # Calculate one loop masses'\n",
    "a.LHA.blocks['MINPAR'][2]='%0.8E       #MDF' %mdf\n",
    "a.LHA.blocks['MINPAR'][3]='%0.8E       #MN' %mn\n",
    "a.LHA.blocks['MINPAR'][4]='%0.8E       # lamuINPUT' %lambdau\n",
    "a.LHA.blocks['MINPAR'][5]='%0.8E       # lamdINPUT' %lambdad\n",
    "moc=a.runmicromegas(Direct_Detection=True)\n",
    "print 'Omega h^2, SI proton, neutron =',a.Series.Omega_h2,a.Series.proton_SI,a.Series.neutron_SI"
   ]
  },
  {
   "cell_type": "code",
   "execution_count": 16,
   "metadata": {
    "collapsed": false
   },
   "outputs": [
    {
     "data": {
      "text/plain": [
       "_dict([(1, '1.3000000E-01  # lambda1INPUT'),\n",
       "       (2, '1.00000000E+02       #MDF'),\n",
       "       (3, '2.00000000E+03       #MN'),\n",
       "       (4, '1.00000000E-04       # lamuINPUT'),\n",
       "       (5, '1.00000000E-04       # lamdINPUT')])"
      ]
     },
     "execution_count": 16,
     "metadata": {},
     "output_type": "execute_result"
    }
   ],
   "source": [
    "a.LHA.blocks['MINPAR'].entries"
   ]
  },
  {
   "cell_type": "code",
   "execution_count": 17,
   "metadata": {
    "collapsed": false
   },
   "outputs": [
    {
     "name": "stdout",
     "output_type": "stream",
     "text": [
      "0.00107 3.835e-24\n"
     ]
    }
   ],
   "source": [
    "mo=run_feynrules_SDFDM(MDF = -a.Series.MDF,MN = a.Series.MN,\\\n",
    "                        lu = a.Series.lamuINPUT,ld = a.Series.lamdINPUT ,v=a.vev)\n",
    "#implement sigma_v\n",
    "mo=a.micromegas_output(mo['Full'])\n",
    "print mo.Omega_h2,mo.proton.SI"
   ]
  },
  {
   "cell_type": "code",
   "execution_count": null,
   "metadata": {
    "collapsed": false
   },
   "outputs": [],
   "source": [
    "1+1"
   ]
  },
  {
   "cell_type": "markdown",
   "metadata": {},
   "source": [
    "[Jupyter home](./draft.pdf)"
   ]
  }
 ],
 "metadata": {
  "kernelspec": {
   "display_name": "Python 2",
   "language": "python",
   "name": "python2"
  },
  "language_info": {
   "codemirror_mode": {
    "name": "ipython",
    "version": 2
   },
   "file_extension": ".py",
   "mimetype": "text/x-python",
   "name": "python",
   "nbconvert_exporter": "python",
   "pygments_lexer": "ipython2",
   "version": "2.7.9"
  }
 },
 "nbformat": 4,
 "nbformat_minor": 0
}
