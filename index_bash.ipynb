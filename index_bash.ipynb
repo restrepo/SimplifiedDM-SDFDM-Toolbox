{
 "cells": [
  {
   "cell_type": "markdown",
   "metadata": {},
   "source": [
    "# SARAH Toolbox\n",
    "## Collection of models to be run from a docker image\n",
    "Launch virtual docker image: \n",
    "[![Binder](http://mybinder.org/badge.svg)](http://mybinder.org/repo/restrepo/SimplifiedDM-SDFDM-Toolbox)\n",
    "\n",
    "[Jupyter home](./) (Files, New -> Terminal, etc)\n",
    "[![Home](http://www.incredimail.com/images/nav%20bar/home-icon.png)](./)\n",
    "\n",
    "### Highly recommended:\n",
    "[Run from a terminal](../terminals/1):\n",
    "[![T](http://mysitemyway.com/_shared/images/icons/full_color/terminal.png)](../terminals/1)\n",
    "## Implemented models\n",
    "Each model is to be run in a specific virtual machine. Follow the binder button in each github repo\n",
    "* `SARAH/Models/SSDM/` (for test purposes)\n",
    "* `SARAH/Models/SM/HighScale` (For RGE running: ./butler SM/HighScale) [Repo](https://github.com/restrepo/SM-Toolbox/)\n",
    "* `SARAH/Models/SimplifiedDM/DFDM` (This image)\n",
    "* `SARAH/Models/SimplifiedDM/SDFDM` (This image)\n",
    "\n",
    "## Instructions to compile the model\n",
    "In `SPHENO` and `micromegas`\n",
    "\n",
    "See possible analysis based on the models in  [./tests](./tests) folder.\n",
    "\n",
    "Below we define the model to be compiled:"
   ]
  },
  {
   "cell_type": "markdown",
   "metadata": {},
   "source": [
    "Choose between\n",
    "* SimplifiedDMDFDM: Doublet Fermion Dark matter\n",
    "* SimplifiedDMSDFDM: Singlet Doublet Fermion Dark matter"
   ]
  },
  {
   "cell_type": "code",
   "execution_count": 1,
   "metadata": {
    "collapsed": false
   },
   "outputs": [
    {
     "name": "stdout",
     "output_type": "stream",
     "text": []
    }
   ],
   "source": [
    "MODEL=SimplifiedDMSDFDM"
   ]
  },
  {
   "cell_type": "markdown",
   "metadata": {},
   "source": [
    "To better control in the outputs, it is recomended that the commands be executed [from a terminal](../terminals/1). Only possible errors are to be shown below"
   ]
  },
  {
   "cell_type": "code",
   "execution_count": 2,
   "metadata": {
    "collapsed": false
   },
   "outputs": [
    {
     "name": "stdout",
     "output_type": "stream",
     "text": []
    }
   ],
   "source": [
    "./compile_spheno_directly.sh $MODEL > /dev/null"
   ]
  },
  {
   "cell_type": "markdown",
   "metadata": {},
   "source": [
    "make a work dir"
   ]
  },
  {
   "cell_type": "code",
   "execution_count": 3,
   "metadata": {
    "collapsed": false
   },
   "outputs": [
    {
     "name": "stdout",
     "output_type": "stream",
     "text": []
    }
   ],
   "source": [
    "mkdir -p test_compilation\n",
    "cd test_compilation"
   ]
  },
  {
   "cell_type": "code",
   "execution_count": 4,
   "metadata": {
    "collapsed": false
   },
   "outputs": [
    {
     "name": "stdout",
     "output_type": "stream",
     "text": []
    }
   ],
   "source": [
    "LHAINPUT=../SPHENO/$MODEL/Input_Files/LesHouches.in.$MODEL\n",
    "if [ -f ../SARAH/Models/$MODEL/LesHouches.in.$MODEL ]; then\n",
    "   LHAINPUT=../SARAH/Models/$MODEL/LesHouches.in.$MODEL\n",
    "fi"
   ]
  },
  {
   "cell_type": "markdown",
   "metadata": {},
   "source": [
    "Run SPheno and generate LHA output file"
   ]
  },
  {
   "cell_type": "code",
   "execution_count": 5,
   "metadata": {
    "collapsed": false
   },
   "outputs": [
    {
     "name": "stdout",
     "output_type": "stream",
     "text": [
      " Calculating branching ratios and decay widths\r\n",
      " Calculating low energy constraints\r\n",
      " Writing output files\r\n",
      " Finished!\r\n"
     ]
    }
   ],
   "source": [
    "cp $LHAINPUT . #only a number of limited charactes accepted as input\n",
    "../SPHENO/bin/SPheno$MODEL LesHouches.in.$MODEL"
   ]
  },
  {
   "cell_type": "code",
   "execution_count": 6,
   "metadata": {
    "collapsed": false
   },
   "outputs": [
    {
     "name": "stdout",
     "output_type": "stream",
     "text": [
      "/home/restrepo/prog/toolbox/mybinders/SimplifiedDM/SDFDM/test_compilation\r\n"
     ]
    }
   ],
   "source": [
    "pwd"
   ]
  },
  {
   "cell_type": "markdown",
   "metadata": {},
   "source": [
    "Compile `micromegas` model"
   ]
  },
  {
   "cell_type": "code",
   "execution_count": 7,
   "metadata": {
    "collapsed": false
   },
   "outputs": [
    {
     "name": "stdout",
     "output_type": "stream",
     "text": [
      "sed: can't read bin/mkLibstat: No such file or directory\r\n",
      "sed: can't read bin/mkLibshared: No such file or directory\r\n",
      "sed: can't read bin/make_main: No such file or directory\r\n",
      "sed: can't read bin/subproc_cycle: No such file or directory\r\n",
      "dummy_output.c:43:8: warning: no previous prototype for ‘varAddress’ [-Wmissing-prototypes]\r\n",
      " REAL * varAddress(char *name) { return 0;}\r\n",
      "        ^\r\n",
      "dummy_output.c:43:8: warning: no previous prototype for ‘varAddress’ [-Wmissing-prototypes]\r\n",
      " REAL * varAddress(char *name) { return 0;}\r\n",
      "        ^\r\n",
      "dummy_output.c:43:8: warning: no previous prototype for ‘varAddress’ [-Wmissing-prototypes]\r\n",
      " REAL * varAddress(char *name) { return 0;}\r\n",
      "        ^\r\n",
      "dummy_output.c:43:8: warning: no previous prototype for ‘varAddress’ [-Wmissing-prototypes]\r\n",
      " REAL * varAddress(char *name) { return 0;}\r\n",
      "        ^\r\n",
      "event2pyth.c:37:7: warning: no previous prototype for ‘printAll’ [-Wmissing-prototypes]\r\n",
      " void  printAll(void)\r\n",
      "       ^\r\n",
      "ch_events.c:234:6: warning: no previous prototype for ‘closeevents_’ [-Wmissing-prototypes]\r\n",
      " void closeevents_(void)\r\n",
      "      ^\r\n"
     ]
    }
   ],
   "source": [
    "cd ../micromegas\n",
    "make > /dev/null\n",
    "make > /dev/null\n",
    "cd $MODEL\n",
    "make main=CalcOmega.cpp > /dev/null"
   ]
  },
  {
   "cell_type": "markdown",
   "metadata": {},
   "source": [
    "### Include Indirect Detection"
   ]
  },
  {
   "cell_type": "code",
   "execution_count": 8,
   "metadata": {
    "collapsed": false
   },
   "outputs": [
    {
     "name": "stdout",
     "output_type": "stream",
     "text": []
    }
   ],
   "source": [
    "micromegas_with_DDetection=CalcOmega_with_DDetection_MOv4.2.cpp \n",
    "IDmsg=\"======== Indirect Detection ========\"\n",
    "if [ -f \"$micromegas_with_DDetection\" ]  && [ ! \"$(grep \"$IDmsg\" \"$micromegas_with_DDetection\" )\" ]; then\n",
    "    tmpfile=$(mktemp /tmp/CalcOmega_UP.XXXXXX)\n",
    "    grep -B 1000 'fclose(channels);' \"$micromegas_with_DDetection\" | grep -v 'fclose(channels);' > \"$tmpfile\"\n",
    "    echo \"\n",
    "{\n",
    "  double Emin=1,/* Energy cut  in GeV   */  sigmaV;\n",
    "  double vcs_gz,vcs_gg;\n",
    "  char txt[100];\n",
    "  double SpA[NZ],SpE[NZ],SpP[NZ];\n",
    "  double FluxA[NZ],FluxE[NZ],FluxP[NZ];\n",
    "  double * SpNe=NULL,*SpNm=NULL,*SpNl=NULL;\n",
    "  double Etest=Mcdm/2;\n",
    "\n",
    "  printf(\\\"\\n$IDmsg\\n\\\"); \n",
    "  sigmaV=calcSpectrum(1+2+4,SpA,SpE,SpP,SpNe,SpNm,SpNl ,&err);\n",
    "\n",
    "}\" >> \"$tmpfile\"\n",
    "\n",
    "  grep -A 1000 'fclose(channels);' \"$micromegas_with_DDetection\" >> \"$tmpfile\"\n",
    "  mv \"$tmpfile\" \"$micromegas_with_DDetection\"\n",
    "else \n",
    "  echo \"$IDmsg\"\n",
    "  echo \"already included\"\n",
    "fi"
   ]
  },
  {
   "cell_type": "markdown",
   "metadata": {},
   "source": [
    "Run micromegas"
   ]
  },
  {
   "cell_type": "code",
   "execution_count": 9,
   "metadata": {
    "collapsed": false
   },
   "outputs": [
    {
     "name": "stdout",
     "output_type": "stream",
     "text": []
    }
   ],
   "source": [
    "make main=\"$micromegas_with_DDetection\" > /dev/null"
   ]
  },
  {
   "cell_type": "code",
   "execution_count": 10,
   "metadata": {
    "collapsed": false
   },
   "outputs": [
    {
     "name": "stdout",
     "output_type": "stream",
     "text": [
      "\r\n",
      "Masses of odd sector Particles:\r\n",
      "~Chi : MChi1 =   199.7 || ~Re  : MRe   =   200.0 || ~Chi : MChi2 =   200.0 \r\n",
      "~Chi : MChi3 =  2000.3 || \r\n",
      "PROCESS: ~Chi1,~Chi1->AllEven,1*x{h,g,A,Z,Wp,Wm,nu1,Nu1,nu2,Nu2,nu3,Nu3,d1,D1,d2,D2,d3,D3,u1,U1,u2,U2,u3,U3,e1,E1,e2,E2,e3,E3\r\n",
      "PROCESS: ~Chi1,~Chi2->AllEven,1*x{h,g,A,Z,Wp,Wm,nu1,Nu1,nu2,Nu2,nu3,Nu3,d1,D1,d2,D2,d3,D3,u1,U1,u2,U2,u3,U3,e1,E1,e2,E2,e3,E3\r\n",
      "PROCESS: ~Re,~Chi1->AllEven,1*x{h,g,A,Z,Wp,Wm,nu1,Nu1,nu2,Nu2,nu3,Nu3,d1,D1,d2,D2,d3,D3,u1,U1,u2,U2,u3,U3,e1,E1,e2,E2,e3,E3\r\n",
      "PROCESS: ~Re,~Re->AllEven,1*x{h,g,A,Z,Wp,Wm,nu1,Nu1,nu2,Nu2,nu3,Nu3,d1,D1,d2,D2,d3,D3,u1,U1,u2,U2,u3,U3,e1,E1,e2,E2,e3,E3\r\n",
      "PROCESS: ~Re,~re->AllEven,1*x{h,g,A,Z,Wp,Wm,nu1,Nu1,nu2,Nu2,nu3,Nu3,d1,D1,d2,D2,d3,D3,u1,U1,u2,U2,u3,U3,e1,E1,e2,E2,e3,E3\r\n",
      "PROCESS: ~Re,~Chi2->AllEven,1*x{h,g,A,Z,Wp,Wm,nu1,Nu1,nu2,Nu2,nu3,Nu3,d1,D1,d2,D2,d3,D3,u1,U1,u2,U2,u3,U3,e1,E1,e2,E2,e3,E3\r\n",
      "PROCESS: ~Chi2,~Chi2->AllEven,1*x{h,g,A,Z,Wp,Wm,nu1,Nu1,nu2,Nu2,nu3,Nu3,d1,D1,d2,D2,d3,D3,u1,U1,u2,U2,u3,U3,e1,E1,e2,E2,e3,E3\r\n",
      "Xf=2.75e+01 Omega h^2=1.66e-02\r\n",
      "\r\n",
      "# Channels which contribute to 1/(omega) more than 1%.\r\n",
      "# Relative contributions in % are displayed\r\n",
      "   13% ~Re ~Chi1 ->A Wm \r\n",
      "   10% ~Re ~Chi1 ->Z Wm \r\n",
      "    9% ~Re ~re ->u1 U1 \r\n",
      "    9% ~Re ~re ->u2 U2 \r\n",
      "    7% ~Chi1 ~Chi1 ->Wp Wm \r\n",
      "    6% ~Re ~re ->d1 D1 \r\n",
      "    6% ~Re ~re ->d2 D2 \r\n",
      "    6% ~Re ~re ->d3 D3 \r\n",
      "    5% ~Re ~re ->u3 U3 \r\n",
      "    4% ~Re ~re ->e1 E1 \r\n",
      "    4% ~Re ~re ->e2 E2 \r\n",
      "    4% ~Re ~re ->e3 E3 \r\n",
      "    4% ~Re ~Re ->Wm Wm \r\n",
      "    3% ~Re ~re ->A A \r\n",
      "    3% ~Re ~re ->A Z \r\n",
      "    2% ~Re ~Chi1 ->d3 U3 \r\n",
      "    1% ~Re ~re ->nu1 Nu1 \r\n",
      "    1% ~Re ~re ->nu2 Nu2 \r\n",
      "    1% ~Re ~re ->nu3 Nu3 \r\n",
      "\r\n",
      "==== Calculation of CDM-nucleons amplitudes  =====\r\n",
      "         TREE LEVEL\r\n",
      "PROCESS: QUARKS,~Chi1->QUARKS,~Chi1{d1,D1,d2,D2,d3,D3,u1,U1,u2,U2,u3,U3\r\n",
      "Delete diagrams with _S0_!=1,_V5_,A\r\n",
      "PROCESS: QUARKS,~Chi1->QUARKS,~Chi1{d1,D1,d2,D2,u1,U1\r\n",
      "Delete diagrams with _V5_!=1,_S0_,A\r\n",
      "CDM-nucleon micrOMEGAs amplitudes:\r\n",
      "proton:  SI  -9.888E-11  SD  0.000E+00\r\n",
      "neutron: SI  -9.987E-11  SD  0.000E+00\r\n",
      "         BOX DIAGRAMS\r\n",
      "CDM-nucleon micrOMEGAs amplitudes:\r\n",
      "proton:  SI  -9.888E-11  SD  0.000E+00\r\n",
      "neutron: SI  -9.987E-11  SD  0.000E+00\r\n",
      "CDM-nucleon cross sections[pb]:\r\n",
      " proton  SI 4.234E-12  SD 0.000E+00\r\n",
      " neutron SI 4.319E-12  SD 0.000E+00\r\n",
      "\r\n",
      "======== Direct Detection ========\r\n",
      "73Ge: Total number of events=9.86E-07 /day/kg\r\n",
      "Number of events in 10 - 50 KeV region=5.34E-07 /day/kg\r\n",
      "131Xe: Total number of events=1.66E-06 /day/kg\r\n",
      "Number of events in 10 - 50 KeV region=8.27E-07 /day/kg\r\n",
      "23Na: Total number of events=9.85E-08 /day/kg\r\n",
      "Number of events in 10 - 50 KeV region=5.38E-08 /day/kg\r\n",
      "I127: Total number of events=1.62E-06 /day/kg\r\n",
      "Number of events in 10 - 50 KeV region=8.26E-07 /day/kg\r\n",
      "\r\n",
      "======== Indirect Detection ========\r\n",
      "    Channel          vcs[cm^3/s]\r\n",
      "PROCESS: h->2*x\r\n",
      "PROCESS: ~Chi1,~Chi1->Wp,e1,Nu1\r\n",
      "Delete diagrams with Wp!=2\r\n",
      "PROCESS: ~Chi1,~Chi1->Wp,Wm,A\r\n",
      "==================================\r\n",
      " annihilation cross section 1.28E-25 cm^3/s\r\n",
      " contribution of processes\r\n",
      "  ~Chi1,~Chi1 -> Wp Wm  9.57E-01\r\n",
      "  ~Chi1,~Chi1 -> A Wp   4.29E-02\r\n"
     ]
    }
   ],
   "source": [
    "cd ../../test_compilation\n",
    "../micromegas/$MODEL/$(basename \"$micromegas_with_DDetection\" .cpp) SPheno.spc.$MODEL "
   ]
  },
  {
   "cell_type": "markdown",
   "metadata": {},
   "source": [
    "##  Madgraph\n",
    "Be sure to have:\n",
    "\n",
    "`520 0.              # Write effective Higgs couplings (HiggsBounds blocks): put 0 to use file with MadGraph!`\n",
    "\n",
    "in input file"
   ]
  },
  {
   "cell_type": "markdown",
   "metadata": {},
   "source": [
    "Install MG5_aMC_v2_3_3 and cp the model there"
   ]
  },
  {
   "cell_type": "code",
   "execution_count": 13,
   "metadata": {
    "collapsed": false
   },
   "outputs": [
    {
     "name": "stdout",
     "output_type": "stream",
     "text": []
    }
   ],
   "source": [
    "cd ..\n",
    "cp -a madgraph/models/SimplifiedDMSDFDM MG5_aMC_v2_3_3/models"
   ]
  },
  {
   "cell_type": "markdown",
   "metadata": {},
   "source": [
    "Install Pythia: cd MG5_aMC_v2_3_3 -> ./bin/mg5_aMC"
   ]
  },
  {
   "cell_type": "markdown",
   "metadata": {},
   "source": [
    "* \\>n\n",
    "* MG5_aMC\\>install pythia-pgs\n",
    "* MG5_aMC\\>import model SimplifiedDMSDFDM --modelname\n",
    "* MG5_aMC\\>check p p \\> chi1 chi1\n",
    "* exit"
   ]
  },
  {
   "cell_type": "code",
   "execution_count": null,
   "metadata": {
    "collapsed": true
   },
   "outputs": [],
   "source": [
    "source /home/gapalaci/HEP_tools/root/bin/thisroot.sh\n",
    " ./bin/mg5_aMC"
   ]
  },
  {
   "cell_type": "markdown",
   "metadata": {},
   "source": [
    "* MG5_aMC\\>install Delphes"
   ]
  },
  {
   "cell_type": "code",
   "execution_count": 20,
   "metadata": {
    "collapsed": false
   },
   "outputs": [
    {
     "name": "stdout",
     "output_type": "stream",
     "text": [
      "/home/restrepo/prog/toolbox/mybinders/SimplifiedDM/SDFDM\r\n"
     ]
    }
   ],
   "source": [
    "pwd"
   ]
  },
  {
   "cell_type": "code",
   "execution_count": 22,
   "metadata": {
    "collapsed": false
   },
   "outputs": [
    {
     "name": "stdout",
     "output_type": "stream",
     "text": []
    }
   ],
   "source": [
    "cd test_compilation\n",
    "../MG5_aMC_v2_3_3/bin/mg5_aMC benchmark_MD.txt"
   ]
  },
  {
   "cell_type": "code",
   "execution_count": null,
   "metadata": {
    "collapsed": true
   },
   "outputs": [],
   "source": [
    "echo \"pythia run_01\n",
    "3\n",
    "0\n",
    "\" > RunPythiaDelphes.dat\n",
    "./tmp/check6/bin/madevent RunPythiaDelphes.dat "
   ]
  },
  {
   "cell_type": "markdown",
   "metadata": {
    "collapsed": true
   },
   "source": [
    "## Go now to: \n",
    "* [main ipyrhon file](./tests/SimplifiedDM-SDFDM.ipynb) → SimplifiedDMSDFDM: Singlet Doublet Fermion Dark matter\n",
    "\n",
    "Or, maybe not fully updated:\n",
    "* [main ipyrhon file](./tests/SimplifiedDM-DFDM.ipynb) → SimplifiedDMDFDM: Doublet Fermion Dark matter"
   ]
  },
  {
   "cell_type": "code",
   "execution_count": null,
   "metadata": {
    "collapsed": true
   },
   "outputs": [],
   "source": []
  }
 ],
 "metadata": {
  "kernelspec": {
   "display_name": "Bash",
   "language": "bash",
   "name": "bash"
  },
  "language_info": {
   "codemirror_mode": "shell",
   "file_extension": ".sh",
   "mimetype": "text/x-sh",
   "name": "bash"
  }
 },
 "nbformat": 4,
 "nbformat_minor": 0
}
